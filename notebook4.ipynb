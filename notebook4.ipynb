{
 "cells": [
  {
   "cell_type": "markdown",
   "metadata": {
    "slideshow": {
     "slide_type": "slide"
    }
   },
   "source": [
    "# Overview of Notebook 4\n",
    "* Statsmodels\n",
    "* Preliminaries\n",
    "* What even is machine learning?\n",
    "* Machine learning in Python: why scikit-learn?\n",
    "* Feature extraction\n",
    "* Feature selection\n",
    "* Estimation\n",
    "* Evaluation\n",
    "* Automation\n",
    "* A brief look at deep learning"
   ]
  },
  {
   "cell_type": "code",
   "execution_count": 7,
   "metadata": {
    "slideshow": {
     "slide_type": "subslide"
    }
   },
   "outputs": [],
   "source": [
    "# We'll load scikit-learn modules as we go,\n",
    "# so we can see what we're using.\n",
    "import pandas as pd\n",
    "import numpy as np\n",
    "import seaborn as sns\n",
    "import matplotlib.pyplot as plt\n",
    "import statsmodels.api as sm\n",
    "%matplotlib inline"
   ]
  },
  {
   "cell_type": "code",
   "execution_count": 8,
   "metadata": {
    "slideshow": {
     "slide_type": "subslide"
    }
   },
   "outputs": [
    {
     "data": {
      "text/html": [
       "<div>\n",
       "<style scoped>\n",
       "    .dataframe tbody tr th:only-of-type {\n",
       "        vertical-align: middle;\n",
       "    }\n",
       "\n",
       "    .dataframe tbody tr th {\n",
       "        vertical-align: top;\n",
       "    }\n",
       "\n",
       "    .dataframe thead th {\n",
       "        text-align: right;\n",
       "    }\n",
       "</style>\n",
       "<table border=\"1\" class=\"dataframe\">\n",
       "  <thead>\n",
       "    <tr style=\"text-align: right;\">\n",
       "      <th></th>\n",
       "      <th>id</th>\n",
       "      <th>name</th>\n",
       "      <th>datetime</th>\n",
       "      <th>monthyear</th>\n",
       "      <th>date of birth</th>\n",
       "      <th>outcome</th>\n",
       "      <th>outcome_subtype</th>\n",
       "      <th>animal</th>\n",
       "      <th>sex_string</th>\n",
       "      <th>age_string</th>\n",
       "      <th>...</th>\n",
       "      <th>sex</th>\n",
       "      <th>sterilized</th>\n",
       "      <th>first_color</th>\n",
       "      <th>mixed_color</th>\n",
       "      <th>merge_key</th>\n",
       "      <th>breed_name</th>\n",
       "      <th>min_height</th>\n",
       "      <th>max_height</th>\n",
       "      <th>min_weight</th>\n",
       "      <th>max_weight</th>\n",
       "    </tr>\n",
       "  </thead>\n",
       "  <tbody>\n",
       "    <tr>\n",
       "      <th>0</th>\n",
       "      <td>A006100</td>\n",
       "      <td>Scamp</td>\n",
       "      <td>2017-12-07 00:00:00</td>\n",
       "      <td>12/07/2017 12:00:00 AM</td>\n",
       "      <td>07/09/2007</td>\n",
       "      <td>Return to Owner</td>\n",
       "      <td>NaN</td>\n",
       "      <td>Dog</td>\n",
       "      <td>Neutered Male</td>\n",
       "      <td>10 years</td>\n",
       "      <td>...</td>\n",
       "      <td>0.0</td>\n",
       "      <td>1.0</td>\n",
       "      <td>Yellow</td>\n",
       "      <td>1</td>\n",
       "      <td>Spinone Italiano</td>\n",
       "      <td>NaN</td>\n",
       "      <td>NaN</td>\n",
       "      <td>NaN</td>\n",
       "      <td>NaN</td>\n",
       "      <td>NaN</td>\n",
       "    </tr>\n",
       "    <tr>\n",
       "      <th>1</th>\n",
       "      <td>A047759</td>\n",
       "      <td>Oreo</td>\n",
       "      <td>2014-04-07 15:12:00</td>\n",
       "      <td>04/07/2014 03:12:00 PM</td>\n",
       "      <td>04/02/2004</td>\n",
       "      <td>Transfer</td>\n",
       "      <td>Partner</td>\n",
       "      <td>Dog</td>\n",
       "      <td>Neutered Male</td>\n",
       "      <td>10 years</td>\n",
       "      <td>...</td>\n",
       "      <td>0.0</td>\n",
       "      <td>1.0</td>\n",
       "      <td>Tricolor</td>\n",
       "      <td>0</td>\n",
       "      <td>Dachshund</td>\n",
       "      <td>Dachshund</td>\n",
       "      <td>5.0</td>\n",
       "      <td>11.0</td>\n",
       "      <td>17.0</td>\n",
       "      <td>32.0</td>\n",
       "    </tr>\n",
       "    <tr>\n",
       "      <th>2</th>\n",
       "      <td>A134067</td>\n",
       "      <td>Bandit</td>\n",
       "      <td>2013-11-16 11:54:00</td>\n",
       "      <td>11/16/2013 11:54:00 AM</td>\n",
       "      <td>10/16/1997</td>\n",
       "      <td>Return to Owner</td>\n",
       "      <td>NaN</td>\n",
       "      <td>Dog</td>\n",
       "      <td>Neutered Male</td>\n",
       "      <td>16 years</td>\n",
       "      <td>...</td>\n",
       "      <td>0.0</td>\n",
       "      <td>1.0</td>\n",
       "      <td>Brown</td>\n",
       "      <td>1</td>\n",
       "      <td>Shetland Sheepdog</td>\n",
       "      <td>Shetland Sheepdog</td>\n",
       "      <td>13.0</td>\n",
       "      <td>14.0</td>\n",
       "      <td>12.0</td>\n",
       "      <td>24.0</td>\n",
       "    </tr>\n",
       "    <tr>\n",
       "      <th>3</th>\n",
       "      <td>A141142</td>\n",
       "      <td>Bettie</td>\n",
       "      <td>2013-11-17 11:40:00</td>\n",
       "      <td>11/17/2013 11:40:00 AM</td>\n",
       "      <td>06/01/1998</td>\n",
       "      <td>Return to Owner</td>\n",
       "      <td>NaN</td>\n",
       "      <td>Dog</td>\n",
       "      <td>Spayed Female</td>\n",
       "      <td>15 years</td>\n",
       "      <td>...</td>\n",
       "      <td>1.0</td>\n",
       "      <td>1.0</td>\n",
       "      <td>Black</td>\n",
       "      <td>1</td>\n",
       "      <td>Labrador Retriever</td>\n",
       "      <td>Labrador Retriever</td>\n",
       "      <td>21.0</td>\n",
       "      <td>24.0</td>\n",
       "      <td>49.0</td>\n",
       "      <td>77.0</td>\n",
       "    </tr>\n",
       "    <tr>\n",
       "      <th>4</th>\n",
       "      <td>A163459</td>\n",
       "      <td>Sasha</td>\n",
       "      <td>2014-11-14 19:28:00</td>\n",
       "      <td>11/14/2014 07:28:00 PM</td>\n",
       "      <td>10/19/1999</td>\n",
       "      <td>Return to Owner</td>\n",
       "      <td>NaN</td>\n",
       "      <td>Dog</td>\n",
       "      <td>Intact Female</td>\n",
       "      <td>15 years</td>\n",
       "      <td>...</td>\n",
       "      <td>1.0</td>\n",
       "      <td>0.0</td>\n",
       "      <td>Black</td>\n",
       "      <td>1</td>\n",
       "      <td>Miniature Schnauzer</td>\n",
       "      <td>NaN</td>\n",
       "      <td>NaN</td>\n",
       "      <td>NaN</td>\n",
       "      <td>NaN</td>\n",
       "      <td>NaN</td>\n",
       "    </tr>\n",
       "  </tbody>\n",
       "</table>\n",
       "<p>5 rows × 27 columns</p>\n",
       "</div>"
      ],
      "text/plain": [
       "        id    name             datetime               monthyear date of birth  \\\n",
       "0  A006100   Scamp  2017-12-07 00:00:00  12/07/2017 12:00:00 AM    07/09/2007   \n",
       "1  A047759    Oreo  2014-04-07 15:12:00  04/07/2014 03:12:00 PM    04/02/2004   \n",
       "2  A134067  Bandit  2013-11-16 11:54:00  11/16/2013 11:54:00 AM    10/16/1997   \n",
       "3  A141142  Bettie  2013-11-17 11:40:00  11/17/2013 11:40:00 AM    06/01/1998   \n",
       "4  A163459   Sasha  2014-11-14 19:28:00  11/14/2014 07:28:00 PM    10/19/1999   \n",
       "\n",
       "           outcome outcome_subtype animal     sex_string age_string  ...  sex  \\\n",
       "0  Return to Owner             NaN    Dog  Neutered Male   10 years  ...  0.0   \n",
       "1         Transfer         Partner    Dog  Neutered Male   10 years  ...  0.0   \n",
       "2  Return to Owner             NaN    Dog  Neutered Male   16 years  ...  0.0   \n",
       "3  Return to Owner             NaN    Dog  Spayed Female   15 years  ...  1.0   \n",
       "4  Return to Owner             NaN    Dog  Intact Female   15 years  ...  1.0   \n",
       "\n",
       "  sterilized  first_color  mixed_color            merge_key  \\\n",
       "0        1.0       Yellow            1     Spinone Italiano   \n",
       "1        1.0     Tricolor            0            Dachshund   \n",
       "2        1.0        Brown            1    Shetland Sheepdog   \n",
       "3        1.0        Black            1   Labrador Retriever   \n",
       "4        0.0        Black            1  Miniature Schnauzer   \n",
       "\n",
       "           breed_name  min_height  max_height  min_weight max_weight  \n",
       "0                 NaN         NaN         NaN         NaN        NaN  \n",
       "1           Dachshund         5.0        11.0        17.0       32.0  \n",
       "2   Shetland Sheepdog        13.0        14.0        12.0       24.0  \n",
       "3  Labrador Retriever        21.0        24.0        49.0       77.0  \n",
       "4                 NaN         NaN         NaN         NaN        NaN  \n",
       "\n",
       "[5 rows x 27 columns]"
      ]
     },
     "execution_count": 8,
     "metadata": {},
     "output_type": "execute_result"
    }
   ],
   "source": [
    "# You may need to modify the path to the file\n",
    "# depending on where you put it on your computer.\n",
    "data = pd.read_csv('preprocessed_data.csv')\n",
    "data[:5]"
   ]
  },
  {
   "cell_type": "markdown",
   "metadata": {},
   "source": [
    "## [Statsmodels](http://statsmodels.sourceforge.net/devel/index.html#)\n",
    "* Python's answer to base R\n",
    "* It's not a great answer\n",
    "* But it's getting there, and things [move quickly](https://github.com/statsmodels/statsmodels/issues)\n",
    "* For common procedures, functionality is very similar to R"
   ]
  },
  {
   "cell_type": "markdown",
   "metadata": {},
   "source": [
    "### What's in statsmodels\n",
    "* Basic tests\n",
    "* Linear models\n",
    "* Diagnostics and specification tests\n",
    "* Power calculations\n",
    "* Multiple comparisons correction\n",
    "* Time-series analysis\n",
    "* Experimental support for many other things (e.g. mixed-effects models)"
   ]
  },
  {
   "cell_type": "markdown",
   "metadata": {},
   "source": [
    "### Statsmodel examples\n",
    "* Let's build a model to predict whether an animal is euthanized or not\n",
    "* We'll use logistic regression using the formula interface\n",
    "* We'll start by predicting euthanasia from just age, sex, and sterilization"
   ]
  },
  {
   "cell_type": "code",
   "execution_count": 9,
   "metadata": {},
   "outputs": [],
   "source": [
    "data = pd.read_csv('preprocessed_data.csv')"
   ]
  },
  {
   "cell_type": "code",
   "execution_count": 10,
   "metadata": {},
   "outputs": [
    {
     "name": "stdout",
     "output_type": "stream",
     "text": [
      "Kept 67565 observations.\n",
      "Optimization terminated successfully.\n",
      "         Current function value: 0.157950\n",
      "         Iterations 8\n"
     ]
    }
   ],
   "source": [
    "import statsmodels.formula.api as smf\n",
    "data['outcome_subtype'] = data['outcome_subtype'].fillna('Unknown')\n",
    "# Drop missing values from analysis\n",
    "tmp_data = data[['outcome', 'age', 'sex', 'sterilized']].dropna()\n",
    "print(\"Kept {} observations.\".format(len(tmp_data)))\n",
    "\n",
    "# # The dependent variable: whether the animal was euthanized\n",
    "tmp_data['y'] = (tmp_data['outcome'] == 'Euthanasia').astype(int)\n",
    "\n",
    "# Specify the model with a formula\n",
    "model = smf.logit('y ~ age + sex * sterilized', data=tmp_data)\n",
    "\n",
    "# Fit model and save result\n",
    "result = model.fit()"
   ]
  },
  {
   "cell_type": "code",
   "execution_count": 11,
   "metadata": {},
   "outputs": [
    {
     "data": {
      "text/html": [
       "<table class=\"simpletable\">\n",
       "<caption>Logit Regression Results</caption>\n",
       "<tr>\n",
       "  <th>Dep. Variable:</th>           <td>y</td>        <th>  No. Observations:  </th>  <td> 67565</td> \n",
       "</tr>\n",
       "<tr>\n",
       "  <th>Model:</th>                 <td>Logit</td>      <th>  Df Residuals:      </th>  <td> 67560</td> \n",
       "</tr>\n",
       "<tr>\n",
       "  <th>Method:</th>                 <td>MLE</td>       <th>  Df Model:          </th>  <td>     4</td> \n",
       "</tr>\n",
       "<tr>\n",
       "  <th>Date:</th>            <td>Wed, 05 Apr 2023</td> <th>  Pseudo R-squ.:     </th>  <td>0.1165</td> \n",
       "</tr>\n",
       "<tr>\n",
       "  <th>Time:</th>                <td>14:31:27</td>     <th>  Log-Likelihood:    </th> <td> -10672.</td>\n",
       "</tr>\n",
       "<tr>\n",
       "  <th>converged:</th>             <td>True</td>       <th>  LL-Null:           </th> <td> -12079.</td>\n",
       "</tr>\n",
       "<tr>\n",
       "  <th>Covariance Type:</th>     <td>nonrobust</td>    <th>  LLR p-value:       </th>  <td> 0.000</td> \n",
       "</tr>\n",
       "</table>\n",
       "<table class=\"simpletable\">\n",
       "<tr>\n",
       "         <td></td>           <th>coef</th>     <th>std err</th>      <th>z</th>      <th>P>|z|</th>  <th>[0.025</th>    <th>0.975]</th>  \n",
       "</tr>\n",
       "<tr>\n",
       "  <th>Intercept</th>      <td>   -2.5099</td> <td>    0.036</td> <td>  -68.968</td> <td> 0.000</td> <td>   -2.581</td> <td>   -2.439</td>\n",
       "</tr>\n",
       "<tr>\n",
       "  <th>age</th>            <td>    0.0146</td> <td>    0.000</td> <td>   37.566</td> <td> 0.000</td> <td>    0.014</td> <td>    0.015</td>\n",
       "</tr>\n",
       "<tr>\n",
       "  <th>sex</th>            <td>   -0.1828</td> <td>    0.051</td> <td>   -3.601</td> <td> 0.000</td> <td>   -0.282</td> <td>   -0.083</td>\n",
       "</tr>\n",
       "<tr>\n",
       "  <th>sterilized</th>     <td>   -1.7178</td> <td>    0.053</td> <td>  -32.216</td> <td> 0.000</td> <td>   -1.822</td> <td>   -1.613</td>\n",
       "</tr>\n",
       "<tr>\n",
       "  <th>sex:sterilized</th> <td>   -0.1890</td> <td>    0.081</td> <td>   -2.343</td> <td> 0.019</td> <td>   -0.347</td> <td>   -0.031</td>\n",
       "</tr>\n",
       "</table>"
      ],
      "text/plain": [
       "<class 'statsmodels.iolib.summary.Summary'>\n",
       "\"\"\"\n",
       "                           Logit Regression Results                           \n",
       "==============================================================================\n",
       "Dep. Variable:                      y   No. Observations:                67565\n",
       "Model:                          Logit   Df Residuals:                    67560\n",
       "Method:                           MLE   Df Model:                            4\n",
       "Date:                Wed, 05 Apr 2023   Pseudo R-squ.:                  0.1165\n",
       "Time:                        14:31:27   Log-Likelihood:                -10672.\n",
       "converged:                       True   LL-Null:                       -12079.\n",
       "Covariance Type:            nonrobust   LLR p-value:                     0.000\n",
       "==================================================================================\n",
       "                     coef    std err          z      P>|z|      [0.025      0.975]\n",
       "----------------------------------------------------------------------------------\n",
       "Intercept         -2.5099      0.036    -68.968      0.000      -2.581      -2.439\n",
       "age                0.0146      0.000     37.566      0.000       0.014       0.015\n",
       "sex               -0.1828      0.051     -3.601      0.000      -0.282      -0.083\n",
       "sterilized        -1.7178      0.053    -32.216      0.000      -1.822      -1.613\n",
       "sex:sterilized    -0.1890      0.081     -2.343      0.019      -0.347      -0.031\n",
       "==================================================================================\n",
       "\"\"\""
      ]
     },
     "execution_count": 11,
     "metadata": {},
     "output_type": "execute_result"
    }
   ],
   "source": [
    "# Print a user-friendly summary\n",
    "result.summary()"
   ]
  },
  {
   "cell_type": "markdown",
   "metadata": {},
   "source": [
    "### Adding categorical predictors\n",
    "* Old animals are more likely to be euthanized\n",
    "* Is this explained by differences in species, breed, etc.?\n",
    "* We can add categorical predictors either by:\n",
    "    * Constructing the dummy variables ourselves (e.g., with pandas)\n",
    "    * Using the patsy module to do it in an R-like way"
   ]
  },
  {
   "cell_type": "markdown",
   "metadata": {},
   "source": [
    "## Reload the data"
   ]
  },
  {
   "cell_type": "code",
   "execution_count": 12,
   "metadata": {},
   "outputs": [
    {
     "data": {
      "text/html": [
       "<div>\n",
       "<style scoped>\n",
       "    .dataframe tbody tr th:only-of-type {\n",
       "        vertical-align: middle;\n",
       "    }\n",
       "\n",
       "    .dataframe tbody tr th {\n",
       "        vertical-align: top;\n",
       "    }\n",
       "\n",
       "    .dataframe thead th {\n",
       "        text-align: right;\n",
       "    }\n",
       "</style>\n",
       "<table border=\"1\" class=\"dataframe\">\n",
       "  <thead>\n",
       "    <tr style=\"text-align: right;\">\n",
       "      <th></th>\n",
       "      <th>id</th>\n",
       "      <th>name</th>\n",
       "      <th>datetime</th>\n",
       "      <th>monthyear</th>\n",
       "      <th>date of birth</th>\n",
       "      <th>outcome</th>\n",
       "      <th>outcome_subtype</th>\n",
       "      <th>animal</th>\n",
       "      <th>sex_string</th>\n",
       "      <th>age_string</th>\n",
       "      <th>...</th>\n",
       "      <th>sex</th>\n",
       "      <th>sterilized</th>\n",
       "      <th>first_color</th>\n",
       "      <th>mixed_color</th>\n",
       "      <th>merge_key</th>\n",
       "      <th>breed_name</th>\n",
       "      <th>min_height</th>\n",
       "      <th>max_height</th>\n",
       "      <th>min_weight</th>\n",
       "      <th>max_weight</th>\n",
       "    </tr>\n",
       "  </thead>\n",
       "  <tbody>\n",
       "    <tr>\n",
       "      <th>0</th>\n",
       "      <td>A006100</td>\n",
       "      <td>Scamp</td>\n",
       "      <td>2017-12-07 00:00:00</td>\n",
       "      <td>12/07/2017 12:00:00 AM</td>\n",
       "      <td>07/09/2007</td>\n",
       "      <td>Return to Owner</td>\n",
       "      <td>NaN</td>\n",
       "      <td>Dog</td>\n",
       "      <td>Neutered Male</td>\n",
       "      <td>10 years</td>\n",
       "      <td>...</td>\n",
       "      <td>0.0</td>\n",
       "      <td>1.0</td>\n",
       "      <td>Yellow</td>\n",
       "      <td>1</td>\n",
       "      <td>Spinone Italiano</td>\n",
       "      <td>NaN</td>\n",
       "      <td>NaN</td>\n",
       "      <td>NaN</td>\n",
       "      <td>NaN</td>\n",
       "      <td>NaN</td>\n",
       "    </tr>\n",
       "    <tr>\n",
       "      <th>1</th>\n",
       "      <td>A047759</td>\n",
       "      <td>Oreo</td>\n",
       "      <td>2014-04-07 15:12:00</td>\n",
       "      <td>04/07/2014 03:12:00 PM</td>\n",
       "      <td>04/02/2004</td>\n",
       "      <td>Transfer</td>\n",
       "      <td>Partner</td>\n",
       "      <td>Dog</td>\n",
       "      <td>Neutered Male</td>\n",
       "      <td>10 years</td>\n",
       "      <td>...</td>\n",
       "      <td>0.0</td>\n",
       "      <td>1.0</td>\n",
       "      <td>Tricolor</td>\n",
       "      <td>0</td>\n",
       "      <td>Dachshund</td>\n",
       "      <td>Dachshund</td>\n",
       "      <td>5.0</td>\n",
       "      <td>11.0</td>\n",
       "      <td>17.0</td>\n",
       "      <td>32.0</td>\n",
       "    </tr>\n",
       "    <tr>\n",
       "      <th>2</th>\n",
       "      <td>A134067</td>\n",
       "      <td>Bandit</td>\n",
       "      <td>2013-11-16 11:54:00</td>\n",
       "      <td>11/16/2013 11:54:00 AM</td>\n",
       "      <td>10/16/1997</td>\n",
       "      <td>Return to Owner</td>\n",
       "      <td>NaN</td>\n",
       "      <td>Dog</td>\n",
       "      <td>Neutered Male</td>\n",
       "      <td>16 years</td>\n",
       "      <td>...</td>\n",
       "      <td>0.0</td>\n",
       "      <td>1.0</td>\n",
       "      <td>Brown</td>\n",
       "      <td>1</td>\n",
       "      <td>Shetland Sheepdog</td>\n",
       "      <td>Shetland Sheepdog</td>\n",
       "      <td>13.0</td>\n",
       "      <td>14.0</td>\n",
       "      <td>12.0</td>\n",
       "      <td>24.0</td>\n",
       "    </tr>\n",
       "    <tr>\n",
       "      <th>3</th>\n",
       "      <td>A141142</td>\n",
       "      <td>Bettie</td>\n",
       "      <td>2013-11-17 11:40:00</td>\n",
       "      <td>11/17/2013 11:40:00 AM</td>\n",
       "      <td>06/01/1998</td>\n",
       "      <td>Return to Owner</td>\n",
       "      <td>NaN</td>\n",
       "      <td>Dog</td>\n",
       "      <td>Spayed Female</td>\n",
       "      <td>15 years</td>\n",
       "      <td>...</td>\n",
       "      <td>1.0</td>\n",
       "      <td>1.0</td>\n",
       "      <td>Black</td>\n",
       "      <td>1</td>\n",
       "      <td>Labrador Retriever</td>\n",
       "      <td>Labrador Retriever</td>\n",
       "      <td>21.0</td>\n",
       "      <td>24.0</td>\n",
       "      <td>49.0</td>\n",
       "      <td>77.0</td>\n",
       "    </tr>\n",
       "    <tr>\n",
       "      <th>4</th>\n",
       "      <td>A163459</td>\n",
       "      <td>Sasha</td>\n",
       "      <td>2014-11-14 19:28:00</td>\n",
       "      <td>11/14/2014 07:28:00 PM</td>\n",
       "      <td>10/19/1999</td>\n",
       "      <td>Return to Owner</td>\n",
       "      <td>NaN</td>\n",
       "      <td>Dog</td>\n",
       "      <td>Intact Female</td>\n",
       "      <td>15 years</td>\n",
       "      <td>...</td>\n",
       "      <td>1.0</td>\n",
       "      <td>0.0</td>\n",
       "      <td>Black</td>\n",
       "      <td>1</td>\n",
       "      <td>Miniature Schnauzer</td>\n",
       "      <td>NaN</td>\n",
       "      <td>NaN</td>\n",
       "      <td>NaN</td>\n",
       "      <td>NaN</td>\n",
       "      <td>NaN</td>\n",
       "    </tr>\n",
       "  </tbody>\n",
       "</table>\n",
       "<p>5 rows × 27 columns</p>\n",
       "</div>"
      ],
      "text/plain": [
       "        id    name             datetime               monthyear date of birth  \\\n",
       "0  A006100   Scamp  2017-12-07 00:00:00  12/07/2017 12:00:00 AM    07/09/2007   \n",
       "1  A047759    Oreo  2014-04-07 15:12:00  04/07/2014 03:12:00 PM    04/02/2004   \n",
       "2  A134067  Bandit  2013-11-16 11:54:00  11/16/2013 11:54:00 AM    10/16/1997   \n",
       "3  A141142  Bettie  2013-11-17 11:40:00  11/17/2013 11:40:00 AM    06/01/1998   \n",
       "4  A163459   Sasha  2014-11-14 19:28:00  11/14/2014 07:28:00 PM    10/19/1999   \n",
       "\n",
       "           outcome outcome_subtype animal     sex_string age_string  ...  sex  \\\n",
       "0  Return to Owner             NaN    Dog  Neutered Male   10 years  ...  0.0   \n",
       "1         Transfer         Partner    Dog  Neutered Male   10 years  ...  0.0   \n",
       "2  Return to Owner             NaN    Dog  Neutered Male   16 years  ...  0.0   \n",
       "3  Return to Owner             NaN    Dog  Spayed Female   15 years  ...  1.0   \n",
       "4  Return to Owner             NaN    Dog  Intact Female   15 years  ...  1.0   \n",
       "\n",
       "  sterilized  first_color  mixed_color            merge_key  \\\n",
       "0        1.0       Yellow            1     Spinone Italiano   \n",
       "1        1.0     Tricolor            0            Dachshund   \n",
       "2        1.0        Brown            1    Shetland Sheepdog   \n",
       "3        1.0        Black            1   Labrador Retriever   \n",
       "4        0.0        Black            1  Miniature Schnauzer   \n",
       "\n",
       "           breed_name  min_height  max_height  min_weight max_weight  \n",
       "0                 NaN         NaN         NaN         NaN        NaN  \n",
       "1           Dachshund         5.0        11.0        17.0       32.0  \n",
       "2   Shetland Sheepdog        13.0        14.0        12.0       24.0  \n",
       "3  Labrador Retriever        21.0        24.0        49.0       77.0  \n",
       "4                 NaN         NaN         NaN         NaN        NaN  \n",
       "\n",
       "[5 rows x 27 columns]"
      ]
     },
     "execution_count": 12,
     "metadata": {},
     "output_type": "execute_result"
    }
   ],
   "source": [
    "data = pd.read_csv('preprocessed_data.csv')\n",
    "data[:5]"
   ]
  },
  {
   "cell_type": "code",
   "execution_count": 13,
   "metadata": {},
   "outputs": [
    {
     "data": {
      "text/html": [
       "<div>\n",
       "<style scoped>\n",
       "    .dataframe tbody tr th:only-of-type {\n",
       "        vertical-align: middle;\n",
       "    }\n",
       "\n",
       "    .dataframe tbody tr th {\n",
       "        vertical-align: top;\n",
       "    }\n",
       "\n",
       "    .dataframe thead th {\n",
       "        text-align: right;\n",
       "    }\n",
       "</style>\n",
       "<table border=\"1\" class=\"dataframe\">\n",
       "  <thead>\n",
       "    <tr style=\"text-align: right;\">\n",
       "      <th></th>\n",
       "      <th>index</th>\n",
       "      <th>id</th>\n",
       "      <th>name</th>\n",
       "      <th>datetime</th>\n",
       "      <th>monthyear</th>\n",
       "      <th>date of birth</th>\n",
       "      <th>outcome</th>\n",
       "      <th>outcome_subtype</th>\n",
       "      <th>animal</th>\n",
       "      <th>sex_string</th>\n",
       "      <th>...</th>\n",
       "      <th>sex</th>\n",
       "      <th>sterilized</th>\n",
       "      <th>first_color</th>\n",
       "      <th>mixed_color</th>\n",
       "      <th>merge_key</th>\n",
       "      <th>breed_name</th>\n",
       "      <th>min_height</th>\n",
       "      <th>max_height</th>\n",
       "      <th>min_weight</th>\n",
       "      <th>max_weight</th>\n",
       "    </tr>\n",
       "  </thead>\n",
       "  <tbody>\n",
       "    <tr>\n",
       "      <th>0</th>\n",
       "      <td>0</td>\n",
       "      <td>A006100</td>\n",
       "      <td>Scamp</td>\n",
       "      <td>2017-12-07 00:00:00</td>\n",
       "      <td>12/07/2017 12:00:00 AM</td>\n",
       "      <td>07/09/2007</td>\n",
       "      <td>Return to Owner</td>\n",
       "      <td>NaN</td>\n",
       "      <td>Dog</td>\n",
       "      <td>Neutered Male</td>\n",
       "      <td>...</td>\n",
       "      <td>0.0</td>\n",
       "      <td>1.0</td>\n",
       "      <td>Yellow</td>\n",
       "      <td>1</td>\n",
       "      <td>Spinone Italiano</td>\n",
       "      <td>NaN</td>\n",
       "      <td>NaN</td>\n",
       "      <td>NaN</td>\n",
       "      <td>NaN</td>\n",
       "      <td>NaN</td>\n",
       "    </tr>\n",
       "    <tr>\n",
       "      <th>1</th>\n",
       "      <td>1</td>\n",
       "      <td>A047759</td>\n",
       "      <td>Oreo</td>\n",
       "      <td>2014-04-07 15:12:00</td>\n",
       "      <td>04/07/2014 03:12:00 PM</td>\n",
       "      <td>04/02/2004</td>\n",
       "      <td>Transfer</td>\n",
       "      <td>Partner</td>\n",
       "      <td>Dog</td>\n",
       "      <td>Neutered Male</td>\n",
       "      <td>...</td>\n",
       "      <td>0.0</td>\n",
       "      <td>1.0</td>\n",
       "      <td>Tricolor</td>\n",
       "      <td>0</td>\n",
       "      <td>Dachshund</td>\n",
       "      <td>Dachshund</td>\n",
       "      <td>5.0</td>\n",
       "      <td>11.0</td>\n",
       "      <td>17.0</td>\n",
       "      <td>32.0</td>\n",
       "    </tr>\n",
       "    <tr>\n",
       "      <th>2</th>\n",
       "      <td>2</td>\n",
       "      <td>A134067</td>\n",
       "      <td>Bandit</td>\n",
       "      <td>2013-11-16 11:54:00</td>\n",
       "      <td>11/16/2013 11:54:00 AM</td>\n",
       "      <td>10/16/1997</td>\n",
       "      <td>Return to Owner</td>\n",
       "      <td>NaN</td>\n",
       "      <td>Dog</td>\n",
       "      <td>Neutered Male</td>\n",
       "      <td>...</td>\n",
       "      <td>0.0</td>\n",
       "      <td>1.0</td>\n",
       "      <td>Brown</td>\n",
       "      <td>1</td>\n",
       "      <td>Shetland Sheepdog</td>\n",
       "      <td>Shetland Sheepdog</td>\n",
       "      <td>13.0</td>\n",
       "      <td>14.0</td>\n",
       "      <td>12.0</td>\n",
       "      <td>24.0</td>\n",
       "    </tr>\n",
       "    <tr>\n",
       "      <th>3</th>\n",
       "      <td>3</td>\n",
       "      <td>A141142</td>\n",
       "      <td>Bettie</td>\n",
       "      <td>2013-11-17 11:40:00</td>\n",
       "      <td>11/17/2013 11:40:00 AM</td>\n",
       "      <td>06/01/1998</td>\n",
       "      <td>Return to Owner</td>\n",
       "      <td>NaN</td>\n",
       "      <td>Dog</td>\n",
       "      <td>Spayed Female</td>\n",
       "      <td>...</td>\n",
       "      <td>1.0</td>\n",
       "      <td>1.0</td>\n",
       "      <td>Black</td>\n",
       "      <td>1</td>\n",
       "      <td>Labrador Retriever</td>\n",
       "      <td>Labrador Retriever</td>\n",
       "      <td>21.0</td>\n",
       "      <td>24.0</td>\n",
       "      <td>49.0</td>\n",
       "      <td>77.0</td>\n",
       "    </tr>\n",
       "    <tr>\n",
       "      <th>4</th>\n",
       "      <td>4</td>\n",
       "      <td>A163459</td>\n",
       "      <td>Sasha</td>\n",
       "      <td>2014-11-14 19:28:00</td>\n",
       "      <td>11/14/2014 07:28:00 PM</td>\n",
       "      <td>10/19/1999</td>\n",
       "      <td>Return to Owner</td>\n",
       "      <td>NaN</td>\n",
       "      <td>Dog</td>\n",
       "      <td>Intact Female</td>\n",
       "      <td>...</td>\n",
       "      <td>1.0</td>\n",
       "      <td>0.0</td>\n",
       "      <td>Black</td>\n",
       "      <td>1</td>\n",
       "      <td>Miniature Schnauzer</td>\n",
       "      <td>NaN</td>\n",
       "      <td>NaN</td>\n",
       "      <td>NaN</td>\n",
       "      <td>NaN</td>\n",
       "      <td>NaN</td>\n",
       "    </tr>\n",
       "  </tbody>\n",
       "</table>\n",
       "<p>5 rows × 28 columns</p>\n",
       "</div>"
      ],
      "text/plain": [
       "   index       id    name             datetime               monthyear  \\\n",
       "0      0  A006100   Scamp  2017-12-07 00:00:00  12/07/2017 12:00:00 AM   \n",
       "1      1  A047759    Oreo  2014-04-07 15:12:00  04/07/2014 03:12:00 PM   \n",
       "2      2  A134067  Bandit  2013-11-16 11:54:00  11/16/2013 11:54:00 AM   \n",
       "3      3  A141142  Bettie  2013-11-17 11:40:00  11/17/2013 11:40:00 AM   \n",
       "4      4  A163459   Sasha  2014-11-14 19:28:00  11/14/2014 07:28:00 PM   \n",
       "\n",
       "  date of birth          outcome outcome_subtype animal     sex_string  ...  \\\n",
       "0    07/09/2007  Return to Owner             NaN    Dog  Neutered Male  ...   \n",
       "1    04/02/2004         Transfer         Partner    Dog  Neutered Male  ...   \n",
       "2    10/16/1997  Return to Owner             NaN    Dog  Neutered Male  ...   \n",
       "3    06/01/1998  Return to Owner             NaN    Dog  Spayed Female  ...   \n",
       "4    10/19/1999  Return to Owner             NaN    Dog  Intact Female  ...   \n",
       "\n",
       "   sex sterilized first_color  mixed_color            merge_key  \\\n",
       "0  0.0        1.0      Yellow            1     Spinone Italiano   \n",
       "1  0.0        1.0    Tricolor            0            Dachshund   \n",
       "2  0.0        1.0       Brown            1    Shetland Sheepdog   \n",
       "3  1.0        1.0       Black            1   Labrador Retriever   \n",
       "4  1.0        0.0       Black            1  Miniature Schnauzer   \n",
       "\n",
       "           breed_name  min_height  max_height min_weight max_weight  \n",
       "0                 NaN         NaN         NaN        NaN        NaN  \n",
       "1           Dachshund         5.0        11.0       17.0       32.0  \n",
       "2   Shetland Sheepdog        13.0        14.0       12.0       24.0  \n",
       "3  Labrador Retriever        21.0        24.0       49.0       77.0  \n",
       "4                 NaN         NaN         NaN        NaN        NaN  \n",
       "\n",
       "[5 rows x 28 columns]"
      ]
     },
     "execution_count": 13,
     "metadata": {},
     "output_type": "execute_result"
    }
   ],
   "source": [
    "# Since we'll be predicting outcomes, let's restrict\n",
    "# to only common ones. It's hard to predict something\n",
    "# we don't have very many training examples of.\n",
    "data = data.groupby('outcome').filter(lambda x: len(x) >= 500)\n",
    "\n",
    "# Let's also do some data cleanup to make life easier\n",
    "data = data.dropna(subset=['age'])\n",
    "categoricals = ['sex', 'sterilized']\n",
    "data[categoricals] = data[categoricals].fillna('Unknown')\n",
    "\n",
    "# Important, otherwise we have problems later\n",
    "# when we try to concatenate based on index\n",
    "data = data.reset_index()\n",
    "data.head()"
   ]
  },
  {
   "cell_type": "markdown",
   "metadata": {
    "slideshow": {
     "slide_type": "slide"
    }
   },
   "source": [
    "# What even is machine learning?\n",
    "<img src=\"https://miro.medium.com/max/2628/1*8wU0hfUY3UK_D8Y7tbIyFQ.png\" style=\"margin-bottom: 10px;\">\n",
    "* Better name might be \"predictive modeling\"\n",
    "    * In contrast to traditional statistical approach, which might be called \"explanatory modeling\" [$^1$](https://projecteuclid.org/euclid.ss/1009213726),[$^2$](http://jakewestfall.org/publications/Yarkoni_Westfall_choosing_prediction.pdf)\n",
    "    "
   ]
  },
  {
   "cell_type": "markdown",
   "metadata": {
    "slideshow": {
     "slide_type": "subslide"
    }
   },
   "source": [
    "* Traditional approach begins by positing a _data model_\n",
    "    * e.g., linear regression model: $Y = \\beta_0 + \\beta_1X_1 + \\ldots + \\beta_pX_p + \\epsilon$\n",
    "    * ***\"Assuming my model of how the data arose is correct, and given these parameter estimates, to what extent is variation in Y explained by variation in X?\"***\n",
    "    * Models should be interpretable in order to be useful\n",
    "* In machine learning, overriding emphasis is just on whether we can accurately predict future Y values\n",
    "    * ***\"Regardless of what the true data model may be or what my parameter estimates look like, does my algorithm give outputs (Y) as close as possible to those of the true model when given the same inputs (X)?\"***\n",
    "    * If the model/algorithm is interpretable, that's a bonus, but not generally important\n",
    "    * Premium placed instead on objective tests of accuracy in predicting new data"
   ]
  },
  {
   "cell_type": "markdown",
   "metadata": {},
   "source": [
    "https://en.wikipedia.org/wiki/Reinforcement_learning"
   ]
  },
  {
   "cell_type": "markdown",
   "metadata": {
    "slideshow": {
     "slide_type": "subslide"
    }
   },
   "source": [
    "# Getting ahead of ourselves:\n",
    "### Overfitting and in-sample vs. out-of-sample error\n",
    "<img src=\"https://miro.medium.com/max/771/1*cdvfzvpkJkUudDEryFtCnA.png\" style=\"margin-bottom: 10px;\" width=\"500px\">\n",
    "<img src=\"https://work.caltech.edu/library/images1/tradeoff.png\" style=\"margin-bottom: 10px;\" width=\"500px\">\n",
    "<img src=\"https://environicsanalytics.com/images/default-source/default-album/figure2.jpg?sfvrsn=16107f85_0\" style=\"margin-bottom: 10px;\" width=\"500px\">"
   ]
  },
  {
   "cell_type": "markdown",
   "metadata": {
    "slideshow": {
     "slide_type": "subslide"
    }
   },
   "source": [
    "* How do we test for overfitting **before** the new data come in?\n",
    "* By setting aside a fraction of our dataset -- no peeking! -- and pretending it's the future data\n",
    "    * These set-aside data are called the *validation set*\n",
    "* Example: We have 1000 samples in the full dataset. \n",
    "    * Fit the model to 900 samples (the training set)\n",
    "    * Test how accurately the model predicts the remaining 100 samples (the validation set)\n",
    "* This is the basic logic. In practice we often use a more sophisticated version of this called *cross-validation*. We'll return to this idea near the end of the class"
   ]
  },
  {
   "cell_type": "markdown",
   "metadata": {
    "slideshow": {
     "slide_type": "slide"
    }
   },
   "source": [
    "# Machine learning in Python: why scikit-learn?\n",
    "* There are hundreds of ML packages in Python\n",
    "    * Theano, Tensorflow, orange, Pattern, PyMVPA, etc...\n",
    "* But for most applications, scikit-learn is dominant\n",
    "    * Elegant, powerful interface\n",
    "    * World-class [documentation](http://scikit-learn.org/stable/)\n",
    "    * Excellent performance\n",
    "* The main exception is deep learning--not supported in scikit-learn"
   ]
  },
  {
   "cell_type": "markdown",
   "metadata": {
    "slideshow": {
     "slide_type": "slide"
    }
   },
   "source": [
    "# The typical predictive modeling pipeline\n",
    "\n",
    "<img src=\"https://image.slidesharecdn.com/a9e525b3-782f-4e47-9fad-eb9d03e7ed14-160322135748/95/predictive-modelling-1-638.jpg?cb=1458655084\" style=\"margin-bottom: 10px;\" width=\"500px\">\n",
    "\n",
    "* Feature extraction/engineering\n",
    "    * A \"feature\" in ML terminology is a predictor/variable \n",
    "* Feature selection/dimensionality reduction\n",
    "* Model/parameter selection\n",
    "* Estimation\n",
    "* Evaluation\n",
    "* Rinse and repeat ad nauseam"
   ]
  },
  {
   "cell_type": "markdown",
   "metadata": {
    "slideshow": {
     "slide_type": "slide"
    }
   },
   "source": [
    "# Feature extraction\n",
    "\n",
    "<img src=\"https://cdn-images-1.medium.com/max/1000/1*zUATaXMAmKof27rPyBRWsg.png\" style=\"margin-bottom: 10px;\" width=\"500px\">\n",
    "\n",
    "* Deriving *new* (informative, non-redundant) predictors/features from the features you already have\n",
    "* Or adding entirely new features to the dataset (e.g., web scraping for dog breed stats)\n",
    "* Simple example of feature extraction: Adding a squared term"
   ]
  },
  {
   "cell_type": "code",
   "execution_count": 14,
   "metadata": {
    "slideshow": {
     "slide_type": "fragment"
    }
   },
   "outputs": [
    {
     "name": "stdout",
     "output_type": "stream",
     "text": [
      "L: -15.664605733124752 3.0473482587071845\n",
      "Q: -0.2030141556863316 0.3131217268413192 0.09589316665004172\n"
     ]
    },
    {
     "data": {
      "image/png": "[encoded data removed]",
      "text/plain": [
       "<Figure size 1500x600 with 2 Axes>"
      ]
     },
     "metadata": {},
     "output_type": "display_data"
    }
   ],
   "source": [
    "# set up the plotting space\n",
    "fig, axes = plt.subplots(1, 2, figsize=(15,6))\n",
    "\n",
    "# estimate a simple linear regression model: predict min_weight from min_height\n",
    "linear_model = sm.OLS(data['min_weight'], sm.add_constant(data['min_height']), missing='drop')\n",
    "\n",
    "# get the regression coefficients (intercept and slope)\n",
    "a, b = linear_model.fit().params\n",
    "\n",
    "# plot the results in the left panel\n",
    "axes[0].scatter(data['min_height'], data['min_weight'], s=30)\n",
    "axes[0].plot([0, 30], [a, a + b*30], lw=3)\n",
    "# y = a + b*xprint(\"Q:\",a,b,c)\n",
    "print(\"L:\",a,b)\n",
    "# Add labels and title\n",
    "axes[0].set(ylabel=\"Breed weight\", xlabel=\"Breed height\")\n",
    "axes[0].set_title(\"Weight = b0 + b1*Height\", size=20)\n",
    "\n",
    "# a + b*x + c*x^2\n",
    "# now add height-squared to the model\n",
    "quad_data = sm.add_constant(pd.DataFrame({'h':data['min_height'], 'h2':data['min_height']**2}))\n",
    "quadratic_model = sm.OLS(data['min_weight'], quad_data, missing='drop')\n",
    "a, b, c = quadratic_model.fit().params\n",
    "\n",
    "# plot quadratic fit in the right panel\n",
    "axes[1].scatter(data['min_height'], data['min_weight'], s=30)\n",
    "X = np.linspace(0, 30)\n",
    "axes[1].plot(X, [a + b*x + c*x**2 for x in X], lw=3)\n",
    "print(\"Q:\",a,b,c)\n",
    "# Add labels and title\n",
    "axes[1].set(ylabel=\"Breed weight\", xlabel=\"Breed height\")\n",
    "axes[1].set_title(\"Weight = b0 + b1*Height + b2*Height^2\", size=20);"
   ]
  },
  {
   "cell_type": "markdown",
   "metadata": {
    "slideshow": {
     "slide_type": "slide"
    }
   },
   "source": [
    "## Getting _all_ the features\n",
    "* Well, probably not all... but a _lot_\n",
    "* How much information can we get out of the original dataset?\n",
    "* From an interpretation-oriented standpoint, maybe not much more\n",
    "* From a machine learning standpoint, we've just scratched the surface\n",
    "* Some things we could add: names, colors, any number of interactions...\n",
    "    * The cost of trying out silly things is much lower\n",
    "    * Multicollinearity is not (much of) a concern"
   ]
  },
  {
   "cell_type": "markdown",
   "metadata": {
    "slideshow": {
     "slide_type": "slide"
    }
   },
   "source": [
    "## Bag-of-words approach to handling fur color\n",
    "\n",
    "\n",
    "<img src=\"https://miro.medium.com/max/1024/1*j3HUg18QwjDJTJwW9ja5-Q.png\" style=\"margin-bottom: 10px;\" width=\"500px\">\n",
    "\n",
    "* If you have a lot of data, it's not always worth thinking deeply about your features\n",
    "* E.g., how should we model fur color?\n",
    "    * \"Black/Tricolor\", \"Calico Point\", \"Brown Brindle/Blue Cream\"\n",
    "* Simple approach: treat color descriptions like a [bag-of-words](https://en.wikipedia.org/wiki/Bag-of-words_model)\n",
    "* Extract all word tokens (possibly even N-grams)"
   ]
  },
  {
   "cell_type": "code",
   "execution_count": 15,
   "metadata": {
    "slideshow": {
     "slide_type": "fragment"
    }
   },
   "outputs": [
    {
     "name": "stdout",
     "output_type": "stream",
     "text": [
      "534\n"
     ]
    }
   ],
   "source": [
    "# How many colors in total?\n",
    "print(data['color'].nunique())"
   ]
  },
  {
   "cell_type": "code",
   "execution_count": 16,
   "metadata": {
    "slideshow": {
     "slide_type": "fragment"
    }
   },
   "outputs": [
    {
     "data": {
      "text/plain": [
       "array(['Yellow/White', 'Tricolor', 'Brown/White', 'Black/White',\n",
       "       'Black/Gray', 'White/Black', 'Brown Tabby/White', 'Black/Tan',\n",
       "       'Tan/Black', 'Black', 'Gold/Gold', 'Tortie Point', 'Sable/White',\n",
       "       'Blue Merle/Tan', 'Blue Merle', 'Brown/Black', 'Black/Tricolor',\n",
       "       'Gray/White', 'Black/Black', 'Tan'], dtype=object)"
      ]
     },
     "execution_count": 16,
     "metadata": {},
     "output_type": "execute_result"
    }
   ],
   "source": [
    "# First 20 unique colors in the dataset\n",
    "data['color'].unique()[:20]"
   ]
  },
  {
   "cell_type": "markdown",
   "metadata": {
    "slideshow": {
     "slide_type": "subslide"
    }
   },
   "source": [
    "### Applying the bag-of-words model"
   ]
  },
  {
   "cell_type": "code",
   "execution_count": 17,
   "metadata": {
    "slideshow": {
     "slide_type": "fragment"
    }
   },
   "outputs": [],
   "source": [
    "# The CountVectorizer is an estimator that takes a series\n",
    "# of documents (or strings) as input, and returns a count\n",
    "# of every word token found in every document. There's also\n",
    "# a TfidfVectorizer in cases where we want normalized frequency.\n",
    "from sklearn.feature_extraction.text import CountVectorizer"
   ]
  },
  {
   "cell_type": "code",
   "execution_count": 18,
   "metadata": {
    "slideshow": {
     "slide_type": "fragment"
    }
   },
   "outputs": [
    {
     "name": "stdout",
     "output_type": "stream",
     "text": [
      "fur_features is an object of type: <class 'scipy.sparse._csr.csr_matrix'>\n"
     ]
    },
    {
     "ename": "AttributeError",
     "evalue": "'CountVectorizer' object has no attribute 'get_feature_names'",
     "output_type": "error",
     "traceback": [
      "\u001b[1;31m---------------------------------------------------------------------------\u001b[0m",
      "\u001b[1;31mAttributeError\u001b[0m                            Traceback (most recent call last)",
      "Cell \u001b[1;32mIn[18], line 22\u001b[0m\n\u001b[0;32m     17\u001b[0m \u001b[39mprint\u001b[39m(\u001b[39m\"\u001b[39m\u001b[39mfur_features is an object of type:\u001b[39m\u001b[39m\"\u001b[39m, \u001b[39mtype\u001b[39m(fur_features))\n\u001b[0;32m     19\u001b[0m \u001b[39m# After fitting, the names of the features (i.e., the\u001b[39;00m\n\u001b[0;32m     20\u001b[0m \u001b[39m# columns of the sparse matrix returned by fit_transform())\u001b[39;00m\n\u001b[0;32m     21\u001b[0m \u001b[39m# are stored in the estimator itself.\u001b[39;00m\n\u001b[1;32m---> 22\u001b[0m feature_names \u001b[39m=\u001b[39m vec\u001b[39m.\u001b[39;49mget_feature_names()\n\u001b[0;32m     24\u001b[0m \u001b[39m# Store in a pandas DF for easier manipulation later.\u001b[39;00m\n\u001b[0;32m     25\u001b[0m \u001b[39m# Note that we convert the sparse array back to a dense\u001b[39;00m\n\u001b[0;32m     26\u001b[0m \u001b[39m# one before loading into pandas. If our dataset were\u001b[39;00m\n\u001b[0;32m     27\u001b[0m \u001b[39m# much bigger, we'd probably want to avoid this step\u001b[39;00m\n\u001b[0;32m     28\u001b[0m \u001b[39m# and just keep working with the sparse matrix.\u001b[39;00m\n\u001b[0;32m     29\u001b[0m fur_features \u001b[39m=\u001b[39m pd\u001b[39m.\u001b[39mDataFrame(fur_features\u001b[39m.\u001b[39mtodense(), columns\u001b[39m=\u001b[39mfeature_names)\n",
      "\u001b[1;31mAttributeError\u001b[0m: 'CountVectorizer' object has no attribute 'get_feature_names'"
     ]
    }
   ],
   "source": [
    "# Initialize the CountVectorizer with default parameters.\n",
    "# Some common arguments we might want to experiment with\n",
    "# include min_df and max_df (which exclude words that are\n",
    "# too frequent or infrequent), stop_words (which allows\n",
    "# us to pass in a list of words to ignore), and ngram_range,\n",
    "# which enables us to extract multi-word features.\n",
    "vec = CountVectorizer()\n",
    "\n",
    "# Extract all possible word features from the color list.\n",
    "# Note that this returns a sparse matrix rather than a\n",
    "# numpy array or a pandas DataFrame. A sparse matrix is\n",
    "# a way of representing potentially very large 2-d arrays\n",
    "# very efficiently, because we don't need to allocate\n",
    "# memory for every cell in the array, only those that\n",
    "# have a non-zero value.\n",
    "fur_features = vec.fit_transform(data['color'])\n",
    "print(\"fur_features is an object of type:\", type(fur_features))\n",
    "\n",
    "# After fitting, the names of the features (i.e., the\n",
    "# columns of the sparse matrix returned by fit_transform())\n",
    "# are stored in the estimator itself.\n",
    "feature_names = vec.get_feature_names()\n",
    "\n",
    "# Store in a pandas DF for easier manipulation later.\n",
    "# Note that we convert the sparse array back to a dense\n",
    "# one before loading into pandas. If our dataset were\n",
    "# much bigger, we'd probably want to avoid this step\n",
    "# and just keep working with the sparse matrix.\n",
    "fur_features = pd.DataFrame(fur_features.todense(), columns=feature_names)"
   ]
  },
  {
   "cell_type": "code",
   "execution_count": null,
   "metadata": {},
   "outputs": [],
   "source": [
    "# Let's take a look...\n",
    "fur_features.head()\n",
    "# We went from 534 unique color combinations to 37 binary color features"
   ]
  },
  {
   "cell_type": "code",
   "execution_count": null,
   "metadata": {
    "slideshow": {
     "slide_type": "fragment"
    }
   },
   "outputs": [],
   "source": [
    "# How many instances of each color?\n",
    "fur_features.sum(axis=0).sort_values(ascending=False)"
   ]
  },
  {
   "cell_type": "markdown",
   "metadata": {
    "slideshow": {
     "slide_type": "subslide"
    }
   },
   "source": [
    "### Adding interaction terms\n",
    "* We could dummy-code all our categorical variables and then take pairwise products\n",
    "* But if we don't need interpretabilty, there's a simpler hack\n",
    "    * Concatenate all variables for which we want interactions\n",
    "        * E.g., `breed='Alsatian'` and `sex='F'` becomes `Alsatian_F`\n",
    "    * Dummy-code the result\n",
    "    * A lightweight version of the [\"hashing trick\"](https://en.wikipedia.org/wiki/Feature_hashing)\n",
    "* Let's cross sex (2 categories), sterilization (2 categories), and breed (1787 categories)\n",
    "    * Could result in up to $2 \\times 2 \\times 1787 = 7148$ new features! But since many of these combinations of categories likely contain 0 pets, it'll probably be fewer than that"
   ]
  },
  {
   "cell_type": "code",
   "execution_count": null,
   "metadata": {
    "slideshow": {
     "slide_type": "subslide"
    }
   },
   "outputs": [],
   "source": [
    "# Simply concatenate the columns we want--making sure to convert any numeric\n",
    "# columns to string, otherwise the concatenation will fail.\n",
    "data['ssb'] = data['sex'].astype(str) + '_' \\\n",
    "    + data['sterilized'].astype(str) + '_' + data['breed']\n",
    "\n",
    "# How many unique levels?\n",
    "num_levels = data['ssb'].nunique()\n",
    "print(\"Total number of unique values: {}\".format(num_levels))"
   ]
  },
  {
   "cell_type": "code",
   "execution_count": null,
   "metadata": {
    "slideshow": {
     "slide_type": "subslide"
    }
   },
   "outputs": [],
   "source": [
    "# Now we can dummy-code the result\n",
    "pd.get_dummies(data['ssb']).head(10)"
   ]
  },
  {
   "cell_type": "markdown",
   "metadata": {
    "slideshow": {
     "slide_type": "subslide"
    }
   },
   "source": [
    "### What else?\n",
    "* Very easy to quickly build up thousands of derivative features in this way\n",
    "* Doesn't mean we shouldn't think deeply about good features\n",
    "    * Often, biggest jumps in performance are achieved by adding entirely new features (e.g., external dog breed data)\n",
    "* Point is try to eke out every bit of signal from what we have"
   ]
  },
  {
   "cell_type": "markdown",
   "metadata": {
    "slideshow": {
     "slide_type": "slide"
    }
   },
   "source": [
    "# Feature selection/reduction\n",
    "* Not all features are created equal\n",
    "* Just because we created 4,000+ features doesn't mean we need to include them all\n",
    "* Two general approaches:\n",
    "    1. Dimensionality reduction (extract latent signal from observed features)\n",
    "        * Principal component analysis (PCA)\n",
    "        * Independent component analysis (ICA)\n",
    "        * etc.\n",
    "    2. Feature selection (filter out features based on some criterion)\n",
    "        * Keep high-variance features\n",
    "        * Keep best-scoring features (i.e., strongest correlation with outcome)\n",
    "        * Fit a preliminary estimator like lasso that drops some features\n",
    "        * etc.\n",
    "* Supported by the `decomposition` and `feature_selection` modules in `sklearn`"
   ]
  },
  {
   "cell_type": "markdown",
   "metadata": {
    "slideshow": {
     "slide_type": "subslide"
    }
   },
   "source": [
    "### Principal Component Analysis (PCA): The big idea\n",
    "* For $P$ variables, we can plot the observations as a scatter plot in $P$-dimensional space\n",
    "    * E.g., for $P=2$ features, we have a two-dimensional scatter plot with two axes, the X-axis and the Y-axis\n",
    "* In PCA, we *rotate* the dataset in $P$-dimensional space to a *new* set of $P$ axes, called *principal components*, such that\n",
    "    1. The observations are uncorrelated along the principal component axes\n",
    "    2. The principal components are sorted in descending order of variance accounted for"
   ]
  },
  {
   "cell_type": "code",
   "execution_count": null,
   "metadata": {
    "slideshow": {
     "slide_type": "fragment"
    }
   },
   "outputs": [],
   "source": [
    "# Standardize the two features. It's usually \n",
    "# a good idea to do this prior to running PCA\n",
    "df = data[['min_height', 'min_weight']].dropna()\n",
    "df = (df - df.mean()) / df.std()\n",
    "\n",
    "# compute the PCA using scikit-learn\n",
    "from sklearn.decomposition import PCA\n",
    "pca = PCA(n_components=2)\n",
    "pca.fit(df)\n",
    "\n",
    "# set up the plotting space\n",
    "fig, axes = plt.subplots(1, 2, figsize=(14,7))\n",
    "\n",
    "# data points in original, unrotated features space\n",
    "axes[0].scatter(df['min_height'], df['min_weight'], s=30)\n",
    "axes[0].set_xlabel(\"Breed height\")\n",
    "axes[0].set_ylabel(\"Breed weight\")\n",
    "axes[0].set_ylim([-2, 3.5])\n",
    "axes[0].set_xlim([-2, 3.5])\n",
    "a, b = (0, pca.components_[0,1]/pca.components_[0,0])\n",
    "axes[0].plot([-1.8, 2.4], [a + b*-1.8, a + b*2.4], lw=3)\n",
    "a, b = (0, pca.components_[1,1]/pca.components_[1,0])\n",
    "axes[0].plot([-.9, .9], [a + b*-.9, a + b*.9], lw=3)\n",
    "\n",
    "# data points in rotated principal component (PC) space\n",
    "rotated = pca.transform(df)\n",
    "axes[1].scatter(-rotated[:,0], rotated[:,1], s=30)\n",
    "axes[1].set_xlabel(\"Principal Component 1\")\n",
    "axes[1].set_ylabel(\"Principal Component 2\")\n",
    "axes[1].set_ylim([-2.5, 4])\n",
    "axes[1].set_xlim([-2.5, 4])\n",
    "axes[1].plot([-2.7, 3.5], [0, 0], lw=3)\n",
    "axes[1].plot([0, 0], [-1.3, 1.3], lw=3);\n",
    "\n",
    "# How much of the total variance is explained by each PC?\n",
    "msg = \"The first principal component alone explains {:.0%} of the total variance.\"\n",
    "print(msg.format(pca.explained_variance_ratio_[0 ]))"
   ]
  },
  {
   "cell_type": "markdown",
   "metadata": {
    "slideshow": {
     "slide_type": "fragment"
    }
   },
   "source": [
    "* It's clear that the first principal component contains most of the useful information that was shared between Height and Weight\n",
    "* So if we simply drop the second principal component, we've effectively reduced our two features down to one feature with minimal information loss"
   ]
  },
  {
   "cell_type": "markdown",
   "metadata": {
    "slideshow": {
     "slide_type": "subslide"
    }
   },
   "source": [
    "### Now let's do PCA on our array of over 4000 features\n",
    "* PCA on such a large array would be very computationally demanding and take a long time\n",
    "* So we'll do a faster, approximate version of PCA called *Randomized PCA*"
   ]
  },
  {
   "cell_type": "code",
   "execution_count": null,
   "metadata": {
    "slideshow": {
     "slide_type": "fragment"
    }
   },
   "outputs": [],
   "source": [
    "# First we need to recode our string column as a set of dummies\n",
    "interaction_dummies = pd.get_dummies(data['ssb'])\n",
    "\n",
    "# Let's concatenate this with the color features\n",
    "# axis=1 indicates that we want to concatenate along\n",
    "# the column axis (axis=0 would append each dataframe\n",
    "# below the last.\n",
    "lotsa_features = pd.concat([fur_features, interaction_dummies], axis=1)\n",
    "\n",
    "# Like most other things in sklearn, decomposition classes\n",
    "# implement the estimator interface. So they have fit() and\n",
    "# predict() methods. Transformers also have a transform()\n",
    "# method. First, we initialize the PCA transformer.\n",
    "# We'll use a \"randomized PCA\" solver that is a speedier\n",
    "# approximation of standard the principal component analysis\n",
    "# (PCA) factorization. We need to specify the number of\n",
    "# components we want at initialization. We'll take the first 100.\n",
    "from sklearn.decomposition import PCA\n",
    "rpca = PCA(100, svd_solver='randomized')"
   ]
  },
  {
   "cell_type": "code",
   "execution_count": null,
   "metadata": {
    "slideshow": {
     "slide_type": "fragment"
    }
   },
   "outputs": [],
   "source": [
    "# Now we can fit and transform in one step\n",
    "rpca_features = rpca.fit_transform(lotsa_features)\n",
    "\n",
    "# How much of the variance do these components explain?\n",
    "\n",
    "# set up the plotting space\n",
    "fig, axes = plt.subplots(1, 2, figsize=(14,7))\n",
    "\n",
    "# scree plot\n",
    "axes[0].plot(rpca.explained_variance_ratio_, lw=3)\n",
    "axes[0].set_title('Scree plot (% variance explained by each PC)', size=20)\n",
    "axes[0].set_xlabel('Principal Component number')\n",
    "axes[0].set_ylabel('% of total variance')\n",
    "\n",
    "# cumulative variance explained\n",
    "axes[1].plot(np.cumsum(rpca.explained_variance_ratio_), lw=3)\n",
    "axes[1].set_title('Cumulative variance explained', size=20)\n",
    "axes[1].set_xlabel('Principal Component number')\n",
    "axes[1].set_ylabel('% of total variance');"
   ]
  },
  {
   "cell_type": "markdown",
   "metadata": {
    "slideshow": {
     "slide_type": "slide"
    }
   },
   "source": [
    "# Estimation\n",
    "* With features in hand, we can now fit some models!\n",
    "* scikit-learn has a bewildering array of models\n",
    "* We'll talk about model selection shortly\n",
    "* First we'll look at one model/algorithm in detail: **K-nearest neighbors (KNN)**\n",
    "    * Easy to understand\n",
    "    * Often competitive with more complicated models\n",
    "    * Example of an algorithm really only used in machine learning context (no *data model*)"
   ]
  },
  {
   "cell_type": "markdown",
   "metadata": {
    "slideshow": {
     "slide_type": "subslide"
    }
   },
   "source": [
    "## K-nearest neighbors (KNN) algorithm\n",
    "<img src=\"https://miro.medium.com/max/800/1*2zYNhLc522h0zftD1zDh2g.png\" style=\"margin-bottom: 10px;\">"
   ]
  },
  {
   "cell_type": "markdown",
   "metadata": {},
   "source": [
    "https://scikit-learn.org/stable/modules/generated/sklearn.neighbors.KNeighborsClassifier.html"
   ]
  },
  {
   "cell_type": "code",
   "execution_count": null,
   "metadata": {},
   "outputs": [],
   "source": [
    "# Since we'll be predicting outcomes, let's restrict\n",
    "# to only common ones. It's hard to predict something\n",
    "# we don't have very many training examples of.\n",
    "data = data.groupby('outcome').filter(lambda x: len(x) >= 500)\n",
    "\n",
    "# Let's also do some data cleanup to make life easier\n",
    "data = data.dropna(subset=['age'])\n",
    "categoricals = ['sex', 'sterilized']\n",
    "data[categoricals] = data[categoricals].fillna('Unknown')\n",
    "\n",
    "# Important, otherwise we have problems later\n",
    "# when we try to concatenate based on index\n",
    "data = data.reset_index()\n",
    "data.head()"
   ]
  },
  {
   "cell_type": "code",
   "execution_count": null,
   "metadata": {},
   "outputs": [],
   "source": [
    "# Standardize the two features. It's usually \n",
    "# a good idea to do this prior to running PCA\n",
    "df = data[['min_height', 'min_weight']].dropna()\n",
    "df = (df - df.mean()) / df.std()\n",
    "\n",
    "# compute the PCA using scikit-learn\n",
    "from sklearn.decomposition import PCA\n",
    "pca = PCA(n_components=2)\n",
    "pca.fit(df)"
   ]
  },
  {
   "cell_type": "code",
   "execution_count": null,
   "metadata": {
    "slideshow": {
     "slide_type": "subslide"
    }
   },
   "outputs": [],
   "source": [
    "from sklearn import neighbors\n",
    "from sklearn.metrics import accuracy_score\n",
    "from sklearn.preprocessing import LabelEncoder\n",
    "from matplotlib.colors import ListedColormap\n",
    "import matplotlib.patches as mpatches"
   ]
  },
  {
   "cell_type": "code",
   "execution_count": null,
   "metadata": {
    "slideshow": {
     "slide_type": "subslide"
    }
   },
   "outputs": [],
   "source": [
    "# some data pre-processing\n",
    "df = data[['min_height','min_weight']]\n",
    "df = (df - df.mean()) / df.std()                # standardize before applying PCA.\n",
    "df['size'] = np.dot(df, pca.components_.T)[:,0] # add PC1 as 'size'.\n",
    "df['outcome'] = data['outcome']                 # append outcome in string form\n",
    "encoder = LabelEncoder()                        # Initialize encoder for label conversion\n",
    "df['y'] = encoder.fit_transform(data['outcome'])# and integer form.\n",
    "df['age'] = data['age']                         # add the age predictor.\n",
    "df = df.dropna()                                # drop missing values.\n",
    "df = df.loc[df['outcome'] != 'Died',]           # drop 'Died' outcome (too few cases, 0.4%)\n",
    "for v in ['age','size']:                        # standardize the predictors. KNN falters\n",
    "    df[v] = (df[v] - df[v].mean())/df[v].std()  # if predictors on wildly different scales."
   ]
  },
  {
   "cell_type": "code",
   "execution_count": null,
   "metadata": {
    "slideshow": {
     "slide_type": "subslide"
    }
   },
   "outputs": [],
   "source": [
    "# Define outcome colors\n",
    "colors = ['red', 'green', 'blue', 'yellow']"
   ]
  },
  {
   "cell_type": "code",
   "execution_count": null,
   "metadata": {
    "slideshow": {
     "slide_type": "subslide"
    }
   },
   "outputs": [],
   "source": [
    "# define function to compute KNN for a given K and plot the result\n",
    "def knn_plot(k, ax):\n",
    "    knn = neighbors.KNeighborsClassifier(k)     # load the KNN classifier\n",
    "    knn.fit(df[['size','age']], df['y'])        # fit the KNN model\n",
    "    predicted = knn.predict(df[['size','age']]) # retrieve the outcomes predicted by KNN\n",
    "    acc = accuracy_score(df['y'], predicted)    # compute accuracy of those predictions\n",
    "    \n",
    "    # Plot the decision boundary. For that, we will assign a color to each\n",
    "    # point in the mesh [x_min, x_max]x[y_min, y_max].\n",
    "    h = .05  # step size in the mesh\n",
    "    x_min, x_max = df['size'].min() - 0.2, df['size'].max() + 0.2\n",
    "    y_min, y_max = df['age'].min() - 0.2, df['age'].max() + 0.2\n",
    "    xx, yy = np.meshgrid(np.arange(x_min, x_max, h),\n",
    "                         np.arange(y_min, y_max, h))\n",
    "    Z = knn.predict(np.c_[xx.ravel(), yy.ravel()])\n",
    "\n",
    "    # Create color maps from the lists\n",
    "    cmap = ListedColormap(colors)\n",
    "    # Lighter colors for the decision boundary\n",
    "    cmap_light = ListedColormap(['pink', 'lightgreen', 'lightblue', 'lightyellow'])\n",
    "    \n",
    "    # Put the result into a color plot\n",
    "    Z = Z.reshape(xx.shape)\n",
    "    ax.pcolormesh(xx, yy, Z, cmap=cmap_light)\n",
    "\n",
    "    # Plot also the training points--with some jittering added so we can\n",
    "    # see points a bit more clearly\n",
    "    n_obs = len(df['size'])\n",
    "    x_pt = df['size'] + np.random.normal(0, 0.05, n_obs)\n",
    "    y_pt = df['age'] + np.random.normal(0, 0.05, n_obs)\n",
    "    scattr = ax.scatter(x_pt, y_pt, c=df['y'], cmap=cmap, s=8)\n",
    "    ax.set_xlim(xx.min(), xx.max())\n",
    "    ax.set_ylim(yy.min(), yy.max())\n",
    "    ax.set_xlabel('Breed size (standardized)', fontsize=14)\n",
    "    ax.set_ylabel('Dog age (standardized)', fontsize=14)\n",
    "    ax.set_title('K = {}; Accuracy = {:.1%}'.format(k, acc), size=20)\n",
    "\n",
    "# Set our values of k\n",
    "k_values = [2, 100, 2000]\n",
    "n_k = len(k_values)\n",
    "\n",
    "# set up the plotting space\n",
    "fig, axes = plt.subplots(1, n_k, figsize=(14, 14/n_k))\n",
    "\n",
    "# fit the models and make the plots\n",
    "for k, ax in zip(k_values, axes):\n",
    "    knn_plot(k, ax)\n",
    "    \n",
    "# Plot a custom legend\n",
    "patches = [mpatches.Patch(color=colors[i], label=encoder.classes_[i]) for i in range(4)]\n",
    "plt.legend(handles=patches, bbox_to_anchor=(1.03, 1.03), loc=2, fontsize=14);"
   ]
  },
  {
   "cell_type": "markdown",
   "metadata": {
    "slideshow": {
     "slide_type": "subslide"
    }
   },
   "source": [
    "#### Is this good?\n",
    "* Seems good, no?\n",
    "* There are 4 classes, so chance should be 25%, right?\n",
    "* Or should it..."
   ]
  },
  {
   "cell_type": "code",
   "execution_count": null,
   "metadata": {
    "slideshow": {
     "slide_type": "fragment"
    }
   },
   "outputs": [],
   "source": [
    "# Show the relative class frequencies\n",
    "counts = df['outcome'].value_counts()\n",
    "counts/counts.sum()"
   ]
  },
  {
   "cell_type": "markdown",
   "metadata": {
    "slideshow": {
     "slide_type": "subslide"
    }
   },
   "source": [
    "## We can (probably) do better\n",
    "* Let's use some of that giant mess of features we extracted!\n",
    "* Also, the analysis above only used the dogs (which are about half the dataset), so let's use the full dataset\n",
    "* Finally, it's really easy to plug in other classifiers, so let's try some of those"
   ]
  },
  {
   "cell_type": "code",
   "execution_count": null,
   "metadata": {
    "slideshow": {
     "slide_type": "subslide"
    }
   },
   "outputs": [],
   "source": [
    "# For models with categoricals, we can call on\n",
    "# patsy to dummy-code our variables, like we did\n",
    "# when working with statsmodels\n",
    "from patsy import dmatrix\n",
    "from sklearn.preprocessing import LabelEncoder"
   ]
  },
  {
   "cell_type": "code",
   "execution_count": null,
   "metadata": {
    "slideshow": {
     "slide_type": "subslide"
    }
   },
   "outputs": [],
   "source": [
    "# Some other estimators we can try (there are many more!)\n",
    "from sklearn.linear_model import LogisticRegression\n",
    "from sklearn.ensemble import RandomForestClassifier \n",
    "from sklearn.tree import DecisionTreeClassifier\n",
    "from sklearn.svm import SVC                      # support vector classifier\n",
    "from sklearn.naive_bayes import BernoulliNB      # Naive Bayes for dummy predictors\n",
    "from sklearn.linear_model import RidgeClassifier # ridge regression + classification rule"
   ]
  },
  {
   "cell_type": "code",
   "execution_count": null,
   "metadata": {},
   "outputs": [],
   "source": [
    "fur_features[:10]"
   ]
  },
  {
   "cell_type": "code",
   "execution_count": null,
   "metadata": {},
   "outputs": [],
   "source": [
    "interaction_dummies[:10]"
   ]
  },
  {
   "cell_type": "code",
   "execution_count": null,
   "metadata": {},
   "outputs": [],
   "source": [
    "interaction_dummies = pd.get_dummies(data['ssb'])\n",
    "\n",
    "# Let's concatenate this with the color features\n",
    "# axis=1 indicates that we want to concatenate along\n",
    "# the column axis (axis=0 would append each dataframe\n",
    "# below the last.\n",
    "lotsa_features = pd.concat([fur_features, interaction_dummies], axis=1)\n",
    "\n",
    "# Like most other things in sklearn, decomposition classes\n",
    "# implement the estimator interface. So they have fit() and\n",
    "# predict() methods. Transformers also have a transform()\n",
    "# method. First, we initialize the PCA transformer.\n",
    "# We'll use a \"randomized PCA\" solver that is a speedier\n",
    "# approximation of standard the principal component analysis\n",
    "# (PCA) factorization. We need to specify the number of\n",
    "# components we want at initialization. We'll take the first 100.\n",
    "\n",
    "\n",
    "# Now we can fit and transform in one step\n",
    "rpca_features = rpca.fit_transform(lotsa_features)"
   ]
  },
  {
   "cell_type": "code",
   "execution_count": null,
   "metadata": {},
   "outputs": [],
   "source": [
    "5"
   ]
  },
  {
   "cell_type": "code",
   "execution_count": null,
   "metadata": {
    "slideshow": {
     "slide_type": "subslide"
    }
   },
   "outputs": [],
   "source": [
    "# plug in estimator of choice (just using default arguments)\n",
    "# est = neighbors.KNeighborsClassifier() # default K = 5\n",
    "est = RandomForestClassifier()#\n",
    "#est = DecisionTreeClassifier()\n",
    "#est = SVC()\n",
    "#est = BernoulliNB()\n",
    "# est = RidgeClassifier()\n",
    "\n",
    "# grab the outcome and encode it as integer rather than string\n",
    "encoder = LabelEncoder()\n",
    "y = encoder.fit_transform(data['outcome'])\n",
    "\n",
    "# Set up the features, starting with 'age'\n",
    "X = data['age']\n",
    "X = np.c_[X.values, rpca_features[:,:20]]\n",
    "# X = np.c_[X.values, lotsa_features]\n",
    "for i in range(X.shape[1]): # standardize all predictors\n",
    "    X[:,i] = (X[:,i] - X[:,i].mean())/X[:,i].std()\n",
    "\n",
    "# fit the model/algorithm\n",
    "est.fit(X, y)\n",
    "y_predicted = est.predict(X)\n",
    "\n",
    "# We're assessing accuracy *in the training set* so be skeptical!\n",
    "accuracy_score(y, y_predicted)"
   ]
  },
  {
   "cell_type": "markdown",
   "metadata": {
    "slideshow": {
     "slide_type": "slide"
    }
   },
   "source": [
    "# Evaluation\n",
    "* Evaluating model performance is rarely straightforward\n",
    "* There are many criteria we might value\n",
    "* Simple answers can be misleading\n",
    "* Let's take a look at _how_ we classified different outcomes"
   ]
  },
  {
   "cell_type": "markdown",
   "metadata": {
    "slideshow": {
     "slide_type": "subslide"
    }
   },
   "source": [
    "### Confusion matrix\n",
    "* How does the classifier go wrong?"
   ]
  },
  {
   "cell_type": "code",
   "execution_count": null,
   "metadata": {
    "slideshow": {
     "slide_type": "fragment"
    }
   },
   "outputs": [],
   "source": [
    "from sklearn.metrics import confusion_matrix"
   ]
  },
  {
   "cell_type": "code",
   "execution_count": null,
   "metadata": {
    "slideshow": {
     "slide_type": "fragment"
    }
   },
   "outputs": [],
   "source": [
    "def plot_confusion_matrix(y, y_predicted):\n",
    "    ''' take true and predicted scores and plot confusion matrix '''\n",
    "    # Get the confusion matrix\n",
    "    cm = confusion_matrix(y, y_predicted)\n",
    "\n",
    "    # Normalize the confusion matrix by dividing each row by its sum\n",
    "    ncm = cm / cm.sum(axis=1)[:, np.newaxis]\n",
    "\n",
    "    # Put into DataFrame and get all labels from the encoder\n",
    "    class_labels = encoder.classes_\n",
    "    ncm = pd.DataFrame(ncm, index=class_labels, columns=class_labels)\n",
    "\n",
    "    # Rows are true classes, columns are assigned classes\n",
    "    sns.heatmap(data=ncm, fmt='.2f', annot=True, cmap='Blues')"
   ]
  },
  {
   "cell_type": "code",
   "execution_count": null,
   "metadata": {
    "scrolled": false,
    "slideshow": {
     "slide_type": "fragment"
    }
   },
   "outputs": [],
   "source": [
    "plt.figure(figsize=(8,7))\n",
    "plot_confusion_matrix(y, y_predicted)\n",
    "plt.gca().set_title('Confusion matrix\\nRow = reality, Column = decision', size=20);"
   ]
  },
  {
   "cell_type": "code",
   "execution_count": null,
   "metadata": {
    "slideshow": {
     "slide_type": "subslide"
    }
   },
   "outputs": [],
   "source": [
    "# The classification report shows us performance for\n",
    "# the most common metrics, by class\n",
    "from sklearn.metrics import classification_report"
   ]
  },
  {
   "cell_type": "code",
   "execution_count": null,
   "metadata": {
    "slideshow": {
     "slide_type": "subslide"
    }
   },
   "outputs": [],
   "source": [
    "print(classification_report(y, y_predicted))\n",
    "print('Precision: Of all cases predicted to be X, how many really were X?')\n",
    "print('Recall: Of all cases that really are X, how many were correctly predicted to be X?\\n')\n",
    "\n",
    "# which integer goes with which outcome?\n",
    "# a cross-tab is a simple way to find out\n",
    "print(pd.crosstab(data['outcome'], y))"
   ]
  },
  {
   "cell_type": "markdown",
   "metadata": {
    "slideshow": {
     "slide_type": "subslide"
    }
   },
   "source": [
    "## Cross-validation\n",
    "* Hopefully performance now looks reasonable\n",
    "* But there's still a potential problem: overfitting\n",
    "* We're training and evaluating on the same dataset--this is a big no-no!\n",
    "* scikit-learn provides easy ways to evaluate models out-of-sample\n",
    "    * This is known as cross-validation"
   ]
  },
  {
   "cell_type": "markdown",
   "metadata": {},
   "source": [
    "https://scikit-learn.org/stable/modules/generated/sklearn.model_selection.KFold.html"
   ]
  },
  {
   "cell_type": "code",
   "execution_count": null,
   "metadata": {
    "slideshow": {
     "slide_type": "subslide"
    }
   },
   "outputs": [],
   "source": [
    "# Import KFold cross-validation\n",
    "from sklearn.cross_validation import KFold"
   ]
  },
  {
   "cell_type": "code",
   "execution_count": null,
   "metadata": {},
   "outputs": [],
   "source": [
    "for train, test in folds:\n",
    "    print(len(train),len(test))"
   ]
  },
  {
   "cell_type": "code",
   "execution_count": null,
   "metadata": {
    "slideshow": {
     "slide_type": "subslide"
    }
   },
   "outputs": [],
   "source": [
    "# Placeholder for scores from each fold\n",
    "scores = []\n",
    "\n",
    "# Create k folds (in our case 5). Loop over the folds,\n",
    "# and for each one, split the dataset into training and test.\n",
    "# In each fold, we train the data on the training values,\n",
    "# and then evaluate its performance on the test. Finally,\n",
    "# we can take the average of the out-of-sample scores as\n",
    "# our estimate of model performance.\n",
    "folds = KFold(n=len(X), n_folds=5, shuffle=True)\n",
    "print(\"Indices of training/test samples in each fold:\")\n",
    "for train, test in folds:\n",
    "    print(train, test) # so we can see what's going on\n",
    "    est.fit(X[train], y[train])\n",
    "    pred_y = est.predict(X[test])\n",
    "    fold_score = accuracy_score(y[test], pred_y)\n",
    "    scores.append(fold_score)"
   ]
  },
  {
   "cell_type": "code",
   "execution_count": null,
   "metadata": {
    "slideshow": {
     "slide_type": "subslide"
    }
   },
   "outputs": [],
   "source": [
    "# Overfitting be gone!\n",
    "print(\"\\nAccuracy in each fold:\")\n",
    "print(np.array(scores))"
   ]
  },
  {
   "cell_type": "markdown",
   "metadata": {
    "slideshow": {
     "slide_type": "slide"
    }
   },
   "source": [
    "# Model selection\n",
    "* We've experimented a lot with estimators, decomposition, evaluation, etc.\n",
    "* This is only the tip of the iceberg...\n",
    "* scikit-learn has hundreds of estimators!\n",
    "* Two problems:\n",
    "    1. How are we supposed to choose?\n",
    "    2. How do we do this in a principled way?\n",
    "* Basically we can try different things and see what leads to the highest cross-validation error\n",
    "* Caveat: *ALL* of the steps in our analysis pipeline...\n",
    "    * ...all data pre-processing strategies we try...\n",
    "    * ...all models we try...\n",
    "    * ...all hyperparameters (e.g., K parameter in KNN) we try for each model...\n",
    "* ...should ideally occur within another cross-validation loop, an idea called *nested cross-validation*"
   ]
  },
  {
   "cell_type": "markdown",
   "metadata": {
    "slideshow": {
     "slide_type": "slide"
    }
   },
   "source": [
    "# Fully automated pipelines\n",
    "* We've done feature extraction, reduction, and selection; estimation; evaluation...\n",
    "* But we can automate this\n",
    "    * Both for efficiency, and to prevent overfitting (greatly facilitates nested cross-validation)\n",
    "* sklearn.pipeline provides functionality for creating [fully automated Pipelines](http://scikit-learn.org/stable/modules/pipeline.html)\n",
    "* We'll build a toy example with 2 steps, but we could chain our entire workflow"
   ]
  },
  {
   "cell_type": "code",
   "execution_count": null,
   "metadata": {
    "slideshow": {
     "slide_type": "subslide"
    }
   },
   "outputs": [],
   "source": [
    "# Import the Pipeline class\n",
    "from sklearn.pipeline import Pipeline\n",
    "from sklearn.feature_selection import SelectKBest"
   ]
  },
  {
   "cell_type": "code",
   "execution_count": null,
   "metadata": {
    "slideshow": {
     "slide_type": "subslide"
    }
   },
   "outputs": [],
   "source": [
    "# Initialize a list to store all the steps in our pipeline\n",
    "steps = []\n",
    "\n",
    "# Add feature selection\n",
    "selector = SelectKBest(k=100)\n",
    "steps.append(('select', selector))\n",
    "\n",
    "# Add estimation\n",
    "estimator = LogisticRegression()\n",
    "steps.append(('estimate', estimator))\n",
    "\n",
    "# set up the predictors\n",
    "_X = np.c_[data['age'].values, lotsa_features]\n",
    "for i in range(_X.shape[1]): # standardize all predictors\n",
    "    _X[:,i] = (_X[:,i] - _X[:,i].mean())/_X[:,i].std()\n",
    "\n",
    "# Initialize and fit the pipeline\n",
    "pipeline = Pipeline(steps)\n",
    "_y_pred = pipeline.fit(_X, y)"
   ]
  },
  {
   "cell_type": "code",
   "execution_count": null,
   "metadata": {},
   "outputs": [],
   "source": [
    "_y_pred"
   ]
  },
  {
   "cell_type": "markdown",
   "metadata": {
    "slideshow": {
     "slide_type": "slide"
    }
   },
   "source": [
    "## Building our own estimator:\n",
    "### The fit-predict interface\n",
    "* scikit-learn is built around the estimator interface\n",
    "* \"An estimator is an object that fits a model based on some training data and is capable of inferring some properties on new data\"\n",
    "* Every estimator must implement fit() and predict() methods\n",
    "* Makes it easy to extend scikit-learn with our own estimators"
   ]
  },
  {
   "cell_type": "code",
   "execution_count": null,
   "metadata": {
    "slideshow": {
     "slide_type": "fragment"
    }
   },
   "outputs": [],
   "source": [
    "from sklearn.base import BaseEstimator, ClassifierMixin"
   ]
  },
  {
   "cell_type": "code",
   "execution_count": null,
   "metadata": {
    "slideshow": {
     "slide_type": "fragment"
    }
   },
   "outputs": [],
   "source": [
    "class MercurialClassifier(BaseEstimator, ClassifierMixin):\n",
    "    \"\"\"Picks a random class and assigns that label to all cases.\"\"\"\n",
    "\n",
    "    def fit(self, X, y):\n",
    "        ''' Selects a random class from the available options '''\n",
    "        classes = np.unique(y)\n",
    "        self.selected_ = np.random.choice(classes)\n",
    "        return self\n",
    "\n",
    "    def predict(self, X):\n",
    "        ''' Applies the selected class to everything '''\n",
    "        return np.repeat(self.selected_, len(X))"
   ]
  },
  {
   "cell_type": "markdown",
   "metadata": {
    "slideshow": {
     "slide_type": "subslide"
    }
   },
   "source": [
    "## A very quick dip into deep learning\n",
    "* What is deep learning?\n",
    "    * A field of machine learning that focuses on developing and applying \"deep\" neural network models\n",
    "* Why deep learning?\n",
    "    * The architecture of DNNs is (loosely) modeled on biological neural networks--which are very powerful!\n",
    "    * For many real-world tasks (image recognition, language translation, etc.), deep learning blows everything else out of the water\n",
    "    * A highly technical field\n",
    "    * But also a lot of trial-and-error\n",
    "    * Progress is *extremely* rapid"
   ]
  },
  {
   "cell_type": "markdown",
   "metadata": {
    "slideshow": {
     "slide_type": "subslide"
    }
   },
   "source": [
    "### Deep learning in Python\n",
    "* Python is arguably the premier language for deep learning\n",
    "* Virtually all major frameworks (TensorFlow, Caffe, Torch, etc.) have Python bindings\n",
    "* High-level libraries like `keras` make things even easier\n",
    "* We don't have time to do the topic justice, so let's just see a quick example"
   ]
  },
  {
   "cell_type": "markdown",
   "metadata": {
    "slideshow": {
     "slide_type": "subslide"
    }
   },
   "source": [
    "#### Logistic regression with neural networks\n",
    "* Neural networks are extremely powerful function approximators\n",
    "* We can start by training a logistic regression model using a neural net architecture\n",
    "* Then we can start adding complexity (e.g., hidden layers)"
   ]
  },
  {
   "cell_type": "code",
   "execution_count": null,
   "metadata": {
    "slideshow": {
     "slide_type": "fragment"
    }
   },
   "outputs": [],
   "source": [
    "from keras.models import Sequential\n",
    "from keras.layers import Dense\n",
    "from keras.utils import to_categorical\n",
    "from sklearn.model_selection import train_test_split"
   ]
  },
  {
   "cell_type": "code",
   "execution_count": null,
   "metadata": {},
   "outputs": [],
   "source": [
    "X.shape[1]"
   ]
  },
  {
   "cell_type": "code",
   "execution_count": null,
   "metadata": {
    "slideshow": {
     "slide_type": "fragment"
    }
   },
   "outputs": [],
   "source": [
    "# Our y is currently a 1-D array of integers; for multiclass classification,\n",
    "# keras's categorical_crossentropy loss expects a matrix of binary columns.\n",
    "# We use keras's to_categorical utility (which does essentially the same)\n",
    "# thing as pandas' get_dummies()) for the conversion.\n",
    "y_binary = to_categorical(y)\n",
    "\n",
    "# Set aside 20% of data as a hold-out test\n",
    "X_train, X_test, y_train, y_test = train_test_split(X, y_binary, test_size=0.2)\n",
    "\n",
    "n_classes = y_train.shape[1]\n",
    "\n",
    "# # # Multinomial logistic regression\n",
    "# model = Sequential([\n",
    "#     Dense(n_classes, activation='softmax', input_dim=X.shape[1])\n",
    "# ])\n",
    "\n",
    "# Uncomment the next few lines for a deeper version of the model\n",
    "# that contains a hidden layer\n",
    "model = Sequential([\n",
    "    Dense(50, activation='sigmoid', input_dim=X.shape[1]),\n",
    "    Dense(n_classes, activation='softmax') ])\n",
    "\n",
    "# Compile the model using a categorical cross-entry loss\n",
    "model.compile(optimizer='rmsprop', loss='categorical_crossentropy', metrics=['accuracy'])\n",
    "\n",
    "# Shuffle the training data\n",
    "perm = np.random.permutation(len(X_train))\n",
    "X_train = X_train[perm]\n",
    "y_train = y_train[perm]"
   ]
  },
  {
   "cell_type": "code",
   "execution_count": null,
   "metadata": {
    "slideshow": {
     "slide_type": "fragment"
    }
   },
   "outputs": [],
   "source": [
    "# Print a summary of the model\n",
    "model.summary()"
   ]
  },
  {
   "cell_type": "code",
   "execution_count": null,
   "metadata": {
    "slideshow": {
     "slide_type": "fragment"
    }
   },
   "outputs": [],
   "source": [
    "# Fit the model!\n",
    "model.fit(X_train, y_train, nb_epoch=100, validation_split=0.2)"
   ]
  },
  {
   "cell_type": "markdown",
   "metadata": {
    "slideshow": {
     "slide_type": "subslide"
    }
   },
   "source": [
    "### Visualizing our network\n",
    "* Keras provides basic tools for visualizing the network"
   ]
  },
  {
   "cell_type": "code",
   "execution_count": null,
   "metadata": {},
   "outputs": [],
   "source": [
    "#!pip install pydot\n",
    "#!pip install pydotplus\n",
    "#!pip install graphviz\n",
    "#!pip install pydot==1.2.3"
   ]
  },
  {
   "cell_type": "markdown",
   "metadata": {},
   "source": [
    "Text version summary"
   ]
  },
  {
   "cell_type": "code",
   "execution_count": null,
   "metadata": {},
   "outputs": [],
   "source": [
    "model.summary()"
   ]
  },
  {
   "cell_type": "code",
   "execution_count": null,
   "metadata": {},
   "outputs": [],
   "source": [
    "import keras\n",
    "import pydot as pyd\n",
    "from IPython.display import SVG\n",
    "from keras.utils.vis_utils import model_to_dot"
   ]
  },
  {
   "cell_type": "code",
   "execution_count": null,
   "metadata": {},
   "outputs": [],
   "source": [
    "keras.utils.vis_utils.pydot = pyd\n",
    "#Visualize Model\n",
    "def visualize_model(model):\n",
    "    return SVG(model_to_dot(model,dpi=65).create(prog='dot', format='svg'))"
   ]
  },
  {
   "cell_type": "code",
   "execution_count": null,
   "metadata": {
    "scrolled": true
   },
   "outputs": [],
   "source": [
    "#create your model\n",
    "#then call the function on your model\n",
    "visualize_model(model)"
   ]
  },
  {
   "cell_type": "code",
   "execution_count": null,
   "metadata": {
    "slideshow": {
     "slide_type": "fragment"
    }
   },
   "outputs": [],
   "source": [
    "SVG(model_to_dot(model, show_shapes=True,dpi=65).create(prog='dot', format='svg'))"
   ]
  },
  {
   "cell_type": "markdown",
   "metadata": {
    "slideshow": {
     "slide_type": "subslide"
    }
   },
   "source": [
    "### Going deeper...\n",
    "* If we improved performance non-trivially just by adding one hidden layer, shouldn't we just keep adding more layers?\n",
    "* In theory, perhaps, but in practice, probably not\n",
    "* Why not?\n",
    "    * Adding parameters makes the model harder to train, so we need more data\n",
    "    * There's probably a fundamental limit to how predictable outcomes are given these data"
   ]
  },
  {
   "cell_type": "markdown",
   "metadata": {
    "slideshow": {
     "slide_type": "subslide"
    }
   },
   "source": [
    "### How did we do?\n",
    "* We can evaluate the neural network's performance using the same tools we used before"
   ]
  },
  {
   "cell_type": "code",
   "execution_count": null,
   "metadata": {
    "slideshow": {
     "slide_type": "fragment"
    }
   },
   "outputs": [],
   "source": [
    "# Get predicted scores for the hold-out\n",
    "y_pred = model.predict(X_test)"
   ]
  },
  {
   "cell_type": "code",
   "execution_count": null,
   "metadata": {
    "slideshow": {
     "slide_type": "fragment"
    }
   },
   "outputs": [],
   "source": [
    "# The predictions are still in binary column format, so we need\n",
    "# to squash them back into a vector of integers of class IDs.\n",
    "# We can do this just by taking the max value in each row.\n",
    "y_test_class = np.argmax(y_test, axis=1)\n",
    "y_pred_class = np.argmax(y_pred, axis=1)\n",
    "y_test_class[:10],y_pred_class[:10]"
   ]
  },
  {
   "cell_type": "code",
   "execution_count": null,
   "metadata": {
    "slideshow": {
     "slide_type": "fragment"
    }
   },
   "outputs": [],
   "source": [
    "accuracy = (y_test_class == y_pred_class).mean()\n",
    "print(\"Raw accuracy: {:.3f}\\n\".format(accuracy))"
   ]
  },
  {
   "cell_type": "code",
   "execution_count": null,
   "metadata": {
    "slideshow": {
     "slide_type": "fragment"
    }
   },
   "outputs": [],
   "source": [
    "names = encoder.classes_\n",
    "print(\"\\nClassification report:\\n\")\n",
    "print(classification_report(y_test_class, y_pred_class, target_names=names))"
   ]
  },
  {
   "cell_type": "code",
   "execution_count": null,
   "metadata": {
    "slideshow": {
     "slide_type": "fragment"
    }
   },
   "outputs": [],
   "source": [
    "print(\"\\nConfusion matrix:\")\n",
    "plot_confusion_matrix(y_test_class, y_pred_class)"
   ]
  },
  {
   "cell_type": "markdown",
   "metadata": {},
   "source": [
    "# Blockchain\n",
    "I will try to explain this as easy as possible."
   ]
  },
  {
   "cell_type": "markdown",
   "metadata": {},
   "source": [
    "A few years ago blockchain technology was used in cryptocurrency. Nowadays, a variety of diverse areas are seeing the benefits of applying this technological approach to their needs."
   ]
  },
  {
   "cell_type": "markdown",
   "metadata": {},
   "source": [
    "<img src=\"https://comparic.xyz/uploads/2019/06/Single-block.png\" style=\"margin-bottom: 10px;\" width=\"500px\">\n",
    "<img src=\"https://skywirex.com/img/cryptocurrency/blockchain/blockchain-la-gi.png\" style=\"margin-bottom: 10px;\" width=\"500px\">"
   ]
  },
  {
   "cell_type": "markdown",
   "metadata": {},
   "source": [
    "### Bitcoin scenario\n",
    "* John wishes to pay bitcoins to Alice.<br>\n",
    "* John's transaction is made.<br>\n",
    "* Transactions are combined into a new block.<br>\n",
    "* Blocks are broadcasted to miners.<br>\n",
    "* Miners validates and accepts the transactions.<br>\n",
    "* New block is encrypted with hash of last block.<br>\n",
    "* New block become a part of blockchain.<br>\n",
    "* Alice receives bitcoins.<br>"
   ]
  },
  {
   "cell_type": "markdown",
   "metadata": {},
   "source": [
    "#### Problems in blockchain\n",
    "* https://security.googleblog.com/2017/02/announcing-first-sha1-collision.html<br>\n",
    "* https://www.schneier.com/blog/archives/2013/09/the_nsa_is_brea.html"
   ]
  },
  {
   "cell_type": "markdown",
   "metadata": {},
   "source": [
    "#### Blockain is composed of 3 main elements:\n",
    "* Data block<br>\n",
    "* Signature<br>\n",
    "* Hash<br>"
   ]
  },
  {
   "cell_type": "code",
   "execution_count": null,
   "metadata": {},
   "outputs": [],
   "source": [
    "# Example of simple block class\n",
    "class Block:\n",
    "    hash_of_previous_block = None\n",
    "    hash_of_this_block = None\n",
    "    data = None\n",
    "    timestamp = None"
   ]
  },
  {
   "cell_type": "markdown",
   "metadata": {},
   "source": [
    "## Timestamp\n",
    "We need to sign the block with date and time."
   ]
  },
  {
   "cell_type": "code",
   "execution_count": null,
   "metadata": {},
   "outputs": [],
   "source": [
    "from datetime import datetime"
   ]
  },
  {
   "cell_type": "code",
   "execution_count": null,
   "metadata": {},
   "outputs": [],
   "source": [
    "# Returns a datetime object containing the local date and time\n",
    "dateTimeObj = datetime.now()"
   ]
  },
  {
   "cell_type": "markdown",
   "metadata": {},
   "source": [
    "We can directly print this datetime object, it will display the data in readable format i.e."
   ]
  },
  {
   "cell_type": "code",
   "execution_count": null,
   "metadata": {},
   "outputs": [],
   "source": [
    "print(dateTimeObj)"
   ]
  },
  {
   "cell_type": "markdown",
   "metadata": {},
   "source": [
    "## Hash function"
   ]
  },
  {
   "cell_type": "markdown",
   "metadata": {},
   "source": [
    "A cryptographic hash function takes an arbitrary block of data and calculates a fixed-size bit string (a digest), such that different data results (with a high probability) in different digests."
   ]
  },
  {
   "cell_type": "markdown",
   "metadata": {},
   "source": [
    "<img src=\"https://www.tutorialspoint.com/cryptography/images/hash_functions.jpg\" style=\"margin-bottom: 10px;\" width=\"500px\">\n",
    "<img src=\"https://upload.wikimedia.org/wikipedia/commons/thumb/d/da/Hash_function.svg/1200px-Hash_function.svg.png\" style=\"margin-bottom: 10px;\" width=\"500px\">\n",
    "<img src=\"https://upload.wikimedia.org/wikipedia/commons/thumb/2/2b/Cryptographic_Hash_Function.svg/1200px-Cryptographic_Hash_Function.svg.png\" style=\"margin-bottom: 10px;\" width=\"500px\">"
   ]
  },
  {
   "cell_type": "code",
   "execution_count": null,
   "metadata": {},
   "outputs": [],
   "source": [
    "import hashlib\n",
    "m = hashlib.md5()\n",
    "m.update(b\"Python\")\n",
    "m.update(b\"Secirity\")\n",
    "m.digest()"
   ]
  },
  {
   "cell_type": "markdown",
   "metadata": {},
   "source": [
    "Lets make our own simple hash function."
   ]
  },
  {
   "cell_type": "code",
   "execution_count": null,
   "metadata": {},
   "outputs": [],
   "source": [
    "def hash_function(msg):\n",
    "    sum = 0\n",
    "    for x in msg:\n",
    "        print(\"Current sum:\",sum,\" Char:\",x,\" Code:\",ord(x))\n",
    "        sum = ( sum + ord(x) )%10\n",
    "    return sum"
   ]
  },
  {
   "cell_type": "code",
   "execution_count": null,
   "metadata": {},
   "outputs": [],
   "source": [
    "msg = \"abc\""
   ]
  },
  {
   "cell_type": "code",
   "execution_count": null,
   "metadata": {},
   "outputs": [],
   "source": [
    "hash_sum = hash_function(msg)"
   ]
  },
  {
   "cell_type": "code",
   "execution_count": null,
   "metadata": {},
   "outputs": [],
   "source": [
    "print(\"Message:\",msg,\" hash sum:\",hash_sum)"
   ]
  },
  {
   "cell_type": "markdown",
   "metadata": {},
   "source": [
    "## MD5 hash of a file"
   ]
  },
  {
   "cell_type": "markdown",
   "metadata": {},
   "source": [
    "Files in internet are often signed by MD5 hash. You you download a file and check MD5 sum you know that the file is not corrupted."
   ]
  },
  {
   "cell_type": "code",
   "execution_count": null,
   "metadata": {},
   "outputs": [],
   "source": [
    "x = open(\"sol.py\")"
   ]
  },
  {
   "cell_type": "code",
   "execution_count": null,
   "metadata": {},
   "outputs": [],
   "source": [
    "content = x.read()\n",
    "content[:10]"
   ]
  },
  {
   "cell_type": "code",
   "execution_count": null,
   "metadata": {},
   "outputs": [],
   "source": [
    "bytes(content[:10], 'utf-8')"
   ]
  },
  {
   "cell_type": "code",
   "execution_count": null,
   "metadata": {},
   "outputs": [],
   "source": [
    "file_hash = hashlib.md5()\n",
    "file_hash.update(bytes(content, 'utf-8'))"
   ]
  },
  {
   "cell_type": "code",
   "execution_count": null,
   "metadata": {},
   "outputs": [],
   "source": [
    "file_hash.digest()"
   ]
  },
  {
   "cell_type": "code",
   "execution_count": null,
   "metadata": {},
   "outputs": [],
   "source": [
    "file_hash.hexdigest()"
   ]
  },
  {
   "cell_type": "markdown",
   "metadata": {},
   "source": [
    "## MD5 of the class"
   ]
  },
  {
   "cell_type": "markdown",
   "metadata": {},
   "source": [
    "### JSON serialization"
   ]
  },
  {
   "cell_type": "markdown",
   "metadata": {},
   "source": [
    "Json is good for serialization of simple objects."
   ]
  },
  {
   "cell_type": "code",
   "execution_count": null,
   "metadata": {},
   "outputs": [],
   "source": [
    "import json"
   ]
  },
  {
   "cell_type": "code",
   "execution_count": null,
   "metadata": {},
   "outputs": [],
   "source": [
    "pi = 3.14"
   ]
  },
  {
   "cell_type": "code",
   "execution_count": null,
   "metadata": {},
   "outputs": [],
   "source": [
    "json.dumps(pi)"
   ]
  },
  {
   "cell_type": "code",
   "execution_count": null,
   "metadata": {},
   "outputs": [],
   "source": [
    "json.dumps(str(dateTimeObj))"
   ]
  },
  {
   "cell_type": "markdown",
   "metadata": {},
   "source": [
    "### Pickle serialization\n",
    "For the more advanced structures we can use pickle"
   ]
  },
  {
   "cell_type": "code",
   "execution_count": null,
   "metadata": {},
   "outputs": [],
   "source": [
    "import pickle"
   ]
  },
  {
   "cell_type": "code",
   "execution_count": null,
   "metadata": {},
   "outputs": [],
   "source": [
    "data_block = Block()"
   ]
  },
  {
   "cell_type": "code",
   "execution_count": null,
   "metadata": {},
   "outputs": [],
   "source": [
    "data_block"
   ]
  },
  {
   "cell_type": "markdown",
   "metadata": {},
   "source": [
    "#### Pickle serialized code"
   ]
  },
  {
   "cell_type": "code",
   "execution_count": null,
   "metadata": {},
   "outputs": [],
   "source": [
    "p = pickle.dumps(data_block)\n",
    "p"
   ]
  },
  {
   "cell_type": "markdown",
   "metadata": {},
   "source": [
    "#### MD5 hash of pickle\n",
    "Hash of a serialized string."
   ]
  },
  {
   "cell_type": "code",
   "execution_count": null,
   "metadata": {},
   "outputs": [],
   "source": [
    "class_hash = hashlib.md5()\n",
    "class_hash.update(p)\n",
    "class_hash.digest()"
   ]
  },
  {
   "cell_type": "markdown",
   "metadata": {},
   "source": [
    "## SHA\n",
    "SHA is a family of the cryptography hash functions."
   ]
  },
  {
   "cell_type": "code",
   "execution_count": null,
   "metadata": {},
   "outputs": [],
   "source": [
    "from cryptography.hazmat.backends import default_backend\n",
    "from cryptography.hazmat.primitives import hashes"
   ]
  },
  {
   "cell_type": "code",
   "execution_count": null,
   "metadata": {},
   "outputs": [],
   "source": [
    "digest = hashes.Hash(hashes.SHA256(), backend=default_backend())\n",
    "digest.update(b\"Python\")\n",
    "digest.update(b\"Secirity\")\n",
    "digest.finalize()"
   ]
  },
  {
   "cell_type": "code",
   "execution_count": null,
   "metadata": {},
   "outputs": [],
   "source": [
    "import hashlib"
   ]
  },
  {
   "cell_type": "markdown",
   "metadata": {},
   "source": [
    "This module implements a common interface to many different secure hash and message digest algorithms. Included are the FIPS secure hash algorithms SHA1, SHA224, SHA256, SHA384, and SHA512 (defined in FIPS 180-2) as well as RSA’s MD5 algorithm (defined in Internet RFC 1321). The terms “secure hash” and “message digest” are interchangeable. Older algorithms were called message digests. The modern term is secure hash."
   ]
  },
  {
   "cell_type": "code",
   "execution_count": null,
   "metadata": {},
   "outputs": [],
   "source": [
    "m = hashlib.sha256()\n",
    "m.name"
   ]
  },
  {
   "cell_type": "code",
   "execution_count": null,
   "metadata": {},
   "outputs": [],
   "source": [
    "m.update(b\"Python\")\n",
    "m.update(b\"Secirity\")\n",
    "m.digest() # string should be the same"
   ]
  },
  {
   "cell_type": "code",
   "execution_count": null,
   "metadata": {},
   "outputs": [],
   "source": [
    "# The size of the resulting hash in bytes.\n",
    "m.digest_size"
   ]
  },
  {
   "cell_type": "code",
   "execution_count": null,
   "metadata": {},
   "outputs": [],
   "source": [
    "# The internal block size of the hash algorithm in bytes.\n",
    "m.block_size"
   ]
  },
  {
   "cell_type": "code",
   "execution_count": null,
   "metadata": {},
   "outputs": [],
   "source": [
    "# Like digest() except the digest is returned as a string object of double length, \n",
    "# containing only hexadecimal digits. This may be used to exchange the value safely \n",
    "# in email or other non-binary environments.\n",
    "m.hexdigest()"
   ]
  },
  {
   "cell_type": "markdown",
   "metadata": {},
   "source": [
    "# Signature"
   ]
  },
  {
   "cell_type": "markdown",
   "metadata": {},
   "source": [
    "## RSA"
   ]
  },
  {
   "cell_type": "code",
   "execution_count": null,
   "metadata": {},
   "outputs": [],
   "source": [
    "from cryptography.hazmat.backends import default_backend\n",
    "from cryptography.hazmat.primitives.asymmetric import rsa"
   ]
  },
  {
   "cell_type": "code",
   "execution_count": null,
   "metadata": {},
   "outputs": [],
   "source": [
    "private_key = rsa.generate_private_key(\n",
    "     public_exponent=65537, # prime number\n",
    "     key_size=2048, # key size\n",
    "     backend=default_backend()\n",
    ")"
   ]
  },
  {
   "cell_type": "code",
   "execution_count": null,
   "metadata": {},
   "outputs": [],
   "source": [
    "private_key"
   ]
  },
  {
   "cell_type": "code",
   "execution_count": null,
   "metadata": {},
   "outputs": [],
   "source": [
    "from cryptography.hazmat.primitives import hashes\n",
    "from cryptography.hazmat.primitives.asymmetric import padding"
   ]
  },
  {
   "cell_type": "code",
   "execution_count": null,
   "metadata": {},
   "outputs": [],
   "source": [
    "message = b\"A message I want to sign\""
   ]
  },
  {
   "cell_type": "code",
   "execution_count": null,
   "metadata": {},
   "outputs": [],
   "source": [
    "signature = private_key.sign(\n",
    "     message,\n",
    "     padding.PSS(\n",
    "         mgf=padding.MGF1(hashes.SHA256()),\n",
    "         salt_length=padding.PSS.MAX_LENGTH\n",
    "     ),\n",
    "     hashes.SHA256()\n",
    ")"
   ]
  },
  {
   "cell_type": "code",
   "execution_count": null,
   "metadata": {},
   "outputs": [],
   "source": [
    "signature"
   ]
  },
  {
   "cell_type": "markdown",
   "metadata": {},
   "source": [
    "If your data is too large to be passed in a single call, you can hash it separately and pass that value using Prehashed."
   ]
  },
  {
   "cell_type": "code",
   "execution_count": null,
   "metadata": {},
   "outputs": [],
   "source": [
    "from cryptography.hazmat.primitives.asymmetric import utils"
   ]
  },
  {
   "cell_type": "code",
   "execution_count": null,
   "metadata": {},
   "outputs": [],
   "source": [
    "chosen_hash = hashes.SHA256()\n",
    "hasher = hashes.Hash(chosen_hash, default_backend())\n",
    "hasher.update(b\"data & \")\n",
    "hasher.update(b\"more data\")\n",
    "digest = hasher.finalize()"
   ]
  },
  {
   "cell_type": "code",
   "execution_count": null,
   "metadata": {},
   "outputs": [],
   "source": [
    "sig = private_key.sign(\n",
    "     digest,\n",
    "     padding.PSS(\n",
    "         mgf=padding.MGF1(hashes.SHA256()),\n",
    "         salt_length=padding.PSS.MAX_LENGTH\n",
    "     ),\n",
    "     utils.Prehashed(chosen_hash)\n",
    ")"
   ]
  },
  {
   "cell_type": "code",
   "execution_count": null,
   "metadata": {},
   "outputs": [],
   "source": [
    "sig"
   ]
  },
  {
   "cell_type": "markdown",
   "metadata": {},
   "source": [
    "## Verify the signature"
   ]
  },
  {
   "cell_type": "code",
   "execution_count": null,
   "metadata": {},
   "outputs": [],
   "source": [
    "public_key = private_key.public_key()"
   ]
  },
  {
   "cell_type": "markdown",
   "metadata": {},
   "source": [
    "### Verify the message\n",
    "If the verification goes wrong <b>InvalidSignature</b> is rised."
   ]
  },
  {
   "cell_type": "code",
   "execution_count": null,
   "metadata": {},
   "outputs": [],
   "source": [
    "public_key.verify(\n",
    "     signature,\n",
    "     b\"message\", # this will rise en error\n",
    "     #massge, # this is ok\n",
    "     padding.PSS(\n",
    "         mgf=padding.MGF1(hashes.SHA256()),\n",
    "         salt_length=padding.PSS.MAX_LENGTH\n",
    "     ),\n",
    "     hashes.SHA256()\n",
    ")"
   ]
  },
  {
   "cell_type": "markdown",
   "metadata": {},
   "source": [
    "### Verify the hash"
   ]
  },
  {
   "cell_type": "code",
   "execution_count": null,
   "metadata": {},
   "outputs": [],
   "source": [
    "chosen_hash = hashes.SHA256()\n",
    "hasher = hashes.Hash(chosen_hash, default_backend())\n",
    "hasher.update(b\"data & \")\n",
    "hasher.update(b\"more data\")\n",
    "digest = hasher.finalize()"
   ]
  },
  {
   "cell_type": "code",
   "execution_count": null,
   "metadata": {},
   "outputs": [],
   "source": [
    "public_key.verify(\n",
    "     sig,\n",
    "     digest,\n",
    "     padding.PSS(\n",
    "         mgf=padding.MGF1(hashes.SHA256()),\n",
    "         salt_length=padding.PSS.MAX_LENGTH\n",
    "     ),\n",
    "     utils.Prehashed(chosen_hash)\n",
    ")"
   ]
  }
 ],
 "metadata": {
  "kernelspec": {
   "display_name": "Python 3",
   "language": "python",
   "name": "python3"
  },
  "language_info": {
   "codemirror_mode": {
    "name": "ipython",
    "version": 3
   },
   "file_extension": ".py",
   "mimetype": "text/x-python",
   "name": "python",
   "nbconvert_exporter": "python",
   "pygments_lexer": "ipython3",
   "version": "3.11.2"
  }
 },
 "nbformat": 4,
 "nbformat_minor": 2
}
