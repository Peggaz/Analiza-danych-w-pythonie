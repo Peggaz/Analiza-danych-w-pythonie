{
 "cells": [
  {
   "cell_type": "markdown",
   "metadata": {},
   "source": [
    "# Importy"
   ]
  },
  {
   "cell_type": "code",
   "execution_count": 1,
   "metadata": {},
   "outputs": [],
   "source": [
    "import numpy as np"
   ]
  },
  {
   "cell_type": "code",
   "execution_count": 2,
   "metadata": {},
   "outputs": [],
   "source": [
    "from ipywidgets import interact, interactive, fixed, interact_manual\n",
    "import ipywidgets as widgets"
   ]
  },
  {
   "cell_type": "code",
   "execution_count": 3,
   "metadata": {},
   "outputs": [],
   "source": [
    "import matplotlib.pyplot as plt"
   ]
  },
  {
   "cell_type": "markdown",
   "metadata": {},
   "source": [
    "# Funkcje"
   ]
  },
  {
   "cell_type": "code",
   "execution_count": 4,
   "metadata": {},
   "outputs": [],
   "source": [
    "def fun(x):\n",
    "    return 1/(1+np.exp(-x))"
   ]
  },
  {
   "cell_type": "code",
   "execution_count": 5,
   "metadata": {},
   "outputs": [],
   "source": [
    "def prob(a,b):\n",
    "    result = fun(a-b)\n",
    "    print(\"Prawdopodobieństwo:\",result)"
   ]
  },
  {
   "cell_type": "code",
   "execution_count": 6,
   "metadata": {},
   "outputs": [
    {
     "data": {
      "image/png": "[encoded data removed]",
      "text/plain": [
       "<Figure size 640x480 with 1 Axes>"
      ]
     },
     "metadata": {},
     "output_type": "display_data"
    }
   ],
   "source": [
    "x = np.arange(-6,6.000001,0.001)\n",
    "y=1/(1+np.exp(-x))\n",
    "plt.plot(x,y)\n",
    "plt.show()"
   ]
  },
  {
   "cell_type": "code",
   "execution_count": 7,
   "metadata": {},
   "outputs": [
    {
     "data": {
      "application/vnd.jupyter.widget-view+json": {
       "model_id": "e2fc7e511bda4eb8ac77f862112a8987",
       "version_major": 2,
       "version_minor": 0
      },
      "text/plain": [
       "interactive(children=(FloatSlider(value=0.0, description='Zawodnik:', max=3.0, min=-3.0, step=0.01), FloatSlid…"
      ]
     },
     "metadata": {},
     "output_type": "display_data"
    },
    {
     "data": {
      "text/plain": [
       "<function __main__.prob(a, b)>"
      ]
     },
     "execution_count": 7,
     "metadata": {},
     "output_type": "execute_result"
    }
   ],
   "source": [
    "interact( prob , a=widgets.FloatSlider(min=-3,max=3,value=0,step=0.01,description =\"Zawodnik:\"),\n",
    "         b = widgets.FloatSlider(min=-3,max=3,value=0,step=0.01,description='Pytanie:') )"
   ]
  },
  {
   "cell_type": "code",
   "execution_count": 8,
   "metadata": {},
   "outputs": [],
   "source": [
    "content = open(\"sredni.txt\",\"r\")"
   ]
  },
  {
   "cell_type": "code",
   "execution_count": 9,
   "metadata": {},
   "outputs": [],
   "source": [
    "raw_format = content.read()\n",
    "lines = raw_format.split(\"\\n\")"
   ]
  },
  {
   "cell_type": "code",
   "execution_count": 10,
   "metadata": {},
   "outputs": [],
   "source": [
    "lst= list()\n",
    "for line in lines:\n",
    "    if len(line) < 10 : continue\n",
    "    tmp = [ int(x) for x in list(line) ]\n",
    "    lst.append(tmp)\n",
    "M = np.matrix(lst[:100])"
   ]
  },
  {
   "cell_type": "code",
   "execution_count": 11,
   "metadata": {},
   "outputs": [
    {
     "data": {
      "text/plain": [
       "array([20, 64, 83, ..., 17, 88, 67])"
      ]
     },
     "execution_count": 11,
     "metadata": {},
     "output_type": "execute_result"
    }
   ],
   "source": [
    "pyt_ok = np.sum(M,axis=0)\n",
    "pyt_ok = pyt_ok.ravel()\n",
    "pyt_ok = pyt_ok.reshape( pyt_ok.shape[-1],pyt_ok.shape[0] )\n",
    "pyt_ok = np.array([ int(x) for x in pyt_ok ])\n",
    "pyt_ok "
   ]
  },
  {
   "cell_type": "code",
   "execution_count": 12,
   "metadata": {},
   "outputs": [
    {
     "data": {
      "text/plain": [
       "array([3685, 5747, 5660, 4415, 6205, 3379, 5525, 3145, 8615, 8751, 1414,\n",
       "       4181, 7462, 3417, 1738, 7452, 1903, 1227, 7811, 5181, 1514, 3636,\n",
       "       5897, 7261, 3475, 8521, 8458, 4287, 7381, 3925, 4175, 3772, 1855,\n",
       "       2446, 6939, 8711, 3216, 8193, 7916, 2374, 8142, 4617, 7672, 6609,\n",
       "       1464, 6909, 4677, 2198, 5643, 4690, 8652, 4888, 1529, 8154, 4142,\n",
       "       2942, 5173, 7786, 6420, 3545, 7960, 8145, 8748, 6275, 4588, 5516,\n",
       "       7781, 5488, 5773, 8418, 2383, 3780, 8065, 8046, 3576, 7042, 7787,\n",
       "       7508, 7318, 2023, 4027, 8609, 7947, 4651, 3186, 8147, 2529, 2910,\n",
       "       7244, 8464, 8294, 5654, 2813, 2476, 6873, 1151, 8337, 7853, 4456,\n",
       "       7372])"
      ]
     },
     "execution_count": 12,
     "metadata": {},
     "output_type": "execute_result"
    }
   ],
   "source": [
    "player = np.sum(M,axis=1)\n",
    "player = np.array([ int(x) for x in player ])\n",
    "player"
   ]
  },
  {
   "cell_type": "code",
   "execution_count": 13,
   "metadata": {},
   "outputs": [
    {
     "data": {
      "text/plain": [
       "(55,\n",
       " array([False,  True,  True, False,  True, False,  True, False,  True,\n",
       "         True, False, False,  True, False, False,  True, False, False,\n",
       "         True,  True, False, False,  True,  True, False,  True,  True,\n",
       "        False,  True, False, False, False, False, False,  True,  True,\n",
       "        False,  True,  True, False,  True, False,  True,  True, False,\n",
       "         True, False, False,  True, False,  True, False, False,  True,\n",
       "        False, False,  True,  True,  True, False,  True,  True,  True,\n",
       "         True, False,  True,  True,  True,  True,  True, False, False,\n",
       "         True,  True, False,  True,  True,  True,  True, False, False,\n",
       "         True,  True, False, False,  True, False, False,  True,  True,\n",
       "         True,  True, False, False,  True, False,  True,  True, False,\n",
       "         True]))"
      ]
     },
     "execution_count": 13,
     "metadata": {},
     "output_type": "execute_result"
    }
   ],
   "source": [
    "np.sum( player>5000 ), player>5000"
   ]
  },
  {
   "cell_type": "code",
   "execution_count": 14,
   "metadata": {},
   "outputs": [
    {
     "data": {
      "text/plain": [
       "array([False,  True,  True, False,  True, False,  True, False,  True,\n",
       "        True, False, False,  True, False, False,  True, False, False,\n",
       "        True,  True, False, False,  True,  True, False,  True,  True,\n",
       "       False,  True, False, False, False, False, False,  True,  True,\n",
       "       False,  True,  True, False,  True, False,  True,  True, False,\n",
       "        True, False, False,  True, False,  True, False, False,  True,\n",
       "       False, False,  True,  True,  True, False,  True,  True,  True,\n",
       "        True, False,  True,  True,  True,  True,  True, False, False,\n",
       "        True,  True, False,  True,  True,  True,  True, False, False,\n",
       "        True,  True, False, False,  True, False, False,  True,  True,\n",
       "        True,  True, False, False,  True, False,  True,  True, False,\n",
       "        True])"
      ]
     },
     "execution_count": 14,
     "metadata": {},
     "output_type": "execute_result"
    }
   ],
   "source": [
    "player>5000"
   ]
  },
  {
   "cell_type": "code",
   "execution_count": 15,
   "metadata": {},
   "outputs": [],
   "source": [
    "indeks = np.arange(1,101)[player>5000]"
   ]
  },
  {
   "cell_type": "code",
   "execution_count": 16,
   "metadata": {},
   "outputs": [
    {
     "data": {
      "text/plain": [
       "25"
      ]
     },
     "execution_count": 16,
     "metadata": {},
     "output_type": "execute_result"
    }
   ],
   "source": [
    "list( np.arange(1,101)[player>5000] ).index(54)"
   ]
  },
  {
   "cell_type": "code",
   "execution_count": 17,
   "metadata": {},
   "outputs": [
    {
     "data": {
      "text/plain": [
       "((55, 4114), (55, 10000))"
      ]
     },
     "execution_count": 17,
     "metadata": {},
     "output_type": "execute_result"
    }
   ],
   "source": [
    "tmp = M[ player>5000 ,  :]\n",
    "PM = M[ player>5000 ,  :]\n",
    "ALL = PM[:, (pyt_ok>75)  | (pyt_ok<25)  ]\n",
    "ALL.shape,PM.shape"
   ]
  },
  {
   "cell_type": "markdown",
   "metadata": {},
   "source": [
    "# Proste pytania & podejrzani gracze"
   ]
  },
  {
   "cell_type": "code",
   "execution_count": 18,
   "metadata": {},
   "outputs": [
    {
     "data": {
      "image/png": "[encoded data removed]",
      "text/plain": [
       "<Figure size 3000x500 with 1 Axes>"
      ]
     },
     "metadata": {},
     "output_type": "display_data"
    },
    {
     "data": {
      "text/plain": [
       "(None, 2672)"
      ]
     },
     "execution_count": 18,
     "metadata": {},
     "output_type": "execute_result"
    }
   ],
   "source": [
    "tmp = PM[:,(pyt_ok>75) ]\n",
    "proste = PM[:,(pyt_ok>75) ]\n",
    "tmp = tmp[:,:400]\n",
    "plt.figure(figsize=(30,5))\n",
    "plt.imshow( tmp  , cmap=\"spring\")\n",
    "plt.show(),PM[:,(pyt_ok>75) ].shape[1]"
   ]
  },
  {
   "cell_type": "markdown",
   "metadata": {},
   "source": [
    "# Trudne pytania "
   ]
  },
  {
   "cell_type": "code",
   "execution_count": 19,
   "metadata": {},
   "outputs": [
    {
     "data": {
      "image/png": "[encoded data removed]",
      "text/plain": [
       "<Figure size 3000x500 with 1 Axes>"
      ]
     },
     "metadata": {},
     "output_type": "display_data"
    },
    {
     "data": {
      "text/plain": [
       "(None, 1442)"
      ]
     },
     "execution_count": 19,
     "metadata": {},
     "output_type": "execute_result"
    }
   ],
   "source": [
    "tmp = PM[:,(pyt_ok<25) ]\n",
    "trudne = PM[:,(pyt_ok<25) ]\n",
    "tmp = tmp[:,:400]\n",
    "plt.figure(figsize=(30,5))\n",
    "plt.imshow( tmp , cmap=\"spring\")\n",
    "plt.show(),PM[:,(pyt_ok<25) ].shape[1]"
   ]
  },
  {
   "cell_type": "markdown",
   "metadata": {},
   "source": [
    "#### pierwszy krok do funkcji kosztu"
   ]
  },
  {
   "cell_type": "code",
   "execution_count": 20,
   "metadata": {},
   "outputs": [
    {
     "data": {
      "text/plain": [
       "(1442,)"
      ]
     },
     "execution_count": 20,
     "metadata": {},
     "output_type": "execute_result"
    }
   ],
   "source": [
    "coef = ( 100 - pyt_ok )[pyt_ok<25]\n",
    "coef.shape"
   ]
  },
  {
   "cell_type": "code",
   "execution_count": 21,
   "metadata": {},
   "outputs": [
    {
     "data": {
      "text/plain": [
       "((55, 1442), (55, 1442))"
      ]
     },
     "execution_count": 21,
     "metadata": {},
     "output_type": "execute_result"
    }
   ],
   "source": [
    "cost = trudne\n",
    "cost.shape,trudne.shape"
   ]
  },
  {
   "cell_type": "code",
   "execution_count": 22,
   "metadata": {},
   "outputs": [],
   "source": [
    "for i in range(cost.shape[0]):\n",
    "    cost[i,:] = np.array(cost[i,:])* np.array(coef)"
   ]
  },
  {
   "cell_type": "code",
   "execution_count": 23,
   "metadata": {},
   "outputs": [
    {
     "data": {
      "text/plain": [
       "matrix([[ 0,  0,  0,  0,  0,  0, 85,  0,  0,  0],\n",
       "        [ 0,  0,  0,  0,  0,  0,  0, 84,  0,  0],\n",
       "        [ 0,  0, 81,  0, 77,  0, 85,  0,  0,  0],\n",
       "        [ 0,  0,  0,  0,  0,  0,  0,  0,  0,  0],\n",
       "        [80,  0, 81, 79, 77, 83,  0, 84, 79, 81],\n",
       "        [ 0,  0, 81,  0,  0, 83, 85,  0, 79, 81],\n",
       "        [ 0, 85,  0,  0,  0,  0,  0,  0, 79, 81],\n",
       "        [ 0,  0, 81,  0,  0,  0,  0, 84,  0,  0],\n",
       "        [ 0,  0,  0,  0,  0,  0, 85, 84,  0,  0],\n",
       "        [ 0,  0,  0,  0,  0,  0,  0,  0,  0,  0]])"
      ]
     },
     "execution_count": 23,
     "metadata": {},
     "output_type": "execute_result"
    }
   ],
   "source": [
    "cost[:10,:10]"
   ]
  },
  {
   "cell_type": "code",
   "execution_count": 24,
   "metadata": {},
   "outputs": [],
   "source": [
    "sus = np.sum(cost,axis=-1)"
   ]
  },
  {
   "cell_type": "code",
   "execution_count": 25,
   "metadata": {},
   "outputs": [
    {
     "data": {
      "text/plain": [
       "54"
      ]
     },
     "execution_count": 25,
     "metadata": {},
     "output_type": "execute_result"
    }
   ],
   "source": [
    "indeks[ sus.argmax() ]"
   ]
  },
  {
   "cell_type": "code",
   "execution_count": 26,
   "metadata": {},
   "outputs": [
    {
     "data": {
      "text/plain": [
       "matrix([[ 0,  0,  0,  0,  0,  0, 85,  0,  0,  0],\n",
       "        [ 0,  0,  0,  0,  0,  0,  0, 84,  0,  0],\n",
       "        [ 0,  0, 81,  0, 77,  0, 85,  0,  0,  0],\n",
       "        [ 0,  0,  0,  0,  0,  0,  0,  0,  0,  0],\n",
       "        [80,  0, 81, 79, 77, 83,  0, 84, 79, 81],\n",
       "        [ 0,  0, 81,  0,  0, 83, 85,  0, 79, 81],\n",
       "        [ 0, 85,  0,  0,  0,  0,  0,  0, 79, 81],\n",
       "        [ 0,  0, 81,  0,  0,  0,  0, 84,  0,  0],\n",
       "        [ 0,  0,  0,  0,  0,  0, 85, 84,  0,  0],\n",
       "        [ 0,  0,  0,  0,  0,  0,  0,  0,  0,  0]])"
      ]
     },
     "execution_count": 26,
     "metadata": {},
     "output_type": "execute_result"
    }
   ],
   "source": [
    "trudne[:10,:10]"
   ]
  },
  {
   "cell_type": "markdown",
   "metadata": {},
   "source": [
    "# PipeLine"
   ]
  },
  {
   "cell_type": "code",
   "execution_count": 27,
   "metadata": {},
   "outputs": [],
   "source": [
    "content = open(\"sredni.txt\",\"r\")\n",
    "raw_format = content.read()\n",
    "lines = raw_format.split(\"\\n\")"
   ]
  },
  {
   "cell_type": "code",
   "execution_count": 28,
   "metadata": {},
   "outputs": [],
   "source": [
    "#sredni_odpowiedzi.txt\n",
    "content2 = open(\"sredni_odpowiedzi.txt\",\"r\")\n",
    "raw_format2 = content2.read()\n",
    "lines2 = raw_format2.split(\"\\n\")"
   ]
  },
  {
   "cell_type": "code",
   "execution_count": 29,
   "metadata": {},
   "outputs": [
    {
     "data": {
      "text/plain": [
       "['Case #1: 54',\n",
       " 'Case #2: 38',\n",
       " 'Case #3: 34',\n",
       " 'Case #4: 36',\n",
       " 'Case #5: 51',\n",
       " 'Case #6: 57',\n",
       " 'Case #7: 28',\n",
       " 'Case #8: 84',\n",
       " 'Case #9: 32',\n",
       " 'Case #10: 7',\n",
       " 'Case #11: 16',\n",
       " 'Case #12: 53',\n",
       " 'Case #13: 25',\n",
       " 'Case #14: 32',\n",
       " 'Case #15: 94',\n",
       " 'Case #16: 20',\n",
       " 'Case #17: 7',\n",
       " 'Case #18: 84',\n",
       " 'Case #19: 64',\n",
       " 'Case #20: 40',\n",
       " 'Case #21: 81',\n",
       " 'Case #22: 26',\n",
       " 'Case #23: 51',\n",
       " 'Case #24: 75',\n",
       " 'Case #25: 83',\n",
       " 'Case #26: 46',\n",
       " 'Case #27: 94',\n",
       " 'Case #28: 37',\n",
       " 'Case #29: 79',\n",
       " 'Case #30: 10',\n",
       " 'Case #31: 92',\n",
       " 'Case #32: 90',\n",
       " 'Case #33: 76',\n",
       " 'Case #34: 98',\n",
       " 'Case #35: 72',\n",
       " 'Case #36: 19',\n",
       " 'Case #37: 92',\n",
       " 'Case #38: 11',\n",
       " 'Case #39: 100',\n",
       " 'Case #40: 10',\n",
       " 'Case #41: 72',\n",
       " 'Case #42: 21',\n",
       " 'Case #43: 1',\n",
       " 'Case #44: 3',\n",
       " 'Case #45: 77',\n",
       " 'Case #46: 17',\n",
       " 'Case #47: 54',\n",
       " 'Case #48: 29',\n",
       " 'Case #49: 41',\n",
       " 'Case #50: 98',\n",
       " '']"
      ]
     },
     "execution_count": 29,
     "metadata": {},
     "output_type": "execute_result"
    }
   ],
   "source": [
    "lines2"
   ]
  },
  {
   "cell_type": "code",
   "execution_count": 30,
   "metadata": {},
   "outputs": [],
   "source": [
    "from tqdm import tqdm"
   ]
  },
  {
   "cell_type": "code",
   "execution_count": null,
   "metadata": {},
   "outputs": [],
   "source": []
  },
  {
   "cell_type": "code",
   "execution_count": 31,
   "metadata": {
    "scrolled": false
   },
   "outputs": [],
   "source": [
    "for i in tqdm(range(int(lines[0]))):\n",
    "    lst= list()\n",
    "    for line in lines:\n",
    "        if len(line) < 10 : continue\n",
    "        tmp = [ int(x) for x in list(line) ]\n",
    "        lst.append(tmp)\n",
    "    M = np.matrix(lst[100*i:100+100*i])\n",
    "    \n",
    "    pyt_ok = np.sum(M,axis=0)\n",
    "    pyt_ok = pyt_ok.ravel()\n",
    "    pyt_ok = pyt_ok.reshape( pyt_ok.shape[-1],pyt_ok.shape[0] )\n",
    "    pyt_ok = np.array([ int(x) for x in pyt_ok ])\n",
    "    \n",
    "    player = np.sum(M,axis=1)\n",
    "    player = np.array([ int(x) for x in player ])\n",
    "    \n",
    "    indeks = np.arange(1,101)[player>5000]\n",
    "    \n",
    "    tmp = M[ player>5000 ,  :]\n",
    "    PM = M[ player>5000 ,  :]\n",
    "    \n",
    "    trudne = PM[:,(pyt_ok<25) ]\n",
    "    cost = trudne\n",
    "    \n",
    "    coef = ( 100 - pyt_ok )[pyt_ok<25]\n",
    "    for j in range(cost.shape[0]):\n",
    "        cost[j,:] = np.array(cost[j,:])* np.array(coef)\n",
    "        \n",
    "    sus = np.sum(cost,axis=-1)\n",
    "    #print(i)\n",
    "    if indeks[ sus.argmax() ] == int( lines2[i].split(\" \")[-1] ) :\n",
    "        print(\"OK\",indeks[ sus.argmax() ], lines2[i].split(\" \")[-1] )\n",
    "    else : \n",
    "        print(\"NIE\",indeks[ sus.argmax() ], lines2[i].split(\" \")[-1] )"
   ]
  },
  {
   "cell_type": "code",
   "execution_count": 32,
   "metadata": {},
   "outputs": [],
   "source": [
    "lst= list()\n",
    "for line in lines:\n",
    "    if len(line) < 10 : continue\n",
    "    tmp = [ int(x) for x in list(line) ]\n",
    "    lst.append(tmp)\n",
    "\n",
    "\n",
    "\n",
    "for i in tqdm(range(int(lines[0]))):\n",
    "    \n",
    "\n",
    "    M = np.matrix(lst[100*i:100+100*i])\n",
    "    \n",
    "    pyt_ok = np.sum(M,axis=0)\n",
    "    pyt_ok = pyt_ok.ravel()\n",
    "    pyt_ok = pyt_ok.reshape( pyt_ok.shape[-1],pyt_ok.shape[0] )\n",
    "    pyt_ok = np.array([ int(x) for x in pyt_ok ])\n",
    "    \n",
    "    player = np.sum(M,axis=1)\n",
    "    player = np.array([ int(x) for x in player ])\n",
    "    \n",
    "    indeks = np.arange(1,101)[player>5000]\n",
    "    \n",
    "    tmp = M[ player>5000 ,  :]\n",
    "    PM = M[ player>5000 ,  :]\n",
    "    \n",
    "    trudne = PM[:,(pyt_ok<25) ]\n",
    "    cost = trudne\n",
    "    \n",
    "    coef = ( 100 - pyt_ok )[pyt_ok<25]\n",
    "    for j in range(cost.shape[0]):\n",
    "        cost[j,:] = np.array(cost[j,:])* np.array(coef)\n",
    "        \n",
    "    sus = np.sum(cost,axis=-1)\n",
    "    #print(i)\n",
    "    if indeks[ sus.argmax() ] == int( lines2[i].split(\" \")[-1] ) :\n",
    "        print(\"OK\",indeks[ sus.argmax() ], lines2[i].split(\" \")[-1] )\n",
    "    else : \n",
    "        print(\"NIE\",indeks[ sus.argmax() ], lines2[i].split(\" \")[-1] )"
   ]
  },
  {
   "cell_type": "code",
   "execution_count": null,
   "metadata": {},
   "outputs": [
    {
     "data": {
      "text/plain": [
       "'54'"
      ]
     },
     "execution_count": 58,
     "metadata": {},
     "output_type": "execute_result"
    }
   ],
   "source": [
    "lines2[0].split(\" \")[-1]"
   ]
  }
 ],
 "metadata": {
  "kernelspec": {
   "display_name": "Python 3",
   "language": "python",
   "name": "python3"
  },
  "language_info": {
   "codemirror_mode": {
    "name": "ipython",
    "version": 3
   },
   "file_extension": ".py",
   "mimetype": "text/x-python",
   "name": "python",
   "nbconvert_exporter": "python",
   "pygments_lexer": "ipython3",
   "version": "3.11.2"
  }
 },
 "nbformat": 4,
 "nbformat_minor": 2
}
