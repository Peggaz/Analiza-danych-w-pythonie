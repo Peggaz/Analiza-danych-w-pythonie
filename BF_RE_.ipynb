{
 "cells": [
  {
   "cell_type": "markdown",
   "id": "e97d1200",
   "metadata": {},
   "source": [
    "# BeautifulSoup & re"
   ]
  },
  {
   "cell_type": "markdown",
   "id": "ed980566",
   "metadata": {},
   "source": [
    "## Czytanie stron internetowych"
   ]
  },
  {
   "cell_type": "markdown",
   "id": "1736d965",
   "metadata": {},
   "source": [
    "Do czytania zawartości stron internetowych są potrzebne dodatkowe bibloteki"
   ]
  },
  {
   "cell_type": "code",
   "execution_count": 1,
   "id": "c5432c6f",
   "metadata": {},
   "outputs": [],
   "source": [
    "from bs4 import BeautifulSoup # bibloteka do parsowania stron\n",
    "import requests # biblioteka do sciagania stron do \"kodu\""
   ]
  },
  {
   "cell_type": "markdown",
   "id": "5960a3e1",
   "metadata": {},
   "source": [
    "[https://w3schools.com/python/demopage.htm](https://w3schools.com/python/demopage.htm)"
   ]
  },
  {
   "cell_type": "markdown",
   "id": "b71ca5d4",
   "metadata": {},
   "source": [
    "Zczytujemy strone podobnie jakby to był plik"
   ]
  },
  {
   "cell_type": "code",
   "execution_count": 2,
   "id": "32935518",
   "metadata": {},
   "outputs": [
    {
     "name": "stdout",
     "output_type": "stream",
     "text": [
      "<!DOCTYPE html>\n",
      "<html>\n",
      "<body>\n",
      "\n",
      "<h1>This is a Test Page</h1>\n",
      "\n",
      "</body>\n",
      "</html>\n"
     ]
    }
   ],
   "source": [
    "strona_1 = requests.get('https://w3schools.com/python/demopage.htm')\n",
    "# zawartość strony jest dość uboga\n",
    "print(strona_1.text)"
   ]
  },
  {
   "cell_type": "markdown",
   "id": "66f9c727",
   "metadata": {},
   "source": [
    "Większość elementów jest tagami html aby przeglądarki potrafiły poprawie wyświetlić stronę."
   ]
  },
  {
   "cell_type": "markdown",
   "id": "c16699db",
   "metadata": {},
   "source": [
    "Przykład z przyciskami [tutaj](https://www.w3schools.com/css/tryit.asp?filename=trycss_buttons_hover)."
   ]
  },
  {
   "cell_type": "markdown",
   "id": "a661d430",
   "metadata": {},
   "source": [
    "#### Przykład"
   ]
  },
  {
   "cell_type": "code",
   "execution_count": 30,
   "id": "aa9eaaf8",
   "metadata": {},
   "outputs": [],
   "source": [
    "# strona słownik jęzka polskiego z wyszukanym słowem\n",
    "adres_strony = 'https://sjp.pl/parno'"
   ]
  },
  {
   "cell_type": "code",
   "execution_count": 31,
   "id": "59a717f7",
   "metadata": {},
   "outputs": [],
   "source": [
    "# zczytywanie strony\n",
    "strona_2 = requests.get(adres_strony)"
   ]
  },
  {
   "cell_type": "markdown",
   "id": "a28dd67d",
   "metadata": {},
   "source": [
    "Jak widać poniżej zawartości w formie html nie da się czytać."
   ]
  },
  {
   "cell_type": "code",
   "execution_count": 32,
   "id": "bdc2bd46",
   "metadata": {},
   "outputs": [
    {
     "name": "stdout",
     "output_type": "stream",
     "text": [
      "<!DOCTYPE html>\n",
      "<html lang=\"pl\">\n",
      "<head>\n",
      "<meta charset=\"utf-8\" />\n",
      "<meta name=\"viewport\" content=\"width=device-width, initial-scale=1.0, user-scalable=no\" />\n",
      "<title>parno - Słownik SJP</title>\n",
      "<style type=\"text/css\">\n",
      "body { margin: 0; padding: 15px; font: 16px/1.4 sans-serif; }\n",
      "body, .basecl { background: #fff; color: #222; }\n",
      "body { word-wrap: break-word; -webkit-text-size-adjust: 100%; }\n",
      "a { text-decoration: none; }\n",
      "a:visited { color: #528; } a:link, a.lc, .lc { color: #23a; }\n",
      ".bg1 { background: #cdf; } .bg0 { background: #26c; }\n",
      "h1 { font: bold 24px sans-serif; }\n",
      "hr { border: none; height: 1px; background: rgba(128,128,128,.4); }\n",
      ".z p { max-width: 34em; margin-bottom: 1.7em; }\n",
      ".sm { font: 14px sans-serif; }\n",
      ".lt { opacity: .8; } .lt a { color: inherit; }\n",
      ".lopc { opacity: .7; } .lbg { background: rgba(128,128,128,.08); }\n",
      "ul.m { list-style-type: square; line-height: 2.4; }\n",
      ".ifnm { display: none; }\n",
      "button, input, textarea { font: inherit; background: none; color: inherit; }\n",
      "button { padding: 5px 12px; border: solid 1px rgba(128,128,128,.6); border-radius: 4px; }\n",
      "input, textarea { padding: 5px 4px; border: solid 1px rgba(128,128,128,.6); border-radius: 3px; outline: none; }\n",
      "input[type=checkbox] { vertical-align: middle; }\n",
      ".aucmp { display: none; position: absolute; left: 0; right: 0; \n",
      " border: solid 1px rgba(128,128,128,.4); font-weight: bold; z-index: 1; }\n",
      ".aucmp div { padding: 6px 4px; cursor: pointer; }\n",
      ".aucmp div:hover, .aucmp .ausel { background: rgba(128,128,128,.1); }\n",
      "@media (min-width: 760px) {\n",
      "body { max-width: 820px; margin: 0 auto; font: 14px/1.4 sans-serif; }\n",
      ".sm { font: 13px sans-serif; }\n",
      "ul.m { list-style-type: none; padding: 0; opacity: .8; line-height: inherit; }\n",
      "ul.m li { display: inline; margin-right: 1em; }\n",
      "ul.m a { color: inherit; }\n",
      ".ifnm { display: block; } .ifm { display: none; }\n",
      "}\n",
      "@media (min-width: 760px) and (max-resolution: 1dppx) {\n",
      "  .win body { font: 13px/1.4 verdana, sans-serif; }\n",
      "}\n",
      "@media (prefers-color-scheme: dark) and (max-width: 760px) {\n",
      "  body, .basecl { background: #242424; color: #ccc; color-scheme: dark; }\n",
      "  a:visited { color: inherit; } a:link, a.lc, .lc { color: #fff; }\n",
      "  .bg1 { background: #444; } .bg0 { background: #444; }\n",
      "}\n",
      ".wtab { border-collapse: collapse; }\n",
      ".wtab td, .wtab th { padding: .4em .5em; border: solid 1px rgba(128,128,128,.2); }\n",
      ".wtab th { text-align: left; font-weight: normal; width: 25%; }\n",
      ".wtab .bbct { border-bottom-color: transparent; }\n",
      "xselect { padding: 3px 0; }\n",
      "input.lh1 { line-height: 1; }\n",
      ".trot svg { transform: rotate(90deg) translate(4px,4px); }\n",
      "</style>\n",
      "<script>\n",
      "if (/Windows|X11/.test(navigator.userAgent))\n",
      "  document.documentElement.className = ' win';\n",
      "</script>\n",
      "</head>\n",
      "\n",
      "<body>\n",
      "\n",
      "<div class=\"ifnm\" style=\"margin: .5em 0 1.25em;\">\n",
      "<a class=\"bg0\" href=\"/\" style=\"float: left; color: #fff; border-radius: 5px; padding: 0 2.1em 4px; font: bold 26px Verdana, sans-serif; text-decoration: none; margin-right: .7em; \">SJP</a>\n",
      "<form style=\"margin: 0;\" action=\"/sl/zg.phtml\" method=\"post\">\n",
      "<div style=\"display: inline-block; position: relative; width: 34%;\"><input id=\"inp1\" accesskey=\"s\" tabindex=\"1\" autocomplete=\"off\" style=\"margin: 0; width: 100%; box-sizing: border-box; padding: 7px 4px;\" name=\"sl\" value=\"parno\" ></input><div class=\"aucmp basecl\"></div></div> <button style=\"margin-left: 0; padding: 7px 12px;\">sprawdź</button>\n",
      "<a title=\"LOSUJ\" rel=\"nofollow\" href=\"/sl/los/\" style=\"padding: .4em .6em; line-height: .8; margin: 0 .5em; vertical-align: sub;\">*</a>\n",
      "</form>\n",
      "</div>\n",
      "<div class=\"ifm bg0\" style=\"margin: -15px -15px 0; color: #fff; opacity: .9; text-align: center; font: bold 18px/44px sans-serif; padding-top: 2px; position: relative;\"><a href=\"#\" onclick=\"a=document.getElementById('mblock'); if(a) a.className=(a.className?'':'ifnm'); return false;\" style=\"position: absolute; left: 0; top: 0; width: 54px;\"><svg style=\"fill: #fff; width: 24px; height: 24px; vertical-align: middle;\" viewBox=\"0 0 24 24\" xmlns=\"http://www.w3.org/2000/svg\"><path d=\"M0 0h24v24H0z\" fill=\"none\"></path><path d=\"M0 5h22v2.2H0z m0 6h22v2.2H0z m0 6h22v2.2H0z\"></path></svg></a><a title=\"LOSUJ\" rel=\"nofollow\" href=\"/sl/los/\" style=\"position: absolute; right: 0; opacity: .7; padding: 0 16px; margin-top: -1px; color: inherit;\"><svg style=\"fill: currentColor; width: 16px; height: 16px; vertical-align: middle;\" viewBox=\"0 0 18 18\" xmlns=\"http://www.w3.org/2000/svg\"><rect x=\"1\" y=\"1\" width=\"16\" height=\"16\" rx=\"2\" ry=\"2\" stroke-width=\"1.25\" stroke=\"currentColor\" fill=\"transparent\"></rect><circle cx=\"6\" cy=\"6\" r=\"1.25\"></circle><circle cx=\"12\" cy=\"6\" r=\"1.25\"></circle><circle cx=\"9\" cy=\"9\" r=\"1.25\"></circle><circle cx=\"6\" cy=\"12\" r=\"1.25\"></circle><circle cx=\"12\" cy=\"12\" r=\"1.25\"></circle></svg></a>SŁOWNIK SJP</div>\n",
      "<div class=\"ifnm\" id=\"mblock\">\n",
      "<ul class=\"m\"><li><a href=\"/\">słownik języka polskiego sjp</a></li><li><a href=\"/sl/lp.phtml\">lista</a></li><li><a href=\"/sl/ok.phtml\">komentarze</a></li><li><a href=\"/sl/po.phtml\">więcej</a></li></ul>\n",
      "<hr class=\"ifnm\" style=\"margin: 1.25em 0 2em;\" />\n",
      "</div>\n",
      "<form class=\"ifm\" action=\"/sl/zg.phtml\" method=\"post\">\n",
      "<table style=\"margin: 15px 0 20px;\" width=\"100%\" border=\"0\" cellspacing=\"0\" cellpadding=\"0\"><tr><td valign=\"top\" style=\"position: relative;\"><input id=\"inp2\" autocomplete=\"off\" name=\"sl\" value=\"parno\" style=\"padding: 7px 4px; box-sizing: border-box; width: 100%;\" autocapitalize=\"off\" /><div class=\"aucmp basecl\"></div><div class=\"clx\" style=\"position: absolute; right: 0; top: 50%; transform: translateY(-50%); padding: 6px 10px; opacity: .2;\" onclick=\"xin=document.getElementById('inp2');xin.value='';xin.focus();return false;\">X</div></td><td valign=\"top\" width=\"1%\" style=\"padding-left: 4px;\"><button style=\"padding: 7px 12px;\">sprawdź</button></td></tr></table>\n",
      "</form>\n",
      "\n",
      "<script>\n",
      "function dopen(n, bsup) {\n",
      "  var de = document.getElementById('d'+n), tr = document.getElementById('t'+n);\n",
      "  var ton = !(de.style.display == 'block');\n",
      "  de.style.display = (ton ? 'block' : 'none');\n",
      "  tr.className = (ton ? 'trot' : 0);\n",
      "  if (bsup) document.cookie = 'aopen='+(ton?1:0)+';path=/';\n",
      "}\n",
      "function vswap(i1, i2) {\n",
      "  var te, e1 = document.getElementById(i1), e2 = document.getElementById(i2);\n",
      "  if (!e1 || !e2) return;\n",
      "  te = e1.value, e1.value = e2.value, e2.value = te;\n",
      "}\n",
      "function geid(ei) { return document.getElementById(ei); }\n",
      "function stbl(ei) {\n",
      "  document.getElementById(ei).style.display='block';\n",
      "}\n",
      "</script>\n",
      "\n",
      "<h1 style=\"font: bold 24px sans-serif; margin-bottom: 0;\">parno</h1>\n",
      "<p style=\"opacity: .7;\">dopuszczalne w grach <a title=\"Dotyczy gier słownych skrable, literaki itp.\" onclick=\"alert(event.target.title); return false;\" style=\"font-size: 95%; letter-spacing: 1px; cursor: pointer;\">(i)</a> <svg style=\"opacity: .7; width: 18px; height: 18px; vertical-align: middle;\" viewBox=\"0 0 18 18\" xmlns=\"http://www.w3.org/2000/svg\"><path fill=\"none\" stroke-width=\"2\" stroke=\"currentColor\" d=\"M3 9l4 4l8 -8\"></path></svg></p>\n",
      "<p style=\"margin-bottom: 0;\"><b style=\"font: bold large/1.4 sans-serif;\"><a class=\"lc\" href=\"/parny\" onclick=\"dopen(37069, 0); return false;\"><span id=\"t37069\" ><svg style=\"width: 14px; height: 12px;\" viewBox=\"0 0 14 12\" xmlns=\"http://www.w3.org/2000/svg\"><path fill=\"currentColor\" d=\"M0 0l8 6l-8 6\"></path></svg></span>parny</a></b></p>\n",
      "\n",
      "<div id=\"d37069\" style=\"display: none; margin-top: 1.25em;\">\n",
      "<table class=\"wtab\" width=\"100%\" summary=\"parno\">\n",
      "<tr class=\"bg1\"><th class=\"bbct\" colspan=\"2\"><b>parny</b></th></tr>\n",
      "<tr><th scope=\"row\" valign=\"top\">występowanie</th><td>Słownik ortograficzny: rejestr wyrazów występujących w języku polskim - Muza SA 2001, 2005, 2006 - T.&nbsp;Karpowicz</td></tr>\n",
      "<tr><th scope=\"row\">odmienność</th><td>tak</td></tr>\n",
      "<tr><th scope=\"row\" valign=\"top\"><tt>X</tt></th><td>nieparnego, nieparnemu, nieparnych, nieparnym, nieparnymi, parnego, parnemu, parnych, parnym, parnymi</td></tr>\n",
      "<tr><th scope=\"row\" valign=\"top\"><tt>Y</tt></th><td>nieparni, parni</td></tr>\n",
      "<tr><th scope=\"row\" valign=\"top\"><tt>b</tt></th><td>nieparny</td></tr>\n",
      "<tr><th scope=\"row\" valign=\"top\"><tt>x</tt></th><td>nieparna, nieparną, nieparne, nieparnej, parna, parną, parne, parnej</td></tr>\n",
      "<tr><th scope=\"row\" valign=\"top\">~</th><td>nieparno, parno<br /></td></tr>\n",
      "<tr><th scope=\"row\">aktualizacja</th><td><nobr>tevex, <span class=\"sm\">2014-06-13</span></nobr></td></tr>\n",
      "</table>\n",
      "<p><b>znaczenie:</b> <span class=\"sm lt\"><a rel=\"nofollow\" href=\"/sl/zn.phtml?id=37069\">info</a> (1)</span> </p></div>\n",
      "<p style=\"margin: .5em 0; font: medium/1.4 sans-serif; max-width: 34em; \">charakteryzujący się wysoką temperaturą, dużą wilgotnością oraz bezwietrznością, typowy dla takiego stanu; duszny</p>\n",
      "<hr style=\"margin: 2em 0;\" />\n",
      "<p style=\"margin: 1.5em 0;\">KOMENTARZE</p>\n",
      "\n",
      "<div class=\"z\">\n",
      "<p>(brak)</p>\n",
      "\n",
      "</div>\n",
      "\n",
      "<script>\n",
      "function ac() {\n",
      "  document.getElementById(\"achd\").style.display = 'none';\n",
      "  document.getElementById(\"acbd\").style.display = 'block';\n",
      "  //document.getElementById(\"post\").focus();\n",
      "}\n",
      "</script>\n",
      "\n",
      "<p id=\"achd\" style=\"margin-bottom: 2em;\"><button onclick=\"ac(); return false;\">dodaj +</button></p>\n",
      "\n",
      "<div id=\"acbd\" style=\"display: none; margin-bottom: 2em; max-width: 40em; \">\n",
      "\n",
      "<hr style=\"margin: 1.5em 0;\" />\n",
      "\n",
      "<p style=\"color: red;\">PROSIMY PISAĆ KRÓTKO I NA TEMAT\n",
      "\n",
      "\n",
      "\n",
      "\n",
      "<form style=\"margin: 1.5em 0 0;\" action=\"/parno\" method=\"post\">\n",
      "<input type=\"hidden\" name=\"action\" value=\"post\" />\n",
      "<textarea maxlength=\"280\" name=\"post\" id=\"post\" rows=\"7\" style=\"box-sizing: border-box; width: 100%; display: block;\" onkeydown=\"if(event.keyCode==13&&event.ctrlKey) this.form.submit();\">\n",
      "</textarea>\n",
      "<p><input name=\"ncheck\" size=\"14\" style=\"margin-right: .5em;\" /> 73527352&nbsp;od&nbsp;końca\n",
      "<input name=\"nhash\" type=\"hidden\" value=\"c251b032966d5fb1d1c1a6c87b438429\" /></p>\n",
      "<p><button style=\"min-width: 6em;\">ok</button></p>\n",
      "</form>\n",
      "\n",
      "</div>\n",
      "\n",
      "<script>\n",
      "function auc(a,k){function e(){b.innerHTML=\"\";b.style.display=\"none\";g=!0;f++}function l(d){var c=new XMLHttpRequest;c.onreadystatechange=function(){if(4==c.readyState&&200==c.status&&f==d){var a=JSON.parse(c.responseText);b.innerHTML=\"\";for(var e=0;e<a.d.length;e++)b.innerHTML+=\"<div>\"+a.d[e]+\"</div>\";g=0==a.d.length;b.style.display=g?\"none\":\"block\"}};c.open(\"GET\",\"/sl/s/?q=\"+encodeURIComponent(a.value),!0);c.send()}if(a){var b=a.nextSibling;if(b){var f=\n",
      "0,g=!1;a.onblur=function(a){e()};a.onkeydown=function(d){if(g)return!0;if(27==d.keyCode)return e(),!1;if(40!=d.keyCode&&38!=d.keyCode||!b.firstChild)return!0;var c=b.querySelector(\".ausel\");d=40==d.keyCode;if(c){c.className=\"\";var h=d?c.nextSibling:c.previousSibling}h||(h=d?b.firstChild:b.lastChild);h.className=\"ausel\";a.value=h.innerText;f++;return!1};b.onmousedown=function(d){if(d.target.parentNode==b)return a.value=d.target.innerText,a.form.submit(),!1};a.oninput=function(b){var c=++f;a.value.length?\n",
      "setTimeout(function(){f==c&&l(c)},k):e()}}}}auc(document.getElementById(\"inp1\"),150);auc(document.getElementById(\"inp2\"),250);\n",
      "</script>\n",
      "<script>\n",
      "document.addEventListener(\"keydown\", function(e) { if (e.key!==\"/\"||e.ctrlKey||e.metaKey||e.altKey) return; if (/^(?:input|textarea|select|button)$/i.test(e.target.tagName)) return; e.preventDefault(); var i1=document.getElementById(\"inp1\"); if (!i1) return; var il=i1.value.length; i1.setSelectionRange(il,il); i1.focus(); });\n",
      "</script>\n",
      "</body>\n",
      "</html>\n",
      "\n"
     ]
    }
   ],
   "source": [
    "print(strona_2.text)"
   ]
  },
  {
   "cell_type": "markdown",
   "id": "8c619a8c",
   "metadata": {},
   "source": [
    "Bilblioteka `BeautifulSoup` posiada wiele metod, które automatycznie są w stanie przejżeć stronę bez pisania zbędnego kodu."
   ]
  },
  {
   "cell_type": "code",
   "execution_count": 33,
   "id": "4c7a7b84",
   "metadata": {},
   "outputs": [],
   "source": [
    "sparsowana_strona = BeautifulSoup(strona_2.text, 'html.parser')\n",
    "# zobaczymy elemnty z tekstem czyli z flagą p\n",
    "wycinki = sparsowana_strona.select('p')"
   ]
  },
  {
   "cell_type": "markdown",
   "id": "085d3dbf",
   "metadata": {},
   "source": [
    "Poniżej zobaczymy liste znalezionych elementów"
   ]
  },
  {
   "cell_type": "code",
   "execution_count": 34,
   "id": "e1c64b70",
   "metadata": {},
   "outputs": [
    {
     "data": {
      "text/plain": [
       "[<p style=\"opacity: .7;\">dopuszczalne w grach <a onclick=\"alert(event.target.title); return false;\" style=\"font-size: 95%; letter-spacing: 1px; cursor: pointer;\" title=\"Dotyczy gier słownych skrable, literaki itp.\">(i)</a> <svg style=\"opacity: .7; width: 18px; height: 18px; vertical-align: middle;\" viewbox=\"0 0 18 18\" xmlns=\"http://www.w3.org/2000/svg\"><path d=\"M3 9l4 4l8 -8\" fill=\"none\" stroke=\"currentColor\" stroke-width=\"2\"></path></svg></p>,\n",
       " <p style=\"margin-bottom: 0;\"><b style=\"font: bold large/1.4 sans-serif;\"><a class=\"lc\" href=\"/parny\" onclick=\"dopen(37069, 0); return false;\"><span id=\"t37069\"><svg style=\"width: 14px; height: 12px;\" viewbox=\"0 0 14 12\" xmlns=\"http://www.w3.org/2000/svg\"><path d=\"M0 0l8 6l-8 6\" fill=\"currentColor\"></path></svg></span>parny</a></b></p>,\n",
       " <p><b>znaczenie:</b> <span class=\"sm lt\"><a href=\"/sl/zn.phtml?id=37069\" rel=\"nofollow\">info</a> (1)</span> </p>,\n",
       " <p style=\"margin: .5em 0; font: medium/1.4 sans-serif; max-width: 34em; \">charakteryzujący się wysoką temperaturą, dużą wilgotnością oraz bezwietrznością, typowy dla takiego stanu; duszny</p>,\n",
       " <p style=\"margin: 1.5em 0;\">KOMENTARZE</p>,\n",
       " <p>(brak)</p>,\n",
       " <p id=\"achd\" style=\"margin-bottom: 2em;\"><button onclick=\"ac(); return false;\">dodaj +</button></p>,\n",
       " <p style=\"color: red;\">PROSIMY PISAĆ KRÓTKO I NA TEMAT\n",
       " \n",
       " \n",
       " \n",
       " \n",
       " <form action=\"/parno\" method=\"post\" style=\"margin: 1.5em 0 0;\">\n",
       " <input name=\"action\" type=\"hidden\" value=\"post\"/>\n",
       " <textarea id=\"post\" maxlength=\"280\" name=\"post\" onkeydown=\"if(event.keyCode==13&amp;&amp;event.ctrlKey) this.form.submit();\" rows=\"7\" style=\"box-sizing: border-box; width: 100%; display: block;\">\n",
       " </textarea>\n",
       " <p><input name=\"ncheck\" size=\"14\" style=\"margin-right: .5em;\"/> 73527352 od końca\n",
       " <input name=\"nhash\" type=\"hidden\" value=\"c251b032966d5fb1d1c1a6c87b438429\"/></p>\n",
       " <p><button style=\"min-width: 6em;\">ok</button></p>\n",
       " </form>\n",
       " </p>,\n",
       " <p><input name=\"ncheck\" size=\"14\" style=\"margin-right: .5em;\"/> 73527352 od końca\n",
       " <input name=\"nhash\" type=\"hidden\" value=\"c251b032966d5fb1d1c1a6c87b438429\"/></p>,\n",
       " <p><button style=\"min-width: 6em;\">ok</button></p>]"
      ]
     },
     "execution_count": 34,
     "metadata": {},
     "output_type": "execute_result"
    }
   ],
   "source": [
    "wycinki"
   ]
  },
  {
   "cell_type": "code",
   "execution_count": 35,
   "id": "64afddbf",
   "metadata": {},
   "outputs": [
    {
     "data": {
      "text/plain": [
       "<p style=\"margin: .5em 0; font: medium/1.4 sans-serif; max-width: 34em; \">charakteryzujący się wysoką temperaturą, dużą wilgotnością oraz bezwietrznością, typowy dla takiego stanu; duszny</p>"
      ]
     },
     "execution_count": 35,
     "metadata": {},
     "output_type": "execute_result"
    }
   ],
   "source": [
    "wycinki[3]# wycinek 3 posiada naszą definicje"
   ]
  },
  {
   "cell_type": "markdown",
   "id": "dbb581b4",
   "metadata": {},
   "source": [
    "#### HTML"
   ]
  },
  {
   "cell_type": "markdown",
   "id": "e8cf5bc1",
   "metadata": {},
   "source": [
    "Powyższy kod można wkleić do jupytera i zostanie poprawnie przetłumaczony<br>Przykład:"
   ]
  },
  {
   "cell_type": "markdown",
   "id": "a05f6684",
   "metadata": {},
   "source": [
    "<p style=\"margin: .5em 0; font: medium/1.4 sans-serif; max-width: 34em; \">charakteryzujący się wysoką temperaturą, dużą wilgotnością oraz bezwietrznością, typowy dla takiego stanu; duszny</p>"
   ]
  },
  {
   "cell_type": "markdown",
   "id": "2874502f",
   "metadata": {},
   "source": [
    "<button type=\"button\" >Click Me!</button>"
   ]
  },
  {
   "cell_type": "markdown",
   "id": "150f6258",
   "metadata": {},
   "source": [
    "#### Przykład"
   ]
  },
  {
   "cell_type": "code",
   "execution_count": 36,
   "id": "359be603",
   "metadata": {},
   "outputs": [
    {
     "name": "stdout",
     "output_type": "stream",
     "text": [
      "https://www.dictionary.com/browse/computer\n",
      "\n",
      "    <!DOCTYPE html>\n",
      "    <html lang=\"en\" prefix=\"og: http://ogp.me/ns#\">\n",
      "      <head>\n",
      "        <style>html{line-height:1.15;-webkit-text-size-adjust:100%;}body{margin:0;}main{display:block;}h1{font-size:2em;margin:0.67em 0;}hr{box-sizing:content-box;height:0;overflow:visible;}pre{font-family:monospace,monospace;font-size:1em;}a{background-color:transparent;}abbr[title]{border-bottom:none;-webkit-text-decoration:underline;text-decoration:underline;-webkit-text-decoration:underline dotted;text-decoration:underline dotted;}b,strong{font-weight:bolder;}code,kbd,samp{font-family:monospace,monospace;font-size:1em;}small{font-size:80%;}sub,sup{font-size:75%;line-height:0;position:relative;vertical-align:baseline;}sub{bottom:-0.25em;}sup{top:-0.5em;}img{border-style:none;}button,input,optgroup,select,textarea{font-family:inherit;font-size:100%;line-height:1.15;margin:0;}button,input{overflow:visible;}button,select{text-transform:none;}button,[type=\"button\"],[type=\"reset\"],[type=\"submit\"]{-webkit-appearance:button;}button::-moz-focus-inner,[type=\"button\"]::-moz-focus-inner,[type=\"reset\"]::-moz-focus-inner,[type=\"submit\"]::-moz-focus-inner{border-style:none;padding:0;}button:-moz-focusring,[type=\"button\"]:-moz-focusring,[type=\"reset\"]:-moz-focusring,[type=\"submit\"]:-moz-focusring{outline:1px dotted ButtonText;}fieldset{padding:0.35em 0.75em 0.625em;}legend{box-sizing:border-box;color:inherit;display:table;max-width:100%;padding:0;white-space:normal;}progress{vertical-align:baseline;}textarea{overflow:auto;}[type=\"checkbox\"],[type=\"radio\"]{box-sizing:border-box;padding:0;}[type=\"number\"]::-webkit-inner-spin-button,[type=\"number\"]::-webkit-outer-spin-button{height:auto;}[type=\"search\"]{-webkit-appearance:textfield;outline-offset:-2px;}[type=\"search\"]::-webkit-search-decoration{-webkit-appearance:none;}::-webkit-file-upload-button{-webkit-appearance:button;font:inherit;}details{display:block;}summary{display:-webkit-box;display:-webkit-list-item;display:-ms-list-itembox;display:list-item;}template{display:none;}[hidden]{display:none;}*{box-sizing:border-box;}@font-face{font-family:'dictionary-fonticon';src:url(https://www.dictionary.com/assets/dictionary-font-7d2f4fd9fa72a2bb63c0a277669d5071.eot) format('embedded-opentype'),url(https://www.dictionary.com/assets/dictionary-font-4ad798e50e1427769017a2816000ee0c.woff) format('woff'),url(https://www.dictionary.com/assets/dictionary-font-63393573fd62b048791280f9984da4c7.ttf) format('truetype'),url(https://www.dictionary.com/assets/dictionary-font-41a10c02d48af01d61ad6cafb74fbfc0.svg#dictionary-font) format('svg');}ul,ol,dl{margin:0 auto;padding:0;}button,input,optgroup,select,textarea{font-family:inherit;}html{overflow-x:hidden;}body{margin:0;font:14px Arial,sans-serif;line-height:1.47;background-color:#F3F3F3;color:#4A4A4A;}body.show-spell .pron-spell{display:inline-block;}body.show-spell .pron-ipa{display:none;}body.show-ipa .pron-spell{display:none;}body.show-ipa .pron-ipa{display:inline-block;}body.show-spell .pron-spell{display:inline-block;}body.show-spell .pron-ipa{display:none;}body.show-ipa .pron-spell{display:none;}body.show-ipa .pron-ipa{display:inline-block;}a{-webkit-text-decoration:none;text-decoration:none;color:#00248B;}.one-click:hover{color:#00248B;cursor:pointer;}.luna-pronset .audio-player{font-family:dictionary-fonticon;font-size:12px;color:#B6B6B6;cursor:pointer;padding:1px;}.luna-pronset .audio-player::before{content:'\\e803';}.bold{font-weight:bold;}.italic{font-style:italic;}.one-click-content{position:relative;z-index:1;cursor:pointer;}.ssr-rendered-component{display:none;}#root{position:relative;}#react-header-container{position:-webkit-sticky;position:sticky;top:0;width:100%;z-index:2;}.app-base{z-index:1;}.css-1wfmt41{min-height:calc(100vh - 40px);}@media only screen and (max-width: 768px){.css-1wfmt41{min-height:calc(100vh - 81px);}}.css-1c3tf54{display:block;margin:0 auto;padding:0;}@media (max-width: 768px){.css-1c3tf54{display:block;}}@media (min-width: 1225px){.css-1c3tf54{width:1200px;}}.css-ulg3l6{border:1px solid dashed;display:-webkit-box;display:-webkit-flex;display:-ms-flexbox;display:flex;-webkit-flex-direction:column;-ms-flex-direction:column;flex-direction:column;-webkit-box-pack:center;-ms-flex-pack:center;-webkit-justify-content:center;justify-content:center;margin:20px 0;}.css-1jbjsi3{display:-webkit-box;display:-webkit-flex;display:-ms-flexbox;display:flex;-webkit-box-pack:center;-ms-flex-pack:center;-webkit-justify-content:center;justify-content:center;min-height:90px;text-align:center;}.css-ra5g8t{-webkit-align-items:center;-webkit-box-align:center;-ms-flex-align:center;align-items:center;display:-webkit-box;display:-webkit-flex;display:-ms-flexbox;display:flex;-webkit-flex-direction:column;-ms-flex-direction:column;flex-direction:column;padding:0 12px 16px 12px;position:relative;width:100%;}@media only screen and (min-width: 1088px){.css-ra5g8t{-webkit-align-items:unset;-webkit-box-align:unset;-ms-flex-align:unset;align-items:unset;-webkit-flex-direction:row;-ms-flex-direction:row;flex-direction:row;padding:0 16px 16px 16px;}}.css-8p8pis{-webkit-flex:1;-ms-flex:1;flex:1;max-width:850px;padding:0 12px;width:100%;}@media only screen and (min-width: 1088px){.css-8p8pis{margin-right:20px;}}.css-8p8pis >*:first-of-type{margin-top:0;}.css-1hhthdj{display:-webkit-box;display:-webkit-flex;display:-ms-flexbox;display:flex;margin-top:12px;overflow-x:auto;}@media (min-width: 480px){.css-1hhthdj{display:block;}}.css-q1bd4{display:-webkit-box;display:-webkit-flex;display:-ms-flexbox;display:flex;-webkit-flex:0 0 auto;-ms-flex:0 0 auto;flex:0 0 auto;list-style:none;margin:8px;padding:0;}@media (min-width: 480px){.css-q1bd4{-webkit-flex-direction:row;-ms-flex-direction:row;flex-direction:row;-webkit-box-flex-wrap:wrap;-webkit-flex-wrap:wrap;-ms-flex-wrap:wrap;flex-wrap:wrap;}}.css-1eg9qtk{margin:0 8px 8px 0;}.css-u1nc79{cursor:pointer;display:inline-block;text-align:center;-webkit-text-decoration:none;text-decoration:none;border-radius:100px;font-size:16px;font-weight:bold;line-height:1;-webkit-transition:all 0.25s ease-in-out;transition:all 0.25s ease-in-out;position:relative;background-color:#92D6FF;color:#1A1A1A;padding:8px 16px;}.css-u1nc79:before{border:4px solid #0046BE;border-radius:100px;bottom:-8px;content:' ';left:-8px;opacity:0;position:absolute;right:-8px;top:-8px;-webkit-transition:all 0.25s ease-in-out;transition:all 0.25s ease-in-out;}.css-u1nc79:focus{outline:none;}.css-u1nc79:focus:not(:hover):not(:active):not([disabled]):before{opacity:1;}.css-u1nc79:hover:not([disabled]){-webkit-transform:scale(1.05);-moz-transform:scale(1.05);-ms-transform:scale(1.05);transform:scale(1.05);}.css-u1nc79:active:not([disabled]){background-color:#92D6FF;-webkit-transform:scale(1);-moz-transform:scale(1);-ms-transform:scale(1);transform:scale(1);}.css-u1nc79[disabled]{background-color:#E1E1E1;color:#767676;cursor:not-allowed;}.css-u1nc79[loading]{color:#E1E1E1;}.css-u1nc79:hover{-webkit-text-decoration:none;text-decoration:none;}.css-u1nc79:focus{-webkit-text-decoration:none;text-decoration:none;}.css-1avshm7{background-color:#FFFFFF;margin:20px 0;padding:35px 40px;position:relative;}@media only screen and (max-width: 768px){.css-1avshm7{padding:30px;}}@media only screen and (max-width: 480px){.css-1avshm7{padding:20px;}}.css-1t9sqkg{display:block;}@media (min-width: 768px){.css-1t9sqkg{display:none;}}.css-1i9rgtx{background:none;border:none;cursor:pointer;padding:0;height:40px;}.css-1i1f9xm{background-color:#F3F3F3;border-radius:4px;padding:8px;}.css-irpbha{color:#1A1A1A;font-size:14px;font-weight:bold;line-height:1.5;}.css-bjn8wh{position:relative;}.css-15cuosf{display:none;}.css-15cuosf[data-tooltip-isopen='true']{display:block;left:-9px;position:absolute;top:9px;-webkit-transition:opacity 150ms;transition:opacity 150ms;z-index:3000;}@media (min-width: 768px){.css-15cuosf[data-tooltip-isopen='true']{left:-60px;top:-122px;}}.css-4u7gd9{background-color:#FFFFFF;border-radius:3px;-webkit-filter:drop-shadow(0px 2px 8px #E1E1E1);filter:drop-shadow(0px 2px 8px #E1E1E1);padding:12px 16px;width:265px;will-change:filter;}.css-1rigp50{color:#4A4A4A;font-size:16px;line-height:1.5;}.css-p6a5vj{background-color:#FFFFFF;height:15px;-webkit-clip-path:polygon(100% 100%, 0 0, 0 100%);clip-path:polygon(100% 100%, 0 0, 0 100%);left:45%;top:-14px;position:absolute;width:20px;}.css-1gvu524{display:-webkit-box;display:-webkit-flex;display:-ms-flexbox;display:flex;-webkit-flex:1;-ms-flex:1;flex:1;-webkit-flex-direction:column;-ms-flex-direction:column;flex-direction:column;}@media (min-width: 768px){.css-1gvu524{-webkit-align-items:baseline;-webkit-box-align:baseline;-ms-flex-align:baseline;align-items:baseline;-webkit-flex-direction:row;-ms-flex-direction:row;flex-direction:row;-webkit-box-flex-wrap:wrap;-webkit-flex-wrap:wrap;-ms-flex-wrap:wrap;flex-wrap:wrap;margin-bottom:8px;}}.css-jv03sw{color:#1A1A1A;display:-webkit-inline-box;display:-webkit-inline-flex;display:-ms-inline-flexbox;display:inline-flex;line-height:normal;margin-right:8px;}.css-1sprl0b{color:#1A1A1A;display:inline;font-size:49px;font-weight:bold;margin:0;word-break:break-all;}.css-1sprl0b .subscript{font-size:0.7em;vertical-align:sub;}@media (max-width: 768px){.css-1sprl0b{font-size:36px;}}.css-ev43ai{-webkit-align-items:center;-webkit-box-align:center;-ms-flex-align:center;align-items:center;color:#1A1A1A;display:-webkit-box;display:-webkit-flex;display:-ms-flexbox;display:flex;-webkit-box-flex-wrap:wrap;-webkit-flex-wrap:wrap;-ms-flex-wrap:wrap;flex-wrap:wrap;}.css-vo1uf3{display:inline-block;}.css-vo1uf3.show-ipa>.pron-ipa-container{display:inline-block;}.css-vo1uf3.show-spell>.pron-spell-container{display:inline-block;}.css-eivff4{display:none;}.css-7iphl0{color:#4A4A4A;font-size:18px;margin-right:8px;vertical-align:super;}.css-7iphl0 .luna-pos{font-style:italic;}@media (min-width: 768px){.css-7iphl0{font-size:20px;}}.css-1keekaj{background-color:transparent;border:0;color:#00248B;cursor:pointer;font-size:14px;font-weight:bold;height:14px;line-height:14px;margin-right:8px;outline:none;padding:0;text-transform:uppercase;vertical-align:super;}.css-x8ezj7{display:-webkit-box;display:-webkit-flex;display:-ms-flexbox;display:flex;-webkit-flex-direction:row;-ms-flex-direction:row;flex-direction:row;-webkit-box-flex-wrap:no-wrap;-webkit-flex-wrap:no-wrap;-ms-flex-wrap:no-wrap;flex-wrap:no-wrap;}.css-z3zatq{background:none;border:none;cursor:pointer;padding:0;cursor:pointer;margin-right:8px;position:relative;}.css-z3zatq:hover{-webkit-transform:scale(1.1);-moz-transform:scale(1.1);-ms-transform:scale(1.1);transform:scale(1.1);}.css-z3zatq:focus{outline:4px solid #0046BE;}.css-z3zatq:focus:not(:hover):not(:active):not([disabled])::before{opacity:1;}.css-5e54wk{display:inline-block;font-family:dictionary-fonticon;font-size:24px;height:24px;-webkit-transition:-webkit-transform 0.3s;transition:transform 0.3s;vertical-align:text-bottom;width:24px;border:none;color:#1A1A1A;font-size:33px;height:33px;margin-bottom:2px;width:33px;}.css-5e54wk:before{content:'\\e803';}.css-1jjtf5b{background:none;border:none;cursor:pointer;padding:0;cursor:pointer;margin-right:8px;position:relative;}.css-1jjtf5b:hover{-webkit-transform:scale(1.1);-moz-transform:scale(1.1);-ms-transform:scale(1.1);transform:scale(1.1);}.css-1jjtf5b:focus{outline:4px solid #0046BE;}.css-1jjtf5b:focus:not(:hover):not(:active):not([disabled])::before{opacity:1;}.css-1jjtf5b .dropdown-arrow-icon{visibility:hidden;}.css-1jjtf5b:hover .dropdown-arrow-icon{visibility:visible;}.css-1vr7vmn{-webkit-align-items:center;-webkit-box-align:center;-ms-flex-align:center;align-items:center;display:-webkit-box;display:-webkit-flex;display:-ms-flexbox;display:flex;}.css-1xq8258{display:inline-block;font-family:dictionary-fonticon;font-size:24px;height:24px;-webkit-transition:-webkit-transform 0.3s;transition:transform 0.3s;vertical-align:text-bottom;width:24px;border:none;color:#1A1A1A;font-size:32px;height:32px;margin-bottom:2px;width:32px;}.css-1xq8258:before{content:'\\e924';}.css-jfavdo{display:inline-block;font-family:dictionary-fonticon;font-size:24px;height:24px;-webkit-transition:-webkit-transform 0.3s;transition:transform 0.3s;vertical-align:text-bottom;width:24px;border:none;color:#1A1A1A;font-size:24px;height:24px;margin-bottom:2px;width:24px;}.css-jfavdo:before{content:'\\e613';}.css-1148b02{display:inline-block;font-family:dictionary-fonticon;font-size:24px;height:24px;-webkit-transition:-webkit-transform 0.3s;transition:transform 0.3s;vertical-align:text-bottom;width:24px;border:none;color:#FFB600;font-size:32px;height:32px;margin-bottom:2px;width:32px;}.css-1148b02:before{content:'\\e925';}.css-rjia68{background-color:#FFFFFF;border:2px solid #F3F3F3;border-radius:3px;box-shadow:0px 2px 8px rgba(0, 0, 0, 0.15);color:#1A1A1A;display:-webkit-box;display:-webkit-flex;display:-ms-flexbox;display:flex;-webkit-flex-direction:column;-ms-flex-direction:column;flex-direction:column;font-size:18px;left:0;line-height:1.5;overflow-y:scroll;position:absolute;top:100%;-webkit-transform:translateX(-50%);-moz-transform:translateX(-50%);-ms-transform:translateX(-50%);transform:translateX(-50%);width:240px;z-index:10;}.css-1ftrdo3{list-style:none;margin:0;padding:0;}.css-1bxjd3l{border-bottom:1px solid #F3F3F3;position:relative;}.css-15kd0q{color:#00248B;cursor:pointer;-webkit-text-decoration:none;text-decoration:none;display:block;color:#1A1A1A;height:100%;overflow:hidden;padding:8px 32px;text-overflow:ellipsis;white-space:nowrap;width:100%;}.css-15kd0q:hover{-webkit-text-decoration:underline;text-decoration:underline;}.css-1wnzdoc{margin:8px 0;}.css-1ry8sb5{border-bottom:none;position:relative;}.css-10uzhzq{background:none;border:none;cursor:pointer;padding:0;color:#1A1A1A;height:100%;overflow:hidden;padding:8px 32px;text-overflow:ellipsis;white-space:nowrap;width:100%;text-align:left;}.css-mcsf8a{display:inline-block;font-family:dictionary-fonticon;font-size:24px;height:24px;-webkit-transition:-webkit-transform 0.3s;transition:transform 0.3s;vertical-align:text-bottom;width:24px;color:#1A1A1A;font-size:16px;height:16px;left:16px;position:absolute;top:50%;-webkit-transform:translate(-50%, -50%);-moz-transform:translate(-50%, -50%);-ms-transform:translate(-50%, -50%);transform:translate(-50%, -50%);width:16px;}.css-mcsf8a:before{content:'\\e922';}.css-106lbjg{background-color:#FFFFFF;border-radius:3px;bottom:48px;display:-webkit-box;display:-webkit-flex;display:-ms-flexbox;display:flex;-webkit-filter:drop-shadow(0px 4px 4px rgba(0, 0, 0, 0.25));filter:drop-shadow(0px 4px 4px rgba(0, 0, 0, 0.25));opacity:0;padding:8px 16px;position:absolute;right:0;-webkit-transition:opacity 500ms ease-in-out;transition:opacity 500ms ease-in-out;z-index:1;}@-webkit-keyframes bounceUp{50%{-webkit-transform:translate3d(0, -10px, 0);-moz-transform:translate3d(0, -10px, 0);-ms-transform:translate3d(0, -10px, 0);transform:translate3d(0, -10px, 0);}}@keyframes bounceUp{50%{-webkit-transform:translate3d(0, -10px, 0);-moz-transform:translate3d(0, -10px, 0);-ms-transform:translate3d(0, -10px, 0);transform:translate3d(0, -10px, 0);}}@-webkit-keyframes bounceRight{50%{-webkit-transform:translate3d(10px, 0, 0);-moz-transform:translate3d(10px, 0, 0);-ms-transform:translate3d(10px, 0, 0);transform:translate3d(10px, 0, 0);}}@keyframes bounceRight{50%{-webkit-transform:translate3d(10px, 0, 0);-moz-transform:translate3d(10px, 0, 0);-ms-transform:translate3d(10px, 0, 0);transform:translate3d(10px, 0, 0);}}@-webkit-keyframes bounceDown{50%{-webkit-transform:translate3d(0, 10px, 0);-moz-transform:translate3d(0, 10px, 0);-ms-transform:translate3d(0, 10px, 0);transform:translate3d(0, 10px, 0);}}@keyframes bounceDown{50%{-webkit-transform:translate3d(0, 10px, 0);-moz-transform:translate3d(0, 10px, 0);-ms-transform:translate3d(0, 10px, 0);transform:translate3d(0, 10px, 0);}}.css-1bmnxg7{white-space:nowrap;}.css-1t8orr8{background-color:#FFFFFF;bottom:-14px;-webkit-clip-path:polygon(100% 0, 0 0, 100% 100%);clip-path:polygon(100% 0, 0 0, 100% 100%);height:calc(14px + 1px);left:50%;position:absolute;width:20px;}.css-1eoy87d{display:-webkit-box;display:-webkit-flex;display:-ms-flexbox;display:flex;-webkit-box-pack:justify;-webkit-justify-content:space-between;justify-content:space-between;}.css-1ff36h2{-webkit-box-flex:1;-webkit-flex-grow:1;-ms-flex-positive:1;flex-grow:1;}.css-1mm57bl{color:#F44725;font-size:16px;font-weight:bold;position:relative;-webkit-text-decoration:none;text-decoration:none;}@media (min-width: 768px){.css-1tozscx{-webkit-align-self:flex-end;-ms-flex-item-align:flex-end;align-self:flex-end;margin-left:auto;-webkit-flex-basis:155px;-ms-flex-preferred-size:155px;flex-basis:155px;-webkit-flex-shrink:0;-ms-flex-negative:0;flex-shrink:0;}}.css-v1ygcs{display:none;}@media (min-width: 768px){.css-v1ygcs{display:block;}}.css-jzu8wx{background-color:#FFFFFF;height:15px;bottom:-14px;-webkit-clip-path:polygon(100% 0, 0 0, 100% 100%);clip-path:polygon(100% 0, 0 0, 100% 100%);left:35%;position:absolute;width:20px;}.css-qxeaj1{border-bottom:1px solid #B6B6B6;border-top:0;margin-bottom:20px;}.css-109x55k .luna-def-number{font-weight:bold;}.css-109x55k .luna-pronset .luna-pos{font-style:italic;}.css-109x55k .luna-wud,.css-109x55k .small-caps{font-variant:small-caps;}.css-109x55k .subscript{font-size:0.7em;vertical-align:sub;}.css-69s207{font-size:16px;margin:25px 0 0 0;}@media (max-width: 768px){.css-69s207{margin-bottom:2px;}}.css-1b1gas3{color:#1A1A1A;font-size:18px;font-style:italic;font-weight:normal;}.css-10n3ydx{font-size:15px;margin-left:20px;}.css-10n3ydx .superscript{font-size:12px;padding-left:2px;vertical-align:super;}.css-10n3ydx .expand-container,.css-10n3ydx .expand-container>div{margin-left:-32px;padding-left:32px;}.css-10ul8x{display:-webkit-box;display:-webkit-list-item;display:-ms-list-itembox;display:list-item;line-height:1.5;list-style:none;margin-bottom:4px;margin-top:8px;padding-left:25px;position:relative;}.css-10ul8x::before{color:#767676;content:'1';font-size:14px;height:32px;left:0px;line-height:26px;position:absolute;}.css-nnyc96{color:#1A1A1A;font-size:18px;}.css-nnyc96 .luna-example.italic{color:#4A4A4A;display:block;font-size:16px;}.css-nnyc96 .luna-nickname{font-style:italic;}.css-nnyc96 .luna-nickname::before{content:'\"(';}.css-nnyc96 .luna-nickname::after{content:')\"';}.css-nnyc96 .luna-aka{font-style:italic;}.css-nnyc96 .luna-aka::before{content:'(';}.css-nnyc96 .luna-aka::after{content:')';}.css-nnyc96 .audio-player{color:#B6B6B6;cursor:pointer;font-family:dictionary-fonticon;font-size:12px;padding:1px;}.css-nnyc96 .audio-player::before{content:'\\e803';}.css-1o7vb91{display:-webkit-box;display:-webkit-list-item;display:-ms-list-itembox;display:list-item;line-height:1.5;list-style:none;margin-bottom:4px;margin-top:8px;padding-left:25px;position:relative;}.css-1o7vb91::before{color:#767676;content:'2';font-size:14px;height:32px;left:0px;line-height:26px;position:absolute;}.css-wkbkqh{font-size:16px;font-weight:bold;margin:0 0 9px 0;text-transform:uppercase;color:#1A1A1A;}.css-1jjvrru{color:#1A1A1A;font-size:16px;font-weight:bold;margin-bottom:16px;}.css-tpqxit{color:#1A1A1A;font-size:16px;}.css-1vcne49{color:#1A1A1A;font-size:24px;font-weight:bold;line-height:1.15;}.css-i3pbo{margin-bottom:24px;}.css-wx8xch{color:#00248B;font-size:14px;font-weight:bold;margin-bottom:4px;text-transform:uppercase;}.css-dmmrs6{margin-bottom:16px;}@media (min-width: 480px){.css-dmmrs6{font-size:18px;margin-bottom:24px;}}.css-1222img{color:#00248B;cursor:pointer;-webkit-text-decoration:none;text-decoration:none;color:inherit;}.css-1222img:hover{-webkit-text-decoration:none;text-decoration:none;}.css-17ajczv{border:1px solid #E1E1E1;font-size:16px;margin-bottom:16px;padding:16px;}.css-y27aew{cursor:pointer;display:inline-block;text-align:center;-webkit-text-decoration:none;text-decoration:none;border-radius:100px;font-size:16px;font-weight:bold;line-height:1;width:100%;-webkit-transition:all 0.25s ease-in-out;transition:all 0.25s ease-in-out;position:relative;background-color:#00248B;color:#FFFFFF;padding:16px 40px;}.css-y27aew:before{border:4px solid #0046BE;border-radius:100px;bottom:-8px;content:' ';left:-8px;opacity:0;position:absolute;right:-8px;top:-8px;-webkit-transition:all 0.25s ease-in-out;transition:all 0.25s ease-in-out;}.css-y27aew:focus{outline:none;}.css-y27aew:focus:not(:hover):not(:active):not([disabled]):before{opacity:1;}.css-y27aew:hover:not([disabled]){-webkit-transform:scale(1.05);-moz-transform:scale(1.05);-ms-transform:scale(1.05);transform:scale(1.05);}.css-y27aew:active:not([disabled]){background-color:#00125D;-webkit-transform:scale(1);-moz-transform:scale(1);-ms-transform:scale(1);transform:scale(1);}.css-y27aew[disabled]{background-color:#E1E1E1;color:#767676;cursor:not-allowed;}.css-y27aew[loading]{color:#E1E1E1;}.css-1gd5wt3{margin-bottom:24px;}.css-1gd5wt3 .luna-def-number{font-weight:bold;}.css-1gd5wt3 .luna-pronset .luna-pos{font-style:italic;}.css-1gd5wt3 .luna-wud,.css-1gd5wt3 .small-caps{font-variant:small-caps;}.css-1gd5wt3 br{display:block;line-height:200%;}.css-m06p9x{color:#1A1A1A;display:inline-block;font-size:16px;font-weight:bold;margin:0 0 9px 0;text-transform:uppercase;}.css-1hg9omi{word-break:break-all;}.css-omho54{color:#1A1A1A;font-size:16px;line-height:23px;}@media (max-width: 768px){.css-omho54{font-size:15px;}}.css-1u0w8zv{display:block;font-size:15px;line-height:22px;padding-left:40px;}@media (max-width: 768px){.css-1u0w8zv{padding-left:0px;}}.css-1qy26rb{list-style:none;margin-bottom:20px;}.css-11g4mt0{font-size:16px;}.css-tus7ts{color:#1A1A1A;font-size:20px;line-height:23px;word-break:break-all;}.css-k6l28{color:#4A4A4A;font-size:10px;line-height:20px;margin-top:-15px;position:relative;text-transform:uppercase;white-space:pre-line;}.css-8qz8ia{padding-top:20px;}.css-51mqq0{display:-webkit-box;display:-webkit-flex;display:-ms-flexbox;display:flex;-webkit-flex-direction:row;-ms-flex-direction:row;flex-direction:row;margin:20px 0;}.css-51mqq0 >*{-webkit-flex:6;-ms-flex:6;flex:6;-webkit-flex-basis:0;-ms-flex-preferred-size:0;flex-basis:0;margin:0;}.css-51mqq0 >*:not(:first-of-type){-webkit-flex:4;-ms-flex:4;flex:4;margin-left:20px;}@media (max-width: 1024px){.css-51mqq0{-webkit-flex-direction:column;-ms-flex-direction:column;flex-direction:column;}.css-51mqq0 >*:not(:first-of-type){margin-left:0;margin-top:20px;}}.css-1kva0eo{font-size:16px;padding-top:5px;}.css-1icv1bo{display:inline;font-size:16px;padding-top:0;}.css-qr8q5p{list-style:none;}.css-avpsk8{margin-bottom:15px;}.css-b5q2lz{color:#4A4A4A;font-size:15px;line-height:22px;margin-bottom:0;}.css-zjik7{display:-webkit-box;display:-webkit-flex;display:-ms-flexbox;display:flex;}.css-1jv2rgl{color:#767676;font-size:10px;line-height:17px;text-transform:uppercase;}.css-18wyej6{color:#767676;margin:auto;-webkit-text-decoration:none;text-decoration:none;}.css-18wyej6:hover{-webkit-text-decoration:underline;text-decoration:underline;}.css-y1f223{margin:auto;}.css-1qjn0sv{color:#767676;height:17px;margin:0 5px 0 5px;width:1px;}.css-hm65u2{font-family:Arial,sans-serif;font-size:12px;font-weight:300;margin-bottom:-49px;text-align:center;}@media (max-width: 768px){.css-hm65u2{margin-bottom:-44px;}}@media (max-width: 480px){.css-hm65u2{margin-bottom:-34px;}}.css-hm65u2 button{background:none;border:none;outline:none;}.css-hm65u2 button.message{color:#4A4A4A;}.css-hm65u2 button.message strong{color:#4A4A4A;font-weight:inherit;}.css-hm65u2 button.message:hover{cursor:pointer;}.css-hm65u2 button.message:hover~button>span{-webkit-animation:animation-ivawdv 1s 1;animation:animation-ivawdv 1s 1;}.css-hm65u2 button.icon{background:#FFFFFF;border:solid 2px #F3F3F3;border-radius:50%;color:#B6B6B6;font-family:dictionary-fonticon;font-size:17px;height:32px;line-height:0;padding:0;position:relative;text-align:center;width:32px;}.css-hm65u2 button.icon span{display:inline-block;line-height:21px;}.css-hm65u2 button.icon span:hover{-webkit-animation:animation-ivawdv 1s 1;animation:animation-ivawdv 1s 1;cursor:pointer;}.css-hm65u2 button.icon.collapse{-webkit-transform:rotate(180deg);-moz-transform:rotate(180deg);-ms-transform:rotate(180deg);transform:rotate(180deg);}.css-hm65u2 .expandable-button{padding-top:20px;}.css-hm65u2 .expand{display:none;}.css-hm65u2 .collapse{display:inline-block;}.css-hm65u2.collapsed .expand{display:inline-block;}.css-hm65u2.collapsed .collapse{display:none;}@-webkit-keyframes animation-ivawdv{0%,50%,100%{-webkit-transform:translateY(0px);-moz-transform:translateY(0px);-ms-transform:translateY(0px);transform:translateY(0px);}25%,75%{-webkit-transform:translateY(5px);-moz-transform:translateY(5px);-ms-transform:translateY(5px);transform:translateY(5px);}}@keyframes animation-ivawdv{0%,50%,100%{-webkit-transform:translateY(0px);-moz-transform:translateY(0px);-ms-transform:translateY(0px);transform:translateY(0px);}25%,75%{-webkit-transform:translateY(5px);-moz-transform:translateY(5px);-ms-transform:translateY(5px);transform:translateY(5px);}}.css-1pjy9wy{bottom:-15px;color:#B6B6B6;font-size:14px;font-weight:normal;margin:24px 0 4px 0;position:relative;text-transform:uppercase;}.css-ww67bw{color:#4A4A4A;}.css-1q7icm{color:#1A1A1A;}.css-1acgboq{color:#1A1A1A;font-size:18px;}.css-1acgboq .luna-example.italic{color:#4A4A4A;display:block;font-size:16px;}.css-1acgboq .luna-nickname{font-style:italic;}.css-1acgboq .luna-nickname::before{content:'\"(';}.css-1acgboq .luna-nickname::after{content:')\"';}.css-1acgboq .luna-aka{font-style:italic;}.css-1acgboq .luna-aka::before{content:'(';}.css-1acgboq .luna-aka::after{content:')';}.css-1acgboq .audio-player{color:#B6B6B6;cursor:pointer;font-family:dictionary-fonticon;font-size:12px;padding:1px;}.css-1acgboq .audio-player::before{content:'\\e803';}.css-1acgboq::before{content:': ';}.css-1ndvnc2{margin-bottom:24px;}.css-1ndvnc2 .label{font-weight:bold;}.css-cpet15{-webkit-align-items:baseline;-webkit-box-align:baseline;-ms-flex-align:baseline;align-items:baseline;color:#1A1A1A;display:-webkit-box;display:-webkit-flex;display:-ms-flexbox;display:flex;-webkit-box-flex-wrap:wrap;-webkit-flex-wrap:wrap;-ms-flex-wrap:wrap;flex-wrap:wrap;}.css-16s0ij6{box-sizing:border-box;font-size:15px;line-height:22px;margin:0 0 17px;}.css-16s0ij6 .subscript{font-size:0.7em;vertical-align:sub;}.css-l13l49{-webkit-align-items:center;-webkit-box-align:center;-ms-flex-align:center;align-items:center;display:-webkit-box;display:-webkit-flex;display:-ms-flexbox;display:flex;-webkit-flex-direction:row;-ms-flex-direction:row;flex-direction:row;margin:24px;}@media (max-width: 1088px){.css-l13l49{margin:56px;}}@media (max-width: 768px){.css-l13l49{display:-webkit-box;display:-webkit-flex;display:-ms-flexbox;display:flex;-webkit-flex-direction:column;-ms-flex-direction:column;flex-direction:column;margin:32px;}}.css-y1dsfg{margin:0 auto;}@media (max-width: 768px){.css-y1dsfg{margin:0 0 24px 0;}}.css-pkahog{display:none;}@media (min-width: 768px){.css-pkahog{display:-webkit-box;display:-webkit-flex;display:-ms-flexbox;display:flex;-webkit-flex-direction:column;-ms-flex-direction:column;flex-direction:column;max-width:300px;position:relative;width:300px;}}.css-nmn7zk{margin-bottom:150px;min-height:750px;width:100%;}.css-1bs4f8n{position:static;top:150px;}.css-zvgwji{display:-webkit-box;display:-webkit-flex;display:-ms-flexbox;display:flex;-webkit-box-pack:center;-ms-flex-pack:center;-webkit-justify-content:center;justify-content:center;min-height:250px;text-align:center;}.css-14i7uwb{margin-bottom:150px;min-height:400px;width:100%;}.css-8nd6z0{position:-webkit-sticky;position:sticky;top:150px;}.css-19q83sv{background:#4B97DD;cursor:pointer;height:4px;position:fixed;-webkit-transform:scaleX(0);-moz-transform:scaleX(0);-ms-transform:scaleX(0);transform:scaleX(0);-webkit-transition:-webkit-transform 0.1s ease-in-out 0s;transition:transform 0.1s ease-in-out 0s;}.css-1qe5ma3{color:#00248B;cursor:pointer;-webkit-text-decoration:none;text-decoration:none;font-size:16px;font-weight:bold;margin-bottom:16px;text-transform:uppercase;background-color:#00248B;border-radius:3px 3px 0 0;color:#FFFFFF;font-size:14px;padding:8px;position:fixed;right:0px;top:300px;-webkit-transform:rotate(270deg);-moz-transform:rotate(270deg);-ms-transform:rotate(270deg);transform:rotate(270deg);transform-origin:bottom right;z-index:100;}@media (min-width: 768px){.css-1qe5ma3{top:140px;}}.css-geb4n4{display:-webkit-box;display:-webkit-list-item;display:-ms-list-itembox;display:list-item;line-height:1.5;list-style:none;margin-bottom:4px;margin-top:8px;padding-left:25px;position:relative;}.css-geb4n4::before{color:#767676;content:'';font-size:14px;height:32px;left:0px;line-height:26px;position:absolute;}.css-1yvsuaf{margin-bottom:4px;}.css-41gcop{color:#1A1A1A;font-size:16px;font-weight:bold;}.css-h12q9j{color:#F44725;}.css-kw30tz{counter-reset:sub-def-counter;list-style:none;}.css-kw30tz li{display:-webkit-box;display:-webkit-list-item;display:-ms-list-itembox;display:list-item;margin-bottom:4px;padding-left:20px;position:relative;}.css-kw30tz li::before{color:#767676;content:counter(sub-def-counter, lower-alpha);counter-increment:sub-def-counter;font-size:14px;height:32px;left:0px;line-height:26px;position:absolute;}</style>\n",
      "        \n",
      "  <meta charSet=\"utf-8\">\n",
      "  <title>Computer Definition & Meaning | Dictionary.com</title>\n",
      "  <meta name=\"description\" content=\"The definition of Computer is a programmable electronic device designed to accept data, perform prescribed mathematical and logical operations at high speed, and display the results of these operations. Mainframes, desktop and laptop computers, tablets, and smartphones are some of the different types of computers. See additional meanings and similar words.\">\n",
      "  \n",
      "  <meta property=\"og:title\" content=\"Definition of computer | Dictionary.com\">\n",
      "  <meta property=\"og:description\" content=\"The definition of Computer is a programmable electronic device designed to accept data, perform prescribed mathematical and logical operations at high speed, and display the results of these operations. Mainframes, desktop and laptop computers, tablets, and smartphones are some of the different types of computers. See additional meanings and similar words.\">\n",
      "  <meta property=\"og:image\" content=\"https://www.dictionary.com/assets/dictionary-social-logo-93d290770ddf5b8c309b6e5ce9dcaac9.png\">\n",
      "  <meta property=\"og:site_name\" content=\"www.dictionary.com\">\n",
      "  <meta property=\"twitter:card\" content=\"summary\">\n",
      "  <meta property=\"twitter:site\" content=\"@Dictionarycom\">\n",
      "  <meta property=\"fb:app_id\" content=\"127444090629600\"><meta property=\"fb:admins\" content=\"100000304287730;109125464873\">\n",
      "  <meta name=\"msvalidate.01\" content=\"DF5542D7723770377E9ABFF59AC1DC97\">\n",
      "  <meta name=\"viewport\" content=\"width=device-width, initial-scale=1.0\">\n",
      "  \n",
      "  <link rel=\"icon\" type=\"image/png\" href=\"https://www.dictionary.com/assets/favicon-dcom-d73532382d3943b0fef5b78554e2ee9a.png\">\n",
      "  <link rel=\"canonical\" href=\"https://www.dictionary.com/browse/computer\">\n",
      "  <link rel=\"preload\" href=\"https://www.dictionary.com/assets/dictionary-font-4ad798e50e1427769017a2816000ee0c.woff\" as=\"font\" type=\"font/woff\" crossorigin=\"anonymous\">\n",
      "  \n",
      "  <link rel=\"preconnect\" href=\"//ads.pubmatic.com\" crossorigin>\n",
      "  <link rel=\"preconnect\" href=\"//securepubads.g.doubleclick.net\" crossorigin>\n",
      "  <link rel=\"preconnect\" href=\"//cm.g.doubleclick.net\" crossorigin>\n",
      "  <link rel=\"preconnect\" href=\"//pagead2.googlesyndication.com\" crossorigin>\n",
      "  <link rel=\"preconnect\" href=\"//ib.adnxs.com\" crossorigin>\n",
      "  <link rel=\"preconnect\" href=\"//ce.lijit.com\" crossorigin>\n",
      "  <link rel=\"preconnect\" href=\"//ap.lijit.com\" crossorigin>\n",
      "  <link rel=\"preconnect\" href=\"//us-u.openx.net\" crossorigin>\n",
      "\n",
      "  <link rel=\"dns-prefetch\" href=\"//fastlane.rubiconproject.com\" ><link rel=\"dns-prefetch\" href=\"//pixel.rubiconproject.com\" ><link rel=\"dns-prefetch\" href=\"//token.rubiconproject.com\" ><link rel=\"dns-prefetch\" href=\"//dsum-sec.casalemedia.com\" ><link rel=\"dns-prefetch\" href=\"//as-sec.casalemedia.com\" ><link rel=\"dns-prefetch\" href=\"//gum.criteo.com\" ><link rel=\"dns-prefetch\" href=\"//static.criteo.net\" ><link rel=\"dns-prefetch\" href=\"//bidder.criteo.com\" ><link rel=\"dns-prefetch\" href=\"//adserver.adtech.advertising.com\" ><link rel=\"dns-prefetch\" href=\"//cdata.carambo.la\" >\n",
      "  <script type=\"application/ld+json\">[{\"@context\":\"https://schema.org\",\"@type\":\"WebPage\",\"name\":\"Definition of computer\",\"url\":\"https://www.dictionary.com/browse/computer\",\"description\":\"'COMPUTER' definition by Dictionary.com\"},{\"@context\":\"https://schema.org\",\"@type\":[\"DefinedTermSet\",\"Website\"],\"@id\":\"https://www.dictionary.com/\",\"name\":\"Dictionary.com\"},{\"@context\":\"https://schema.org\",\"@type\":\"DefinedTerm\",\"@id\":\"https://www.dictionary.com/browse/computer\",\"name\":\"computer\",\"inDefinedTermSet\":\"https://www.dictionary.com/\"},{\"@context\":\"https://schema.org\",\"@type\":\"AudioObject\",\"contentURL\":\"https://static.sfdict.com/audio/C07/C0713000.mp3\",\"description\":\"How to pronounce computer\",\"encodingFormat\":\"audio/mpeg\",\"name\":\"C0713000.mp3\"}]</script>\n",
      "\n",
      "        \n",
      "  <script type=\"application/ld+json\">{\n",
      "    \"@context\": \"https://schema.org\",\n",
      "    \"@type\": \"WebSite\",\n",
      "    \"url\": \"https://www.dictionary.com\",\n",
      "    \"name\": \"Dictionary\",\n",
      "    \"potentialAction\": {\n",
      "        \"@type\": \"SearchAction\",\n",
      "        \"target\": \"https://www.dictionary.com/browse/{search_term_string}\",\n",
      "        \"query-input\": \"required name=search_term_string\"\n",
      "    }\n",
      "  }</script>\n",
      "\n",
      "        \n",
      "      <script id=\"adobe-analytics-data\">\n",
      "        window.addEventListener(\"load\", function() {\n",
      "          window.appEventData = window.appEventData || [];\n",
      "          appEventData.push({\n",
      "            event: \"Page Load Started\",\n",
      "              page: {\n",
      "                pageName: \"dict-com:lexi:serp:computer\",\n",
      "                pageType: \"SERP\",\n",
      "                pageSection: \"lexi\",\n",
      "                pageTitle: \"Computer Definition & Meaning | Dictionary.com\",\n",
      "                pageLegacy: \"dic\",\n",
      "                pagePlatform: \"dict-com\"\n",
      "              }\n",
      "          });\n",
      "          appEventData.push({\n",
      "            event: \"Page Load Complete\"\n",
      "          });\n",
      "        });\n",
      "      </script>\n",
      "    \n",
      "        <script id=\"adobe-analytics-script\" src=\"https://assets.adobedtm.com/d14cd3d8edd3/14b6230c7d29/launch-c9de4f1040cd.min.js\" async></script>\n",
      "        <script>\n",
      "          document.addEventListener(\"DOMContentLoaded\", function(event) { \n",
      "            if(typeof Visitor !== 'undefined'){\n",
      "              var visitor = Visitor.getInstance('AA9D3B6A630E2C2A0A495C40');\n",
      "              var links = document.querySelectorAll('a');\n",
      "              links.forEach(function(link){\n",
      "                var domain = link.hostname.split('.').slice(-2).join('.');\n",
      "                if(domain === 'thesaurus.com' || domain === 'grammarcoach.com'){\n",
      "                  link.href = visitor.appendVisitorIDsTo(link.href);\n",
      "                }\n",
      "              });\n",
      "            }\n",
      "          });\n",
      "        </script>\n",
      "      </head>\n",
      "      <body class=\"show-spell\">\n",
      "        <div id=\"root\">\n",
      "        <div id=\"react-header-container\"><style data-emotion=\"css 10x5o2\">.css-10x5o2{-webkit-position:sticky;position:sticky;top:0;width:100%;z-index:2000;}</style><div data-testid=\"site-header-container\" class=\"css-10x5o2 ez06r4a1\"><style data-emotion=\"css 6xix1i\">.css-6xix1i{font-size:16px;}</style><div class=\"css-6xix1i ez06r4a0\"><style data-emotion=\"css rdkbwa\">.css-rdkbwa{font-family:Arial,sans-serif;}</style><header class=\"master-header-container css-rdkbwa e1nknobk3\" data-header-container=\"true\"><nav aria-label=\"Site Navigation\"><style data-emotion=\"css dnx5pe\">.css-dnx5pe{background:#FFFFFF;display:-webkit-box;display:-webkit-flex;display:-ms-flexbox;display:flex;overflow:hidden;}</style><div class=\"css-dnx5pe e1nknobk2\"><style data-emotion=\"css 1h9ice0\">.css-1h9ice0{-webkit-align-items:center;-webkit-box-align:center;-ms-flex-align:center;align-items:center;background:#F3F3F3;display:-webkit-box;display:-webkit-flex;display:-ms-flexbox;display:flex;-webkit-flex:1;-ms-flex:1;flex:1;list-style:none;margin:0;padding:0;}</style><ul class=\"css-1h9ice0 e1nknobk1\"><style data-emotion=\"css 1v7ulkf\">.css-1v7ulkf{border-radius:3px 3px 0 0;cursor:pointer;-webkit-flex:1;-ms-flex:1;flex:1;list-style-type:none;text-align:center;z-index:3;background-color:#00248B;color:#FFFFFF;font-weight:bold;}.css-1v7ulkf:first-of-type{border-top-left-radius:0;}@media (min-width: 1024px){.css-1v7ulkf{-webkit-flex:none;-ms-flex:none;flex:none;width:186px;}}</style><li class=\"css-1v7ulkf ejn7swr1\"><style data-emotion=\"css ixznhr\">.css-ixznhr{color:inherit;display:inline-block;font-size:14px;padding:10px 0;-webkit-text-decoration:none;text-decoration:none;width:100%;}</style><a href=\"https://www.Dictionary.com\" id=\"dictionary-nav-tab\" data-analytics=\"aa-track\" data-location=\"header\" data-linkmodule=\"site-navigation\" data-linkname=\"dictionary.com\" data-linktype=\"cta\" data-type=\"sites-menu\" data-linkurl=\"https://www.Dictionary.com\" data-linkmodule_position=\"1\" class=\"header-tab-active css-ixznhr ejn7swr3\" data-linkid=\"tqks0v\" role=\"link\">DICTIONARY.COM</a></li><style data-emotion=\"css h0aiwv\">.css-h0aiwv{border-radius:3px 3px 0 0;cursor:pointer;-webkit-flex:1;-ms-flex:1;flex:1;list-style-type:none;text-align:center;z-index:3;background-color:#FFFFFF;color:#767676;}.css-h0aiwv:first-of-type{border-top-left-radius:0;}@media (min-width: 1024px){.css-h0aiwv{-webkit-flex:none;-ms-flex:none;flex:none;width:186px;}}.css-h0aiwv:last-of-type{border-right:1px solid #B6B6B6;}.css-h0aiwv:first-of-type{border-left:1px solid #B6B6B6;}.css-h0aiwv:hover{background-color:#F3F3F3;}.css-h0aiwv:active{background-color:#E1E1E1;}</style><li class=\"css-h0aiwv ejn7swr0\"><a href=\"https://www.Thesaurus.com\" id=\"thesaurus-nav-tab\" data-linkid=\"qxnxzj\" class=\"css-ixznhr ejn7swr3\">THESAURUS.COM</a></li><style data-emotion=\"css 8pe5zk\">.css-8pe5zk{display:none;text-align:center;}@media (min-width: 1024px){.css-8pe5zk{display:block;}}</style><li class=\"css-8pe5zk e1ihq6qc1\"><style data-emotion=\"css 1ftrdo3\">.css-1ftrdo3{list-style:none;margin:0;padding:0;}</style><ul data-secondary-navtabs=\"true\" class=\"css-1ftrdo3 e9d7gw33\"></ul></li><style data-emotion=\"css 1o3nkn\">.css-1o3nkn{margin-left:auto;}</style><li class=\"css-1o3nkn e1nknobk0\"><style data-emotion=\"css 1t0kwiu\">.css-1t0kwiu{-webkit-align-items:center;-webkit-box-align:center;-ms-flex-align:center;align-items:center;display:-webkit-box;display:-webkit-flex;display:-ms-flexbox;display:flex;-webkit-flex-direction:column;-ms-flex-direction:column;flex-direction:column;height:36px;-webkit-box-pack:center;-ms-flex-pack:center;-webkit-justify-content:center;justify-content:center;width:36px;}</style><div class=\"css-1t0kwiu e7m5ur91\"><style data-emotion=\"css 1ekpmrf\">.css-1ekpmrf{background:none;border:none;cursor:pointer;padding:0;}</style><button aria-label=\"Sign up for an account\" data-account-icon-signedout=\"true\" class=\"css-1ekpmrf e1po9i4m1\"><style data-emotion=\"css 111o5ku\">.css-111o5ku{-webkit-transform:rotate(0deg);-moz-transform:rotate(0deg);-ms-transform:rotate(0deg);transform:rotate(0deg);}</style><svg class=\"css-111o5ku e14oicvn0\" fill=\"none\" height=\"24\" viewBox=\"0 0 24 24\" width=\"24\" xmlns=\"http://www.w3.org/2000/svg\"><path d=\"M13.889 5.573C13.3299 5.1994 12.6725 5 12.0001 5C11.0983 5.00001 10.2335 5.35823 9.59592 5.99585C8.95829 6.63347 8.60008 7.49826 8.60007 8.39999C8.60007 9.07245 8.79947 9.7298 9.17307 10.2889C9.54667 10.8481 10.0777 11.2838 10.6989 11.5412C11.3202 11.7985 12.0038 11.8658 12.6634 11.7347C13.3229 11.6035 13.9287 11.2797 14.4042 10.8042C14.8797 10.3287 15.2035 9.72283 15.3347 9.0633C15.4659 8.40376 15.3986 7.72014 15.1413 7.09887C14.8839 6.4776 14.4481 5.9466 13.889 5.573ZM9.55556 4.74153C10.2791 4.25806 11.1298 4 12.0001 4C13.1666 4.00132 14.285 4.46531 15.1099 5.29019C15.9348 6.11506 16.3987 7.23345 16.4001 8.39999C16.4001 9.27023 16.142 10.1209 15.6585 10.8445C15.1751 11.5681 14.4879 12.132 13.6839 12.4651C12.8799 12.7981 11.9952 12.8852 11.1417 12.7154C10.2882 12.5457 9.50415 12.1266 8.8888 11.5113C8.27345 10.8959 7.85439 10.1119 7.68461 9.25839C7.51484 8.40487 7.60197 7.52018 7.935 6.71619C8.26802 5.9122 8.83198 5.22501 9.55556 4.74153ZM18.7375 16.1781L15.4 13.9C14.3747 14.5247 13.2006 14.8632 12 14.8801C10.7993 14.8643 9.62489 14.5258 8.6 13.9L5.2625 16.1781C5.18268 16.2242 5.1164 16.2905 5.07032 16.3703C5.02424 16.4501 4.99999 16.5406 5 16.6328V18.475C5.00004 18.6142 5.05537 18.7477 5.15382 18.8462C5.25226 18.9446 5.38578 18.9999 5.525 19H18.475C18.6142 18.9999 18.7477 18.9446 18.8462 18.8462C18.9446 18.7477 19 18.6142 19 18.475V16.6328C19 16.5406 18.9758 16.4501 18.9297 16.3703C18.8836 16.2905 18.8173 16.2242 18.7375 16.1781ZM14.8453 13.068L15.4066 12.6938L15.9637 13.0742L19.2785 15.3367C19.4989 15.4738 19.6807 15.6647 19.8069 15.8914C19.9332 16.1182 19.9996 16.3733 20 16.6328V18.475C19.9996 18.8793 19.8388 19.267 19.5529 19.5529C19.267 19.8388 18.8793 19.9996 18.475 20H5.525C5.12067 19.9996 4.73302 19.8388 4.44711 19.5529C4.16121 19.267 4.00041 18.8793 4 18.475V16.6328C4.00044 16.3732 4.06694 16.118 4.19322 15.8912C4.31951 15.6644 4.50143 15.4734 4.72187 15.3363L8.03633 13.0743L8.59336 12.6938L9.15469 13.068C10.0157 13.5831 10.9968 13.8631 12 13.8801C13.0032 13.8631 13.9843 13.5831 14.8453 13.068Z\" fill=\"#1A1A1A\"></path></svg></button><style data-emotion=\"css eivff4\">.css-eivff4{display:none;}</style><style data-emotion=\"css sa66ds\">.css-sa66ds{-webkit-transform:rotate(0deg);-moz-transform:rotate(0deg);-ms-transform:rotate(0deg);transform:rotate(0deg);display:none;}</style><svg class=\"e7m5ur90 css-sa66ds e14oicvn0\" fill=\"none\" height=\"24\" viewBox=\"0 0 24 24\" width=\"24\" xmlns=\"http://www.w3.org/2000/svg\"><path d=\"M16.463 8.21304C16.5099 9.11072 16.2835 10.0015 15.8138 10.7679C15.344 11.5343 14.6529 12.1403 13.8317 12.5058C13.0105 12.8714 12.0977 12.9794 11.2138 12.8155C10.33 12.6517 9.51659 12.2237 8.88097 11.5881C8.24534 10.9524 7.81737 10.139 7.65352 9.25519C7.48967 8.37134 7.59765 7.45858 7.96321 6.63736C8.32876 5.81614 8.93472 5.12505 9.70111 4.65528C10.4675 4.18552 11.3583 3.95915 12.256 4.00606C13.3532 4.06339 14.3903 4.52503 15.1671 5.30191C15.944 6.07879 16.4057 7.11586 16.463 8.21304ZM19.7 15.463L15.389 12.974C14.4131 13.7007 13.2281 14.0919 12.0113 14.089C10.7946 14.0861 9.61146 13.6894 8.639 12.958L4.3 15.463C4.20873 15.5157 4.13295 15.5915 4.08029 15.6828C4.02762 15.7741 3.99993 15.8776 4 15.983V19.4C4 19.5591 4.06321 19.7117 4.17574 19.8243C4.28826 19.9368 4.44087 20 4.6 20H19.4C19.5591 20 19.7117 19.9368 19.8243 19.8243C19.9368 19.7117 20 19.5591 20 19.4V15.983C20.0001 15.8776 19.9724 15.7741 19.9197 15.6828C19.867 15.5915 19.7913 15.5157 19.7 15.463Z\" fill=\"#1a1a1a\"></path></svg></div></li><style data-emotion=\"css 1hnxrqy\">.css-1hnxrqy{-webkit-align-items:center;-webkit-box-align:center;-ms-flex-align:center;align-items:center;background-color:#FFFFFF;display:-webkit-box;display:-webkit-flex;display:-ms-flexbox;display:flex;-webkit-flex-direction:column;-ms-flex-direction:column;flex-direction:column;font-size:16px;height:100vh;-webkit-box-pack:center;-ms-flex-pack:center;-webkit-justify-content:center;justify-content:center;padding:24px;padding-bottom:32px;position:fixed;right:0;top:0;width:100vw;z-index:100;display:none;}@media (min-width: 768px){.css-1hnxrqy{border-radius:3px;-webkit-filter:drop-shadow(0 2px 8px rgba(0, 0, 0, 0.15));filter:drop-shadow(0 2px 8px rgba(0, 0, 0, 0.15));height:unset;top:36px;width:320px;}.css-1hnxrqy::before{background-color:#FFFFFF;-webkit-clip-path:polygon(50% 0%, 100% 100%, 0% 100%);clip-path:polygon(50% 0%, 100% 100%, 0% 100%);content:'';height:18px;position:absolute;right:0;top:-6px;width:36px;}}</style><div data-access-menu=\"true\" class=\"css-1hnxrqy elpgkf60\"><style data-emotion=\"css 10pt21e\">.css-10pt21e{position:absolute;right:16px;top:16px;}</style><div data-exit-button=\"true\" class=\"css-10pt21e ean6knj0\"><button aria-label=\"close menu\" class=\"css-1ekpmrf e1po9i4m1\"><svg class=\"css-111o5ku e14oicvn0\" fill=\"none\" height=\"24\" viewBox=\"0 0 24 24\" width=\"24\" xmlns=\"http://www.w3.org/2000/svg\"><path d=\"M13.6431 12L18.9147 6.72842C18.9693 6.67373 19 6.59959 19 6.5223C19 6.445 18.9693 6.37087 18.9147 6.31618L17.6838 5.0853C17.6291 5.03068 17.555 5 17.4777 5C17.4004 5 17.3263 5.03068 17.2716 5.0853L12 10.3569L6.72842 5.0853C6.67373 5.03068 6.59959 5 6.5223 5C6.445 5 6.37087 5.03068 6.31618 5.0853L5.0853 6.31618C5.03068 6.37087 5 6.445 5 6.5223C5 6.59959 5.03068 6.67373 5.0853 6.72842L10.3569 12L5.0853 17.2716C5.03068 17.3263 5 17.4004 5 17.4777C5 17.555 5.03068 17.6291 5.0853 17.6838L6.31618 18.9147C6.37087 18.9693 6.445 19 6.5223 19C6.59959 19 6.67373 18.9693 6.72842 18.9147L12 13.6431L17.2716 18.9147C17.3263 18.9693 17.4004 19 17.4777 19C17.555 19 17.6291 18.9693 17.6838 18.9147L18.9147 17.6838C18.9693 17.6291 19 17.555 19 17.4777C19 17.4004 18.9693 17.3263 18.9147 17.2716L13.6431 12Z\" fill=\"#1A1A1A\"></path></svg></button></div><style data-emotion=\"css ynfyeo\">.css-ynfyeo{-webkit-align-items:center;-webkit-box-align:center;-ms-flex-align:center;align-items:center;background-image:linear-gradient(\n",
      "    to right,\n",
      "    #00248B 50%,\n",
      "    #F44725 50%\n",
      "  );border-radius:50%;display:-webkit-box;display:-webkit-flex;display:-ms-flexbox;display:flex;height:72px;-webkit-box-pack:center;-ms-flex-pack:center;-webkit-justify-content:center;justify-content:center;margin-bottom:16px;width:72px;}</style><div class=\"css-ynfyeo e1tpbt201\"><style data-emotion=\"css gn81mu\">.css-gn81mu{-webkit-align-items:center;-webkit-box-align:center;-ms-flex-align:center;align-items:center;background-color:#FFFFFF;border-radius:50%;display:-webkit-box;display:-webkit-flex;display:-ms-flexbox;display:flex;height:68px;-webkit-box-pack:center;-ms-flex-pack:center;-webkit-justify-content:center;justify-content:center;width:68px;}</style><div class=\"css-gn81mu e1tpbt200\"><svg class=\"css-111o5ku e14oicvn0\" fill=\"none\" height=\"24\" viewBox=\"0 0 24 24\" width=\"24\" xmlns=\"http://www.w3.org/2000/svg\"><path d=\"M16.463 8.21304C16.5099 9.11072 16.2835 10.0015 15.8138 10.7679C15.344 11.5343 14.6529 12.1403 13.8317 12.5058C13.0105 12.8714 12.0977 12.9794 11.2138 12.8155C10.33 12.6517 9.51659 12.2237 8.88097 11.5881C8.24534 10.9524 7.81737 10.139 7.65352 9.25519C7.48967 8.37134 7.59765 7.45858 7.96321 6.63736C8.32876 5.81614 8.93472 5.12505 9.70111 4.65528C10.4675 4.18552 11.3583 3.95915 12.256 4.00606C13.3532 4.06339 14.3903 4.52503 15.1671 5.30191C15.944 6.07879 16.4057 7.11586 16.463 8.21304ZM19.7 15.463L15.389 12.974C14.4131 13.7007 13.2281 14.0919 12.0113 14.089C10.7946 14.0861 9.61146 13.6894 8.639 12.958L4.3 15.463C4.20873 15.5157 4.13295 15.5915 4.08029 15.6828C4.02762 15.7741 3.99993 15.8776 4 15.983V19.4C4 19.5591 4.06321 19.7117 4.17574 19.8243C4.28826 19.9368 4.44087 20 4.6 20H19.4C19.5591 20 19.7117 19.9368 19.8243 19.8243C19.9368 19.7117 20 19.5591 20 19.4V15.983C20.0001 15.8776 19.9724 15.7741 19.9197 15.6828C19.867 15.5915 19.7913 15.5157 19.7 15.463Z\" fill=\"#1A1A1A\"></path></svg></div></div><style data-emotion=\"css op3fjw\">.css-op3fjw{font-weight:bold;position:absolute;visibility:hidden;}</style><span data-dummy-email-display=\"true\" class=\"css-op3fjw e1f5h5up0\"></span><style data-emotion=\"css nmcwjk\">.css-nmcwjk{color:#1A1A1A;font-weight:bold;margin-bottom:32px;visibility:hidden;}</style><span data-email-display=\"true\" class=\"css-nmcwjk e1f5h5up1\"></span><style data-emotion=\"css 1l8lbar\">.css-1l8lbar{list-style:none;padding:0;text-align:center;}</style><ul class=\"css-1l8lbar e1vsjhw03\"><style data-emotion=\"css e55px4\">.css-e55px4:not(:last-of-type){margin-bottom:32px;}</style><li class=\"css-e55px4 e1vsjhw02\"><style data-emotion=\"css g3a8vv\">.css-g3a8vv{color:#00248B;cursor:pointer;-webkit-text-decoration:none;text-decoration:none;color:#1A1A1A;font-size:16px;}.css-g3a8vv:hover{-webkit-text-decoration:underline;text-decoration:underline;}</style><a href=\"https://www.dictionary.com/account/word-lists\" data-linkid=\"s0mdq2\" class=\"css-g3a8vv e1vsjhw01\">Word Lists</a></li><li class=\"css-e55px4 e1vsjhw02\"><a href=\"https://www.dictionary.com/account\" data-linkid=\"kfcupj\" class=\"css-g3a8vv e1vsjhw01\">Account Settings</a></li><li class=\"css-e55px4 e1vsjhw02\"><a href=\"https://www.dictionary.com/account/subscriptions\" data-linkid=\"xrmh4r\" class=\"css-g3a8vv e1vsjhw01\">Subscriptions</a></li><li class=\"css-e55px4 e1vsjhw02\"><a href=\"https://www.dictionary.com/e/contact/\" data-linkid=\"soymvg\" class=\"css-g3a8vv e1vsjhw01\">Help Center</a></li><li class=\"css-e55px4 e1vsjhw02\"><style data-emotion=\"css 13zwonc\">.css-13zwonc{background:none;border:none;cursor:pointer;font-size:16px;padding:0;}.css-13zwonc:hover{-webkit-text-decoration:underline;text-decoration:underline;}.css-13zwonc:active{outline:none;}</style><button data-access-menu-nav-action=\"sign-out\" data-linkid=\"1ty7vk\" class=\"css-13zwonc e1vsjhw00\">Sign Out</button></li></ul></div></ul></div></nav><style data-emotion=\"css 6miuqi\">.css-6miuqi{background:#00248B;display:-webkit-box;display:-webkit-flex;display:-ms-flexbox;display:flex;}</style><div class=\"css-6miuqi e1nfx3j02\"><style data-emotion=\"css e1zu4x\">.css-e1zu4x{color:#4A4A4A;-webkit-flex:1 1 auto;-ms-flex:1 1 auto;flex:1 1 auto;max-width:100%;}</style><div class=\"css-e1zu4x e1nfx3j01\"><style data-emotion=\"css 1utaq2n\">.css-1utaq2n{display:-webkit-box;display:-webkit-flex;display:-ms-flexbox;display:flex;margin:0 auto;padding:8px 12px 0;}@media (min-width: 768px){.css-1utaq2n{padding:8px 16px 0;}}@media (min-width: 1024px){.css-1utaq2n{max-width:768px;padding:16px;}}</style><div class=\"css-1utaq2n e1nfx3j00\"><a href=\"https://www.dictionary.com\" data-linkid=\"yg487x\"><style data-emotion=\"css 1vgp1cr\">.css-1vgp1cr{height:42px;margin-right:16px;}</style><div class=\"css-1vgp1cr e1nfx3j03\"><style data-emotion=\"css 1l4w7hg\">.css-1l4w7hg{height:100%;width:auto;}</style><svg class=\"css-1l4w7hg e1hkv44m0\" role=\"img\" viewBox=\"0 0 100 108\" fill=\"none\" xmlns=\"http://www.w3.org/2000/svg\"><title>Dictionary.com</title><path d=\"M49.5428 0.820961L1.64406 0.432161C1.46887 0.43094 1.29516 0.464598 1.13295 0.531197C0.970738 0.597796 0.823228 0.69602 0.698915 0.820212C0.574602 0.944403 0.475943 1.09211 0.408618 1.25482C0.341294 1.41753 0.306636 1.59203 0.306641 1.76828V85.1165C0.306782 85.3762 0.374534 85.6314 0.503157 85.8566C0.631779 86.0818 0.816787 86.2692 1.03977 86.4002L36.96 107.408C37.1395 107.512 37.3432 107.568 37.5506 107.568C37.758 107.568 37.9619 107.513 38.1416 107.409C38.3213 107.305 38.4706 107.155 38.5744 106.974C38.6782 106.794 38.7329 106.589 38.733 106.38V28.4412C38.7331 28.1749 38.6619 27.9135 38.527 27.6844C38.3921 27.4553 38.1983 27.2669 37.9661 27.139L18.8711 16.626C18.7131 16.5376 18.5912 16.3958 18.527 16.2258C18.4628 16.0557 18.4604 15.8683 18.5202 15.6967C18.58 15.5251 18.6982 15.3802 18.8539 15.2877C19.0096 15.1952 19.1927 15.161 19.3711 15.1911L53.8189 21.1373C54.135 21.1907 54.422 21.3552 54.6287 21.6016C54.8355 21.848 54.9485 22.1602 54.9477 22.4827V92.6487C54.9479 92.8431 54.9893 93.0353 55.0689 93.2123C55.1486 93.3894 55.2649 93.5474 55.41 93.6759C55.555 93.8043 55.7256 93.9002 55.9103 93.9572C56.0951 94.0142 56.2898 94.031 56.4815 94.0065C81.9876 91.1337 99.3741 73.0637 99.6993 47.9985C100.052 19.9215 79.4293 1.21285 49.5428 0.820961Z\" fill=\"white\"></path></svg></div></a><style data-emotion=\"css 6mee5l\">.css-6mee5l{position:relative;width:100%;z-index:1;}</style><div class=\"css-6mee5l elg9gcr0\"><style data-emotion=\"css 1l6di18\">.css-1l6di18.Mui-focused .MuiAutocomplete-clearIndicator{visibility:visible;}@media (pointer: fine){.css-1l6di18:hover .MuiAutocomplete-clearIndicator{visibility:visible;}}.css-1l6di18 .MuiAutocomplete-tag{margin:3px;max-width:calc(100% - 6px);}.css-1l6di18 .MuiAutocomplete-inputRoot{-webkit-box-flex-wrap:wrap;-webkit-flex-wrap:wrap;-ms-flex-wrap:wrap;flex-wrap:wrap;}.MuiAutocomplete-hasPopupIcon.css-1l6di18 .MuiAutocomplete-inputRoot,.MuiAutocomplete-hasClearIcon.css-1l6di18 .MuiAutocomplete-inputRoot{padding-right:30px;}.MuiAutocomplete-hasPopupIcon.MuiAutocomplete-hasClearIcon.css-1l6di18 .MuiAutocomplete-inputRoot{padding-right:56px;}.css-1l6di18 .MuiAutocomplete-inputRoot .MuiAutocomplete-input{width:0;min-width:30px;}.css-1l6di18 .MuiInput-root{padding-bottom:1px;}.css-1l6di18 .MuiInput-root .MuiInput-input{padding:4px 4px 4px 0px;}.css-1l6di18 .MuiInput-root.MuiInputBase-sizeSmall .MuiInput-input{padding:2px 4px 3px 0;}.css-1l6di18 .MuiOutlinedInput-root{padding:9px;}.MuiAutocomplete-hasPopupIcon.css-1l6di18 .MuiOutlinedInput-root,.MuiAutocomplete-hasClearIcon.css-1l6di18 .MuiOutlinedInput-root{padding-right:39px;}.MuiAutocomplete-hasPopupIcon.MuiAutocomplete-hasClearIcon.css-1l6di18 .MuiOutlinedInput-root{padding-right:65px;}.css-1l6di18 .MuiOutlinedInput-root .MuiAutocomplete-input{padding:7.5px 4px 7.5px 6px;}.css-1l6di18 .MuiOutlinedInput-root .MuiAutocomplete-endAdornment{right:9px;}.css-1l6di18 .MuiOutlinedInput-root.MuiInputBase-sizeSmall{padding:6px;}.css-1l6di18 .MuiOutlinedInput-root.MuiInputBase-sizeSmall .MuiAutocomplete-input{padding:2.5px 4px 2.5px 6px;}.css-1l6di18 .MuiFilledInput-root{padding-top:19px;padding-left:8px;}.MuiAutocomplete-hasPopupIcon.css-1l6di18 .MuiFilledInput-root,.MuiAutocomplete-hasClearIcon.css-1l6di18 .MuiFilledInput-root{padding-right:39px;}.MuiAutocomplete-hasPopupIcon.MuiAutocomplete-hasClearIcon.css-1l6di18 .MuiFilledInput-root{padding-right:65px;}.css-1l6di18 .MuiFilledInput-root .MuiFilledInput-input{padding:7px 4px;}.css-1l6di18 .MuiFilledInput-root .MuiAutocomplete-endAdornment{right:9px;}.css-1l6di18 .MuiFilledInput-root.MuiInputBase-sizeSmall{padding-bottom:1px;}.css-1l6di18 .MuiFilledInput-root.MuiInputBase-sizeSmall .MuiFilledInput-input{padding:2.5px 4px;}.css-1l6di18 .MuiInputBase-hiddenLabel{padding-top:8px;}.css-1l6di18 .MuiAutocomplete-input{-webkit-box-flex:1;-webkit-flex-grow:1;-ms-flex-positive:1;flex-grow:1;text-overflow:ellipsis;opacity:1;}</style><div class=\"MuiAutocomplete-root css-1l6di18\" role=\"combobox\" aria-expanded=\"false\"><style data-emotion=\"css yatynv\">.css-yatynv{-webkit-align-items:center;-webkit-box-align:center;-ms-flex-align:center;align-items:center;background:#FFFFFF;border-radius:3px;box-shadow:0px 8px 8px rgba(0, 0, 0, 0.1);display:-webkit-box;display:-webkit-flex;display:-ms-flexbox;display:flex;padding-left:0.5rem;}</style><div class=\"css-yatynv e1qby2s31\"><style data-emotion=\"css 14vjfyp\">.css-14vjfyp{background:none;border:none;cursor:pointer;padding:0;height:40px;-webkit-transition:all 0.25s ease-in-out;transition:all 0.25s ease-in-out;width:40px;position:relative;}.css-14vjfyp:before{border:4px solid #0046BE;border-radius:100px;bottom:0;content:' ';left:0;opacity:0;position:absolute;right:0;top:0;-webkit-transition:all 0.25s ease-in-out;transition:all 0.25s ease-in-out;}.css-14vjfyp:focus{outline:none;}.css-14vjfyp:focus:not(:hover):not(:active):not([disabled]):before{opacity:1;}.css-14vjfyp[disabled]{color:#767676;cursor:not-allowed;}.css-14vjfyp:hover:not([disabled]){-webkit-transform:scale(1.05);-moz-transform:scale(1.05);-ms-transform:scale(1.05);transform:scale(1.05);}.css-14vjfyp:active:not([disabled]){-webkit-transform:scale(1);-moz-transform:scale(1);-ms-transform:scale(1);transform:scale(1);}</style><button aria-label=\"search\" class=\"css-14vjfyp e1cy0jix0\"><svg class=\"css-111o5ku e14oicvn0\" fill=\"none\" height=\"24\" viewBox=\"0 0 24 24\" width=\"24\" xmlns=\"http://www.w3.org/2000/svg\"><path d=\"M21.4023 20.2074L15.801 14.6062C16.8165 13.0467 17.2167 11.1658 16.9241 9.32797C16.6314 7.49019 15.6668 5.82655 14.2172 4.65963C12.7675 3.49272 10.9362 2.90569 9.07836 3.01235C7.22048 3.11902 5.4684 3.91179 4.16186 5.23695C2.85531 6.5621 2.0874 8.32522 2.00701 10.1844C1.92663 12.0436 2.53951 13.8664 3.7268 15.2994C4.9141 16.7324 6.59122 17.6734 8.43296 17.94C10.2747 18.2067 12.1498 17.7799 13.6948 16.7424L18.3598 21.4074C18.4062 21.4539 18.464 21.4874 18.5274 21.5045C18.5907 21.5216 18.6575 21.5217 18.721 21.5049L21.2335 20.8349C21.2972 20.818 21.3552 20.7846 21.4019 20.7381C21.4485 20.6915 21.4821 20.6336 21.4992 20.5699C21.5163 20.5063 21.5163 20.4393 21.4993 20.3757C21.4823 20.3121 21.4488 20.254 21.4023 20.2074ZM6.32976 13.6999C5.59348 12.9639 5.13518 11.9953 5.03296 10.9593C4.93074 9.92323 5.19091 8.88378 5.76915 8.01804C6.34739 7.15231 7.20793 6.51385 8.20413 6.21145C9.20033 5.90905 10.2706 5.96142 11.2325 6.35964C12.1944 6.75785 12.9885 7.47728 13.4794 8.39533C13.9704 9.31339 14.1278 10.3733 13.9249 11.3944C13.7221 12.4155 13.1714 13.3347 12.3668 13.9953C11.5621 14.656 10.5533 15.0172 9.51226 15.0174C8.92102 15.0192 8.33529 14.9037 7.78901 14.6775C7.24273 14.4514 6.74673 14.1191 6.32976 13.6999Z\" fill=\"#767676\"></path></svg></button><style data-emotion=\"css lkl4fi\">.css-lkl4fi{background-color:transparent;border-bottom-color:transparent;border-left-color:transparent;border-right-color:transparent;border-top-color:transparent;font-size:1rem;line-height:1.5;overflow:hidden;padding:0;text-overflow:ellipsis;white-space:nowrap;width:100%;}</style><style data-emotion=\"css 17ozvr\">.css-17ozvr{color:#4A4A4A;-webkit-flex:1;-ms-flex:1;flex:1;font-size:24px;outline:none;padding:4px 8px;width:100%;background-color:transparent;border-bottom-color:transparent;border-left-color:transparent;border-right-color:transparent;border-top-color:transparent;font-size:1rem;line-height:1.5;overflow:hidden;padding:0;text-overflow:ellipsis;white-space:nowrap;width:100%;}.css-17ozvr::-ms-clear{display:none;height:0;width:0;}.css-17ozvr::-webkit-search-decoration,.css-17ozvr::-webkit-search-cancel-button,.css-17ozvr::-webkit-search-results-button,.css-17ozvr::-webkit-search-results-decoration{display:none;}</style><input type=\"search\" autoCapitalize=\"none\" autoCorrect=\"off\" autoComplete=\"off\" font-size=\"24px\" class=\"MuiAutocomplete-input MuiAutocomplete-inputFocused e1qby2s30 css-17ozvr ebwfdjd0\" id=\"globalSearch\" value=\"\" aria-autocomplete=\"list\" spellcheck=\"false\" placeholder=\"Search for any word or phrase\"/><button aria-label=\"clear\" class=\"css-14vjfyp e1cy0jix0\"><svg class=\"css-111o5ku e14oicvn0\" fill=\"none\" height=\"24\" viewBox=\"0 0 24 24\" width=\"24\" xmlns=\"http://www.w3.org/2000/svg\"><path d=\"M13.6431 12L18.9147 6.72842C18.9693 6.67373 19 6.59959 19 6.5223C19 6.445 18.9693 6.37087 18.9147 6.31618L17.6838 5.0853C17.6291 5.03068 17.555 5 17.4777 5C17.4004 5 17.3263 5.03068 17.2716 5.0853L12 10.3569L6.72842 5.0853C6.67373 5.03068 6.59959 5 6.5223 5C6.445 5 6.37087 5.03068 6.31618 5.0853L5.0853 6.31618C5.03068 6.37087 5 6.445 5 6.5223C5 6.59959 5.03068 6.67373 5.0853 6.72842L10.3569 12L5.0853 17.2716C5.03068 17.3263 5 17.4004 5 17.4777C5 17.555 5.03068 17.6291 5.0853 17.6838L6.31618 18.9147C6.37087 18.9693 6.445 19 6.5223 19C6.59959 19 6.67373 18.9693 6.72842 18.9147L12 13.6431L17.2716 18.9147C17.3263 18.9693 17.4004 19 17.4777 19C17.555 19 17.6291 18.9693 17.6838 18.9147L18.9147 17.6838C18.9693 17.6291 19 17.555 19 17.4777C19 17.4004 18.9693 17.3263 18.9147 17.2716L13.6431 12Z\" fill=\"#767676\"></path></svg></button></div></div><style data-emotion=\"css 15qvji3\">.css-15qvji3{display:none;}@media (min-width: 1024px){.css-15qvji3{background-color:#00125D;border-radius:3px 3px 0 0;display:block;height:calc(100% + 16px);position:absolute;top:0;width:100%;z-index:-1;}.css-15qvji3::before{background-color:#00248B;bottom:0px;-webkit-clip-path:polygon(0 0, 0 100%, 100% 100%);clip-path:polygon(0 0, 0 100%, 100% 100%);content:'';height:24px;left:-6px;position:absolute;position:absolute;width:32px;}.css-15qvji3::after{background-color:#00125D;bottom:0;-webkit-clip-path:polygon(0 0, 0 100%, 100% 100%);clip-path:polygon(0 0, 0 100%, 100% 100%);content:'';height:100%;position:absolute;right:-88px;width:90px;}}</style><div class=\"css-15qvji3 e1l06zzl0\"></div></div></div><style data-emotion=\"css voirk2\">.css-voirk2{display:-webkit-box;display:-webkit-flex;display:-ms-flexbox;display:flex;min-height:30px;overflow-x:auto;padding-left:16px;}@media (min-width: 480px){.css-voirk2{padding-left:0;}}@media (min-width: 1024px){.css-voirk2{display:none;}}</style><nav aria-label=\"Secondary Navigation\" class=\"css-voirk2 e1pxhaqu4\"><style data-emotion=\"css f4umud\">.css-f4umud{list-style:none;margin:0;padding:0;color:#FFFFFF;cursor:pointer;font-size:12px;margin:0 auto;white-space:nowrap;}</style><ul data-secondary-navbars=\"true\" class=\"css-f4umud e1pxhaqu3\"></ul></nav></div></div></header></div></div></div>\n",
      "        <div><div class=\"app-base\"><div id=\"base-pw\" class=\"base-pwrap css-1wfmt41 e1fub8bm1\"><main class=\"css-1c3tf54 e1fub8bm0\"><aside class=\"css-ulg3l6 eljh6ml0\"><aside class=\"no-collapse css-1jbjsi3 eanayw60\" id=\"dcom-serp-lb-728x90\"></aside></aside><section class=\"css-ra5g8t e8xvxkb0\"><section class=\"css-8p8pis e1hj943x0\"><section class=\"serp-nav-button css-1hhthdj ej3iuhp2\"><ul class=\"css-q1bd4 e1bmjk380\"><li data-ci-target=\"top-definitions-section\" class=\"top-definitions-section css-1eg9qtk ej3iuhp1\"><a href=\"#top-definitions-section\" data-ci-target=\"top-definitions-section\" class=\"ej3iuhp0 css-u1nc79 eh475bn0\">Top Definitions<!-- --> </a></li><li data-ci-target=\"quizzes\" class=\"quizzes css-1eg9qtk ej3iuhp1\"><a href=\"#quizzes\" data-ci-target=\"quizzes\" class=\"ej3iuhp0 css-u1nc79 eh475bn0\">Quiz<!-- --> </a></li><li data-ci-target=\"related-content-section\" class=\"related-content-section css-1eg9qtk ej3iuhp1\"><a href=\"#related-content-section\" data-ci-target=\"related-content-section\" class=\"ej3iuhp0 css-u1nc79 eh475bn0\">Related Content<!-- --> </a></li><li data-ci-target=\"examples-section\" class=\"examples-section css-1eg9qtk ej3iuhp1\"><a href=\"#examples-section\" data-ci-target=\"examples-section\" class=\"ej3iuhp0 css-u1nc79 eh475bn0\">Examples<!-- --> </a></li><li data-ci-target=\"collins-section\" class=\"collins-section css-1eg9qtk ej3iuhp1\"><a href=\"#collins-section\" data-ci-target=\"collins-section\" class=\"ej3iuhp0 css-u1nc79 eh475bn0\">British<!-- --> </a></li><li data-ci-target=\"science-section\" class=\"science-section css-1eg9qtk ej3iuhp1\"><a href=\"#science-section\" data-ci-target=\"science-section\" class=\"ej3iuhp0 css-u1nc79 eh475bn0\">Scientific<!-- --> </a></li><li data-ci-target=\"cultural-section\" class=\"cultural-section css-1eg9qtk ej3iuhp1\"><a href=\"#cultural-section\" data-ci-target=\"cultural-section\" class=\"ej3iuhp0 css-u1nc79 eh475bn0\">Cultural<!-- --> </a></li></ul></section><div class=\"css-1avshm7 e16867sm0\"><section class=\"entry-headword\" id=\"top-definitions-section\"><div class=\"css-1t9sqkg e1wg9v5m1\"><button data-ci-target=\"serp_tooltip\" data-word-complexity-btn-screensize=\"small\" aria-label=\"Elementary Level.\" class=\"css-1i9rgtx e1d9ace80\"><span data-testid=\"word-complexity-badge\" class=\"css-1i1f9xm e1d9ace81\"><span font-weight=\"bold\" font-size=\"14px\" color=\"#1A1A1A\" class=\"css-irpbha e7pf46o0\"><span role=\"img\" aria-label=\"apple\">🍎</span> <!-- -->Elementary Level</span></span></button><div class=\"css-bjn8wh e2bl8oz3\"><div data-tooltip-screensize=\"small\" data-tooltip-isopen=\"false\" role=\"tooltip\" aria-label=\"This shows grade level based on the word&#x27;s complexity.\" class=\"css-15cuosf e2bl8oz1\"><div class=\"css-4u7gd9 e2bl8oz2\"><div class=\"css-1rigp50 e7pf46o0\">This shows grade level based on the word&#x27;s complexity.</div><div class=\"css-p6a5vj e2bl8oz0\"></div></div></div></div></div><div class=\"css-1gvu524 e1wg9v5m7\"><div class=\"css-jv03sw e1wg9v5m6\"><h1 data-first-headword=\"true\" class=\"css-1sprl0b e1wg9v5m5\">computer</h1></div><div class=\"css-ev43ai ea1n8qa0\"><div><div class=\"pron-spell-ipa-container show-spell css-vo1uf3 evh0tcl3\"><div class=\"pron-spell-container css-eivff4 evh0tcl2\"><span class=\"pron-spell-content css-7iphl0 evh0tcl1\">[ k<span class=\"italic\">uh</span>m-<span class=\"bold\">pyoo</span>-ter  ]</span><button class=\"pron-ipa-button css-1keekaj evh0tcl0\" data-ci-target=\"ipaSpelled\">SHOW IPA</button></div><div class=\"pron-ipa-container css-eivff4 evh0tcl2\"><span class=\"pron-ipa-content css-7iphl0 evh0tcl1\">/ kəmˈpyu tər  /</span><button class=\"pron-spell-button css-1keekaj evh0tcl0\">PHONETIC RESPELLING</button></div></div></div><div data-slug=\"computer\" data-headword-buttons-container=\"true\" class=\"css-x8ezj7 e15jzgbm5\"><div class=\"audio-wrapper\"><button aria-label=\"pronunciation button\" data-ci-target=\"audio\" class=\"css-z3zatq e15jzgbm4\"><span font-size=\"33px\" class=\"css-5e54wk e15jzgbm1\"></span></button><audio preload=\"none\"><source src=\"https://static.sfdict.com/audio/lunawav/C07/C0713000.ogg\" type=\"audio/ogg\"/><source src=\"https://static.sfdict.com/audio/C07/C0713000.mp3\" type=\"audio/mpeg\"/></audio></div><div class=\"css-bjn8wh e15jzgbm0\"><button aria-label=\"save word\" data-outlined-star-button=\"true\" class=\"css-1jjtf5b e15jzgbm3\"><div class=\"css-1vr7vmn e15jzgbm2\"><span font-size=\"32px\" class=\"css-1xq8258 e15jzgbm1\"></span><span font-size=\"24px\" class=\"dropdown-arrow-icon css-jfavdo e15jzgbm1\" data-save-word-down-arrow=\"true\"></span></div></button><button aria-label=\"save or delete word\" style=\"display:none\" data-filled-star-button=\"true\" class=\"css-1jjtf5b e15jzgbm3\"><div class=\"css-1vr7vmn e15jzgbm2\"><span font-size=\"32px\" class=\"css-1148b02 e15jzgbm1\"></span><span font-size=\"24px\" class=\"dropdown-arrow-icon css-jfavdo e15jzgbm1\" data-delete-word-down-arrow=\"true\"></span></div></button><div data-save-word-dropdown=\"true\" style=\"display:none\" class=\"css-rjia68 e1uc7ns34\"><ul class=\"css-1ftrdo3 e9d7gw33\"><li class=\"css-1bxjd3l e1uc7ns33\"><a data-create-new-word-list-anchor=\"true\" tabindex=\"0\" class=\"css-15kd0q e1uc7ns32\">New Word List</a></li><div class=\"css-1wnzdoc e1uc7ns30\"><li data-save-word-option=\"true\" class=\"css-1ry8sb5 e1uc7ns33\"><button data-save-word-option-button=\"true\" class=\"css-10uzhzq e1uc7ns31\">Word List</button><span data-save-word-option-checkmark=\"true\" class=\"css-mcsf8a e1uc7ns35\"></span></li></div></ul></div><div data-save-word-tooltip=\"true\" class=\"css-106lbjg e1fdvmic2\"><span class=\"css-1bmnxg7 e1fdvmic0\">Save This Word!</span><div data-save-word-tooltip-caret=\"true\" class=\"css-1t8orr8 e1fdvmic1\"></div></div></div></div></div></div><div class=\"css-1eoy87d e1wg9v5m4\"><div class=\"css-1ff36h2 e1wg9v5m3\"><div class=\"css-1yvsuaf e15rdun50\"><div class=\"css-41gcop eejl9t61\"><span>See synonyms for: </span><span class=\"css-h12q9j eejl9t60\"><a href=\"https://www.thesaurus.com/browse/computer\" target=\"_blank\" rel=\"noopener\" data-linkid=\"oowy0r\" class=\"css-1mm57bl e12fnee32\">computer</a><span> / </span></span><span class=\"css-h12q9j eejl9t60\"><a href=\"https://www.thesaurus.com/browse/computers\" target=\"_blank\" rel=\"noopener\" data-linkid=\"tb9cmo\" class=\"css-1mm57bl e12fnee32\">computers</a></span><span> on Thesaurus.com</span></div></div></div><div class=\"css-1tozscx e1wg9v5m2\"><div class=\"css-v1ygcs e1wg9v5m0\"><button data-ci-target=\"serp_tooltip\" data-word-complexity-btn-screensize=\"large\" aria-label=\"Elementary Level.\" class=\"css-1i9rgtx e1d9ace80\"><span data-testid=\"word-complexity-badge\" class=\"css-1i1f9xm e1d9ace81\"><span font-weight=\"bold\" font-size=\"14px\" color=\"#1A1A1A\" class=\"css-irpbha e7pf46o0\"><span role=\"img\" aria-label=\"apple\">🍎</span> <!-- -->Elementary Level</span></span></button><div class=\"css-bjn8wh e2bl8oz3\"><div data-tooltip-screensize=\"large\" data-tooltip-isopen=\"false\" role=\"tooltip\" aria-label=\"This shows grade level based on the word&#x27;s complexity.\" class=\"css-15cuosf e2bl8oz1\"><div class=\"css-4u7gd9 e2bl8oz2\"><div class=\"css-1rigp50 e7pf46o0\">This shows grade level based on the word&#x27;s complexity.</div><div class=\"css-jzu8wx e2bl8oz0\"></div></div></div></div></div></div></div><hr class=\"headword-separator css-qxeaj1 etjs7ll0\"/></section><section class=\"css-109x55k e1hk9ate4\"><div class=\"css-69s207 e1hk9ate3\"><span class=\"css-1b1gas3 e1hk9ate2\"><span class=\"luna-pos\">noun</span></span></div><div class=\"css-10n3ydx e1hk9ate0\"><div value=\"1\" class=\"css-10ul8x e1q3nk1v2\"><span class=\"one-click-content css-nnyc96 e1q3nk1v1\">a programmable electronic device designed to accept data, perform prescribed mathematical and logical operations at high speed, and display the results of these operations. Mainframes, desktop and laptop computers, tablets, and smartphones are some of the different types of computers.</span><span class=\"one-click-content css-1acgboq e1q3nk1v0\">Compare <a href=\"/browse/analog-computer\" class=\"luna-xref\" data-linkid=\"nn1ov4\">analog computer</a>, <a href=\"/browse/digital-computer\" class=\"luna-xref\" data-linkid=\"nn1ov4\">digital computer</a>. </span></div><div value=\"2\" class=\"css-1o7vb91 e1q3nk1v2\"><span class=\"one-click-content css-nnyc96 e1q3nk1v1\">a person who<a href=\"/browse/compute\" class=\"luna-xref\" data-linkid=\"nn1ov4\">computes</a>;  computist.</span></div></div></section></div><aside class=\"css-ulg3l6 eljh6ml0\"><aside class=\"no-collapse css-1jbjsi3 eanayw60\" id=\"dcom-serp-bottom-lb-728x90\"></aside></aside><div data-wknd-infeed-div=\"true\"></div><div id=\"quizzes\" class=\"css-1avshm7 e16867sm0\"><div class=\"css-1jjvrru eymo9282\">QUIZ</div><div class=\"css-tpqxit evmged54\"><div class=\"css-1vcne49 evmged53\">CAN YOU ANSWER THESE COMMON GRAMMAR DEBATES?</div><div class=\"css-i3pbo evmged52\">There are grammar debates that never die; and the ones highlighted in the questions in this quiz are sure to rile everyone up once again. Do you know how to answer the questions that cause some of the greatest grammar debates?</div><div class=\"css-wx8xch evmged51\">Question <!-- -->1<!-- --> of <!-- -->7</div><div class=\"css-dmmrs6 evmged50\">Which sentence is correct?</div></div><div class=\"quiz-module-in-serp\"><a href=\"https://www.dictionary.com/games/quizzes/can-you-answer-these-common-grammar-debates\" data-linkid=\"hw6pfx\" data-ensure-webtrack=\"true\" class=\"css-1222img eymo9281\"><div class=\"css-17ajczv eymo9280\">His boss, whom he admires, is waiting to meet with him about the big project.</div></a><a href=\"https://www.dictionary.com/games/quizzes/can-you-answer-these-common-grammar-debates\" data-linkid=\"hw6pfx\" data-ensure-webtrack=\"true\" class=\"css-1222img eymo9281\"><div class=\"css-17ajczv eymo9280\">His boss, who he admires, is waiting to meet with him about the big project.</div></a><a href=\"https://www.dictionary.com/games/quizzes/can-you-answer-these-common-grammar-debates\" data-linkid=\"hw6pfx\" data-ensure-webtrack=\"true\" class=\"css-y27aew e1bz1yeo0\">TAKE THE QUIZ TO FIND OUT<!-- --> </a></div></div><div data-wknd-infeed-div=\"true\"></div><div data-wknd-infeed-div=\"true\"></div><section class=\"css-1gd5wt3 e9x2bts1\"><div class=\"css-1avshm7 e16867sm0\"><h2 class=\"css-m06p9x e1cxe2lc2\">Origin of<!-- --> <span class=\"css-1hg9omi e9x2bts0\">computer</span></h2><div class=\"one-click-content css-omho54 e16svm7n0\">1640–50; <a href=\"/browse/compute\" class=\"luna-xref\" data-linkid=\"nn1ov4\">compute</a>  + <a href=\"/browse/er\" class=\"luna-xref\" data-linkid=\"nn1ov4\">-er<sup>1</sup></a>;  compare Middle French <span class=\"italic\">computeur</span></div></div><div data-wknd-infeed-div=\"true\"></div><div class=\"css-1avshm7 e16867sm0\"><h2 class=\"css-wkbkqh e1cxe2lc0\">OTHER WORDS FROM computer</h2><span class=\"one-click-content css-1u0w8zv e614id60\"><span class=\"luna-runon bold\">com·put·er·like,</span> <span class=\"luna-pos\">adjective</span></span><span class=\"one-click-content css-1u0w8zv e614id60\"><span class=\"luna-runon bold\">non·com·put·er,</span> <span class=\"luna-pos\">adjective</span></span></div><div data-wknd-infeed-div=\"true\"></div></section><div class=\"css-1avshm7 e16867sm0\"><h2 class=\"css-wkbkqh e1cxe2lc0\">Words nearby <span class=\"css-1hg9omi e14wda90\">computer</span></h2><div class=\"css-1qy26rb e14wda93\"><a href=\"/browse/computational-complexity\" data-linkid=\"lno2pu\" class=\"css-11g4mt0 e14wda91\">computational complexity</a>, <a href=\"/browse/computational-fluid-dynamics\" data-linkid=\"lno2pu\" class=\"css-11g4mt0 e14wda91\">computational fluid dynamics</a>, <a href=\"/browse/computational-linguistics\" data-linkid=\"lno2pu\" class=\"css-11g4mt0 e14wda91\">computational linguistics</a>, <a href=\"/browse/compute\" data-linkid=\"lno2pu\" class=\"css-11g4mt0 e14wda91\">compute</a>, <a href=\"/browse/computed-tomography\" data-linkid=\"lno2pu\" class=\"css-11g4mt0 e14wda91\">computed tomography</a>, <span class=\"css-tus7ts e14wda92\">computer</span>, <a href=\"/browse/computer-age\" data-linkid=\"lno2pu\" class=\"css-11g4mt0 e14wda91\">computer age</a>, <a href=\"/browse/computer-aided-design\" data-linkid=\"lno2pu\" class=\"css-11g4mt0 e14wda91\">computer-aided design</a>, <a href=\"/browse/computer-aided-engineering\" data-linkid=\"lno2pu\" class=\"css-11g4mt0 e14wda91\">computer-aided engineering</a>, <a href=\"/browse/computer-aided-manufacturing\" data-linkid=\"lno2pu\" class=\"css-11g4mt0 e14wda91\">computer-aided manufacturing</a>, <a href=\"/browse/computer-aided-publishing\" data-linkid=\"lno2pu\" class=\"css-11g4mt0 e14wda91\">computer-aided publishing</a></div></div><div data-wknd-infeed-div=\"true\"></div><div class=\"css-k6l28 ejtq9h60\">Dictionary.com Unabridged\n",
      "Based on the Random House Unabridged Dictionary, © Random House, Inc. 2023</div><section class=\"css-8qz8ia e1md2px10\"><div id=\"related-content-section\" class=\"css-51mqq0 e19aolu01\"><div class=\"css-1avshm7 e16867sm0\"><h2 class=\"css-wkbkqh e1cxe2lc0\">Words related to <!-- -->computer</h2><div class=\"css-1kva0eo e15p0a5t1\"><a href=\"/browse/abacus\" data-linkid=\"ugrcqa\" class=\"css-1icv1bo e15p0a5t0\">abacus</a>, <a href=\"/browse/analog\" data-linkid=\"ugrcqa\" class=\"css-1icv1bo e15p0a5t0\">analog</a>, <a href=\"/browse/brain\" data-linkid=\"ugrcqa\" class=\"css-1icv1bo e15p0a5t0\">brain</a>, <a href=\"/browse/calculator\" data-linkid=\"ugrcqa\" class=\"css-1icv1bo e15p0a5t0\">calculator</a>, <a href=\"/browse/clone\" data-linkid=\"ugrcqa\" class=\"css-1icv1bo e15p0a5t0\">clone</a>, <a href=\"/browse/laptop\" data-linkid=\"ugrcqa\" class=\"css-1icv1bo e15p0a5t0\">laptop</a>, <a href=\"/browse/mac\" data-linkid=\"ugrcqa\" class=\"css-1icv1bo e15p0a5t0\">mac</a>, <a href=\"/browse/mainframe\" data-linkid=\"ugrcqa\" class=\"css-1icv1bo e15p0a5t0\">mainframe</a>, <a href=\"/browse/microcomputer\" data-linkid=\"ugrcqa\" class=\"css-1icv1bo e15p0a5t0\">microcomputer</a>, <a href=\"/browse/mini\" data-linkid=\"ugrcqa\" class=\"css-1icv1bo e15p0a5t0\">mini</a>, <a href=\"/browse/minicomputer\" data-linkid=\"ugrcqa\" class=\"css-1icv1bo e15p0a5t0\">minicomputer</a>, <a href=\"/browse/adding-machine\" data-linkid=\"ugrcqa\" class=\"css-1icv1bo e15p0a5t0\">adding machine</a>, <a href=\"/browse/artificial-intelligence\" data-linkid=\"ugrcqa\" class=\"css-1icv1bo e15p0a5t0\">artificial intelligence</a>, <a href=\"/browse/data-processing\" data-linkid=\"ugrcqa\" class=\"css-1icv1bo e15p0a5t0\">data processor</a>, <a href=\"/browse/digital\" data-linkid=\"ugrcqa\" class=\"css-1icv1bo e15p0a5t0\">digital</a>, <a href=\"/browse/electronic-brain\" data-linkid=\"ugrcqa\" class=\"css-1icv1bo e15p0a5t0\">electronic brain</a>, <a href=\"/browse/micro\" data-linkid=\"ugrcqa\" class=\"css-1icv1bo e15p0a5t0\">micro</a>, <a href=\"/browse/number--cruncher\" data-linkid=\"ugrcqa\" class=\"css-1icv1bo e15p0a5t0\">number cruncher</a>, <a href=\"/browse/personal-computer\" data-linkid=\"ugrcqa\" class=\"css-1icv1bo e15p0a5t0\">personal computer</a></div></div></div><div data-wknd-infeed-div=\"true\"></div><div id=\"examples-section\" class=\"css-1avshm7 e16867sm0\"><h2 class=\"css-wkbkqh e1cxe2lc0\">How to use <!-- -->computer<!-- --> in a sentence</h2><style data-emotion=\"css 12x6sdt\">.css-12x6sdt.expandable.content-hidden >.expandable-content{display:none;}.css-12x6sdt.expandable.content-expanded >.expandable-content{display:block;}</style><div class=\"expandable content-hidden css-12x6sdt e1fc5zsj0\"><div class=\"default-content\"><ul class=\"css-qr8q5p e15kc6du4\"><li class=\"css-avpsk8 e15kc6du3\"><p class=\"one-click-content css-b5q2lz e15kc6du2\">After studying <span class=\"italic\">computer</span> models of natural water flow — both saltwater and fresh — they begin a massive restoration project.</p><div class=\"css-zjik7 e15kc6du5\"><div class=\"css-1jv2rgl e15kc6du8\"><span><a href=\"https://www.sciencenewsforstudents.org/article/wetlands-coastal-soils-ecology-flooding-storm-surge-climate-change\" data-linkid=\"98q6tt\" rel=\"nofollow\" class=\"css-18wyej6 e15kc6du6\">Soggy coastal soils? Here’s why ecologists love them</a></span><span class=\"css-y1f223 e15kc6du1\"><span class=\"css-1qjn0sv e15kc6du7\">|</span>Alison Pearce Stevens</span><span class=\"css-y1f223 e15kc6du0\"><span class=\"css-1qjn0sv e15kc6du7\">|</span>September 17, 2020</span><a href=\"https://www.sciencenewsforstudents.org/article/wetlands-coastal-soils-ecology-flooding-storm-surge-climate-change\" rel=\"nofollow\" class=\"css-18wyej6 e15kc6du6\"><span class=\"css-1qjn0sv e15kc6du7\">|</span>Science News For Students</a></div></div></li><li class=\"css-avpsk8 e15kc6du3\"><p class=\"one-click-content css-b5q2lz e15kc6du2\">The device, in turn, can convert the handwritten text into more standard <span class=\"italic\">computer</span> fonts.</p><div class=\"css-zjik7 e15kc6du5\"><div class=\"css-1jv2rgl e15kc6du8\"><span><a href=\"https://fortune.com/2020/09/15/apple-ipad-air-8th-generation-time-flies/\" data-linkid=\"98q6tt\" rel=\"nofollow\" class=\"css-18wyej6 e15kc6du6\">Apple debuts its new iPad and iPad Air during its ‘Time Flies’ event</a></span><span class=\"css-y1f223 e15kc6du1\"><span class=\"css-1qjn0sv e15kc6du7\">|</span>jonathanvanian2015</span><span class=\"css-y1f223 e15kc6du0\"><span class=\"css-1qjn0sv e15kc6du7\">|</span>September 15, 2020</span><a href=\"https://fortune.com/2020/09/15/apple-ipad-air-8th-generation-time-flies/\" rel=\"nofollow\" class=\"css-18wyej6 e15kc6du6\"><span class=\"css-1qjn0sv e15kc6du7\">|</span>Fortune</a></div></div></li><li class=\"css-avpsk8 e15kc6du3\"><p class=\"one-click-content css-b5q2lz e15kc6du2\">A form of quantum teleportation will take place inside through the strange quantum mechanical properties of “superposition” and “entanglement” that make quantum <span class=\"italic\">computer</span>s hum—even if this device won’t zap my own body’s molecules to another planet.</p><div class=\"css-zjik7 e15kc6du5\"><div class=\"css-1jv2rgl e15kc6du8\"><span><a href=\"https://fortune.com/2020/09/15/ibm-quantum-computer-1-million-qubits-by-2030/\" data-linkid=\"98q6tt\" rel=\"nofollow\" class=\"css-18wyej6 e15kc6du6\">IBM plans a huge leap in superfast quantum computing by 2023</a></span><span class=\"css-y1f223 e15kc6du1\"><span class=\"css-1qjn0sv e15kc6du7\">|</span>rhhackettfortune</span><span class=\"css-y1f223 e15kc6du0\"><span class=\"css-1qjn0sv e15kc6du7\">|</span>September 15, 2020</span><a href=\"https://fortune.com/2020/09/15/ibm-quantum-computer-1-million-qubits-by-2030/\" rel=\"nofollow\" class=\"css-18wyej6 e15kc6du6\"><span class=\"css-1qjn0sv e15kc6du7\">|</span>Fortune</a></div></div></li><li class=\"css-avpsk8 e15kc6du3\"><p class=\"one-click-content css-b5q2lz e15kc6du2\">These missions have delivered life-saving drugs, sparked the <span class=\"italic\">computer</span> and internet revolutions, and put humans on the moon.</p><div class=\"css-zjik7 e15kc6du5\"><div class=\"css-1jv2rgl e15kc6du8\"><span><a href=\"https://www.technologyreview.com/2020/09/15/1008406/climate-crisis-energy-innovation-mission-us-election-tech-policy-opinion/\" data-linkid=\"98q6tt\" rel=\"nofollow\" class=\"css-18wyej6 e15kc6du6\">To confront the climate crisis, the US should launch a National Energy Innovation Mission</a></span><span class=\"css-y1f223 e15kc6du1\"><span class=\"css-1qjn0sv e15kc6du7\">|</span>Amy Nordrum</span><span class=\"css-y1f223 e15kc6du0\"><span class=\"css-1qjn0sv e15kc6du7\">|</span>September 15, 2020</span><a href=\"https://www.technologyreview.com/2020/09/15/1008406/climate-crisis-energy-innovation-mission-us-election-tech-policy-opinion/\" rel=\"nofollow\" class=\"css-18wyej6 e15kc6du6\"><span class=\"css-1qjn0sv e15kc6du7\">|</span>MIT Technology Review</a></div></div></li></ul></div><div class=\"expandable-content\"><ul class=\"css-qr8q5p e15kc6du4\"><li class=\"css-avpsk8 e15kc6du3\"><p class=\"one-click-content css-b5q2lz e15kc6du2\">Younger kids may be making a big jump from mobile devices to traditional laptops or desktop <span class=\"italic\">computer</span>s, too, which might make them feel a bit lost.</p><div class=\"css-zjik7 e15kc6du5\"><div class=\"css-1jv2rgl e15kc6du8\"><span><a href=\"https://www.popsci.com/story/diy/shortcut-guide-distance-learning-laptop-browser/\" data-linkid=\"98q6tt\" rel=\"nofollow\" class=\"css-18wyej6 e15kc6du6\">Make online classes easier with these laptop shortcuts</a></span><span class=\"css-y1f223 e15kc6du1\"><span class=\"css-1qjn0sv e15kc6du7\">|</span>Sandra Gutierrez G.</span><span class=\"css-y1f223 e15kc6du0\"><span class=\"css-1qjn0sv e15kc6du7\">|</span>September 15, 2020</span><a href=\"https://www.popsci.com/story/diy/shortcut-guide-distance-learning-laptop-browser/\" rel=\"nofollow\" class=\"css-18wyej6 e15kc6du6\"><span class=\"css-1qjn0sv e15kc6du7\">|</span>Popular-Science</a></div></div></li><li class=\"css-avpsk8 e15kc6du3\"><p class=\"one-click-content css-b5q2lz e15kc6du2\">In this war, the targeting is often happening on <span class=\"italic\">computer</span> monitors thousands of miles away, capturing images from drones.</p><div class=\"css-zjik7 e15kc6du5\"><div class=\"css-1jv2rgl e15kc6du8\"><span><a href=\"http://www.thedailybeast.com/articles/2015/01/07/pentagon-doesn-t-know-how-many-people-it-s-killed-in-the-isis-war.html?source=dictionary\" data-linkid=\"fboxke\" rel=\"nofollow\" class=\"css-18wyej6 e15kc6du6\">Pentagon Doesn’t Know How Many People It’s Killed in the ISIS War</a></span><span class=\"css-y1f223 e15kc6du1\"><span class=\"css-1qjn0sv e15kc6du7\">|</span>Nancy A. Youssef</span><span class=\"css-y1f223 e15kc6du0\"><span class=\"css-1qjn0sv e15kc6du7\">|</span>January 7, 2015</span><a href=\"http://www.thedailybeast.com/articles/2015/01/07/pentagon-doesn-t-know-how-many-people-it-s-killed-in-the-isis-war.html?source=dictionary\" rel=\"nofollow\" class=\"css-18wyej6 e15kc6du6\"><span class=\"css-1qjn0sv e15kc6du7\">|</span>DAILY BEAST</a></div></div></li><li class=\"css-avpsk8 e15kc6du3\"><p class=\"one-click-content css-b5q2lz e15kc6du2\">The resources were what you might expect: Dining room, a media center, a library, a TV room, a meeting room, a <span class=\"italic\">computer</span> room.</p><div class=\"css-zjik7 e15kc6du5\"><div class=\"css-1jv2rgl e15kc6du8\"><span><a href=\"http://www.thedailybeast.com/articles/2015/01/03/his-first-day-out-of-jail-after-40-years-adjusting-to-life-outside.html?source=dictionary\" data-linkid=\"fboxke\" rel=\"nofollow\" class=\"css-18wyej6 e15kc6du6\">His First Day Out Of Jail After 40 Years: Adjusting To Life Outside</a></span><span class=\"css-y1f223 e15kc6du1\"><span class=\"css-1qjn0sv e15kc6du7\">|</span>Justin Rohrlich</span><span class=\"css-y1f223 e15kc6du0\"><span class=\"css-1qjn0sv e15kc6du7\">|</span>January 3, 2015</span><a href=\"http://www.thedailybeast.com/articles/2015/01/03/his-first-day-out-of-jail-after-40-years-adjusting-to-life-outside.html?source=dictionary\" rel=\"nofollow\" class=\"css-18wyej6 e15kc6du6\"><span class=\"css-1qjn0sv e15kc6du7\">|</span>DAILY BEAST</a></div></div></li><li class=\"css-avpsk8 e15kc6du3\"><p class=\"one-click-content css-b5q2lz e15kc6du2\">Just a few short years ago, I sat down at my <span class=\"italic\">computer</span>, and I typed out a similar goodbye letter.</p><div class=\"css-zjik7 e15kc6du5\"><div class=\"css-1jv2rgl e15kc6du8\"><span><a href=\"http://www.thedailybeast.com/articles/2015/01/01/dear-leelah-we-will-fight-on-for-you-a-letter-to-a-dead-trans-teen.html?source=dictionary\" data-linkid=\"fboxke\" rel=\"nofollow\" class=\"css-18wyej6 e15kc6du6\">Dear Leelah, We Will Fight On For You: A Letter to a Dead Trans Teen</a></span><span class=\"css-y1f223 e15kc6du1\"><span class=\"css-1qjn0sv e15kc6du7\">|</span>Parker Molloy</span><span class=\"css-y1f223 e15kc6du0\"><span class=\"css-1qjn0sv e15kc6du7\">|</span>January 1, 2015</span><a href=\"http://www.thedailybeast.com/articles/2015/01/01/dear-leelah-we-will-fight-on-for-you-a-letter-to-a-dead-trans-teen.html?source=dictionary\" rel=\"nofollow\" class=\"css-18wyej6 e15kc6du6\"><span class=\"css-1qjn0sv e15kc6du7\">|</span>DAILY BEAST</a></div></div></li><li class=\"css-avpsk8 e15kc6du3\"><p class=\"one-click-content css-b5q2lz e15kc6du2\">Turn off the TV, put down your phone, and log off the <span class=\"italic\">computer</span>.</p><div class=\"css-zjik7 e15kc6du5\"><div class=\"css-1jv2rgl e15kc6du8\"><span><a href=\"http://www.thedailybeast.com/articles/2014/12/30/why-your-new-year-s-diet-will-fail.html?source=dictionary\" data-linkid=\"fboxke\" rel=\"nofollow\" class=\"css-18wyej6 e15kc6du6\">Why Your New Year’s Diet Will Fail</a></span><span class=\"css-y1f223 e15kc6du1\"><span class=\"css-1qjn0sv e15kc6du7\">|</span>Carrie Arnold</span><span class=\"css-y1f223 e15kc6du0\"><span class=\"css-1qjn0sv e15kc6du7\">|</span>December 30, 2014</span><a href=\"http://www.thedailybeast.com/articles/2014/12/30/why-your-new-year-s-diet-will-fail.html?source=dictionary\" rel=\"nofollow\" class=\"css-18wyej6 e15kc6du6\"><span class=\"css-1qjn0sv e15kc6du7\">|</span>DAILY BEAST</a></div></div></li><li class=\"css-avpsk8 e15kc6du3\"><p class=\"one-click-content css-b5q2lz e15kc6du2\">He grew up both a <span class=\"italic\">computer</span> geek in the early days of video games and an avid record collector.</p><div class=\"css-zjik7 e15kc6du5\"><div class=\"css-1jv2rgl e15kc6du8\"><span><a href=\"http://www.thedailybeast.com/articles/2014/12/27/dj-spooky-on-music-philosophy-and-the-joy-of-being-a-trickster.html?source=dictionary\" data-linkid=\"fboxke\" rel=\"nofollow\" class=\"css-18wyej6 e15kc6du6\">DJ Spooky Wants You To Question Everything You Know About Music, Technology, and Philosophy</a></span><span class=\"css-y1f223 e15kc6du1\"><span class=\"css-1qjn0sv e15kc6du7\">|</span>Oliver Jones</span><span class=\"css-y1f223 e15kc6du0\"><span class=\"css-1qjn0sv e15kc6du7\">|</span>December 27, 2014</span><a href=\"http://www.thedailybeast.com/articles/2014/12/27/dj-spooky-on-music-philosophy-and-the-joy-of-being-a-trickster.html?source=dictionary\" rel=\"nofollow\" class=\"css-18wyej6 e15kc6du6\"><span class=\"css-1qjn0sv e15kc6du7\">|</span>DAILY BEAST</a></div></div></li><li class=\"css-avpsk8 e15kc6du3\"><p class=\"one-click-content css-b5q2lz e15kc6du2\">Somebody else led the way to a storeroom, tossed its contents into the hall, and festooned it with used <span class=\"italic\">computer</span> tape.</p><div class=\"css-zjik7 e15kc6du5\"><div class=\"css-1jv2rgl e15kc6du8\"><span><a href=\"http://www.gutenberg.org/files/22239/22239-h/22239-h.htm\" data-linkid=\"sl8bq9\" rel=\"nofollow\" class=\"css-18wyej6 e15kc6du6\">Security</a></span><span class=\"css-y1f223 e15kc6du1\"><span class=\"css-1qjn0sv e15kc6du7\">|</span>Poul William Anderson</span></div></div></li><li class=\"css-avpsk8 e15kc6du3\"><p class=\"one-click-content css-b5q2lz e15kc6du2\">The gears on the mechanical <span class=\"italic\">computer</span> were really sharp and precise; they looked like you could cut yourself on them.</p><div class=\"css-zjik7 e15kc6du5\"><div class=\"css-1jv2rgl e15kc6du8\"><span><a href=\"http://www.gutenberg.org/files/34527/34527-h/34527-h.htm\" data-linkid=\"sl8bq9\" rel=\"nofollow\" class=\"css-18wyej6 e15kc6du6\">Makers</a></span><span class=\"css-y1f223 e15kc6du1\"><span class=\"css-1qjn0sv e15kc6du7\">|</span>Cory Doctorow</span></div></div></li><li class=\"css-avpsk8 e15kc6du3\"><p class=\"one-click-content css-b5q2lz e15kc6du2\">I want all of you to understand that the machine you will have to take care of is not just an ordinary <span class=\"italic\">computer</span>.</p><div class=\"css-zjik7 e15kc6du5\"><div class=\"css-1jv2rgl e15kc6du8\"><span><a href=\"http://www.gutenberg.org/files/23335/23335-h/23335-h.htm\" data-linkid=\"sl8bq9\" rel=\"nofollow\" class=\"css-18wyej6 e15kc6du6\">Unwise Child</a></span><span class=\"css-y1f223 e15kc6du1\"><span class=\"css-1qjn0sv e15kc6du7\">|</span>Gordon Randall Garrett</span></div></div></li><li class=\"css-avpsk8 e15kc6du3\"><p class=\"one-click-content css-b5q2lz e15kc6du2\">Most people, if told that a man had said one thing, and that a <span class=\"italic\">computer</span> had given a different answer, would rely on the <span class=\"italic\">computer</span>.</p><div class=\"css-zjik7 e15kc6du5\"><div class=\"css-1jv2rgl e15kc6du8\"><span><a href=\"http://www.gutenberg.org/files/23335/23335-h/23335-h.htm\" data-linkid=\"sl8bq9\" rel=\"nofollow\" class=\"css-18wyej6 e15kc6du6\">Unwise Child</a></span><span class=\"css-y1f223 e15kc6du1\"><span class=\"css-1qjn0sv e15kc6du7\">|</span>Gordon Randall Garrett</span></div></div></li><li class=\"css-avpsk8 e15kc6du3\"><p class=\"one-click-content css-b5q2lz e15kc6du2\">It is further distinguished by the use of the zero, which enabled the <span class=\"italic\">computer</span> to dispense with the columns of the Abacus.</p><div class=\"css-zjik7 e15kc6du5\"><div class=\"css-1jv2rgl e15kc6du8\"><span><a href=\"http://www.gutenberg.org/files/25664/25664-h/25664-h.htm\" data-linkid=\"sl8bq9\" rel=\"nofollow\" class=\"css-18wyej6 e15kc6du6\">The Earliest Arithmetics in English</a></span><span class=\"css-y1f223 e15kc6du1\"><span class=\"css-1qjn0sv e15kc6du7\">|</span>Anonymous</span></div></div></li></ul></div><div class=\"expandable-control collapsed css-hm65u2 e13uc8j60\"><button type=\"button\" class=\"expandable-button message expand\"><strong data-ci-target=\"seeMoreExamples\">SEE MORE EXAMPLES</strong></button><button type=\"button\" class=\"expandable-button message collapse\"><strong data-ci-target=\"seeLessExamples\">SEE FEWER EXAMPLES</strong></button><div><button type=\"button\" class=\"expandable-button icon expand\"><span data-ci-target=\"seeMoreExamples\"></span></button><button type=\"button\" class=\"expandable-button icon collapse\"><span data-ci-target=\"seeLessExamples\"></span></button></div></div></div></div><div data-wknd-infeed-div=\"true\"></div></section><h2 id=\"collins-section\" class=\"css-1pjy9wy e1013k4u0\"><span class=\"css-ww67bw e11il4ni1\">British Dictionary definitions for</span><span class=\"css-1q7icm e11il4ni0\"> <!-- -->computer</span><span class=\"css-ww67bw e11il4ni1\"></span></h2><div data-wknd-infeed-div=\"true\"></div><div class=\"css-1avshm7 e16867sm0\"><section class=\"entry-headword\" id=\"top-definitions-section\"><div class=\"css-1gvu524 e1wg9v5m7\"><div class=\"css-jv03sw e1wg9v5m6\"><span data-first-headword=\"false\" class=\"css-1sprl0b e1wg9v5m5\">computer</span></div><div class=\"css-ev43ai ea1n8qa0\"><div><div class=\"pron-spell-ipa-container show-ipa css-vo1uf3 evh0tcl3\"><div class=\"pron-ipa-container css-eivff4 evh0tcl2\"><span class=\"pron-ipa-content css-7iphl0 evh0tcl1\">/ (<span class=\"pron\">kəmˈpjuːtə</span>) /</span></div></div></div><div data-slug=\"computer\" data-headword-buttons-container=\"true\" class=\"css-x8ezj7 e15jzgbm5\"></div></div></div></section><hr class=\"headword-separator css-qxeaj1 etjs7ll0\"/><section class=\"css-109x55k e1hk9ate4\"><div class=\"css-69s207 e1hk9ate3\"><span class=\"css-1b1gas3 e1hk9ate2\"><span class=\"pos\">noun</span></span></div><div class=\"css-10n3ydx e1hk9ate0\"><div value=\"1\" class=\"css-10ul8x e1q3nk1v2\"><ol class=\"css-kw30tz e1q3nk1v3\"><li> <span class=\"one-click-content css-nnyc96 e1q3nk1v1\">a device, usually electronic, that processes data according to a set of instructions. The digital computer stores data in discrete units and performs arithmetical and logical operations at very high speed. The analog computer has no memory and is slower than the digital computer but has a continuous rather than a discrete input. The hybrid computer combines some of the advantages of digital and analog computers</span><span class=\"one-click-content css-1acgboq e1q3nk1v0\">See also <a href=\"/browse/digital-computer\" class=\"xref\" data-linkid=\"nn1ov4\">digital computer</a>, <a href=\"/browse/analog-computer\" class=\"xref\" data-linkid=\"nn1ov4\">analog computer</a>, <a href=\"/browse/hybrid-computer\" class=\"xref\" data-linkid=\"nn1ov4\">hybrid computer</a></span></li><li> <span class=\"one-click-content css-nnyc96 e1q3nk1v1\">(<span class=\"italic\">as modifier</span>)</span><span class=\"one-click-content css-1acgboq e1q3nk1v0\"><span class=\"example italic\">computer technology</span> Related prefix: cyber-</span></li></ol></div><div value=\"2\" class=\"css-1o7vb91 e1q3nk1v2\"><span class=\"one-click-content css-nnyc96 e1q3nk1v1\">a person who computes or calculates</span></div></div></section></div><section class=\"css-1ndvnc2 e10tixu80\"><div data-wknd-infeed-div=\"true\"></div></section><div class=\"css-k6l28 ejtq9h60\">Collins English Dictionary - Complete &amp; Unabridged 2012 Digital Edition \n",
      "© William Collins Sons &amp; Co. Ltd. 1979, 1986 © HarperCollins \n",
      "Publishers 1998, 2000, 2003, 2005, 2006, 2007, 2009, 2012</div><h2 id=\"science-section\" class=\"css-1pjy9wy e1013k4u0\"><span class=\"css-ww67bw e11il4ni1\">Scientific definitions for</span><span class=\"css-1q7icm e11il4ni0\"> <!-- -->computer</span><span class=\"css-ww67bw e11il4ni1\"></span></h2><div data-wknd-infeed-div=\"true\"></div><div class=\"css-1avshm7 e16867sm0\"><section class=\"entry-headword\" id=\"top-definitions-section\"><div class=\"css-1gvu524 e1wg9v5m7\"><div class=\"css-jv03sw e1wg9v5m6\"><span data-first-headword=\"false\" class=\"css-1sprl0b e1wg9v5m5\">computer</span></div><div class=\"css-ev43ai ea1n8qa0\"><div><div class=\"pron-spell-ipa-container show-spell css-vo1uf3 evh0tcl3\"><div class=\"pron-spell-container css-eivff4 evh0tcl2\"><span class=\"pron-spell-content css-7iphl0 evh0tcl1\">[ kəm-pyōō<span class=\"rich-text bold\">′</span>tər ]</span></div></div></div><div data-slug=\"computer\" data-headword-buttons-container=\"true\" class=\"css-x8ezj7 e15jzgbm5\"><div class=\"audio-wrapper\"><button aria-label=\"pronunciation button\" data-ci-target=\"audio\" class=\"css-z3zatq e15jzgbm4\"><span font-size=\"33px\" class=\"css-5e54wk e15jzgbm1\"></span></button><audio preload=\"none\"><source src=\"https://static.sfdict.com/content-assets/science/audio/ogg/C0538700.ogg\" type=\"audio/ogg\"/><source src=\"https://static.sfdict.com/content-assets/science/audio/mp3/C0538700.mp3\" type=\"audio/mpeg\"/><source src=\"https://static.sfdict.com/content-assets/science/audio/wav/C0538700.wav\" type=\"audio/wav\"/></audio></div></div></div></div></section><hr class=\"headword-separator css-qxeaj1 etjs7ll0\"/><section class=\"css-109x55k e1hk9ate4\"><div class=\"css-69s207 e1hk9ate3\"><span class=\"css-1b1gas3 e1hk9ate2\"></span></div><div class=\"css-10n3ydx e1hk9ate0\"><div class=\"css-geb4n4 e1q3nk1v2\"><span class=\"one-click-content css-nnyc96 e1q3nk1v1\"><span class=\"definition\"><span class=\"deftx\"><span class=\"tx\">A programmable machine that performs high-speed processing of numbers, as well as of text, graphics, symbols, and sound. All computers contain a central processing unit that interprets and executes instructions; input devices, such as a keyboard and a mouse, through which data and commands enter the computer; memory that enables the computer to store programs and data; and output devices, such as printers and display screens, that show the results after the computer has processed data.</span></span></span></span></div></div></section></div><section class=\"css-i3pbo e8i5ajd0\"></section><div class=\"css-k6l28 ejtq9h60\">The American Heritage® Science Dictionary \n",
      " Copyright © 2011. Published by Houghton Mifflin Harcourt Publishing Company. All rights reserved.</div><h2 id=\"cultural-section\" class=\"css-1pjy9wy e1013k4u0\"><span class=\"css-ww67bw e11il4ni1\">Cultural definitions for</span><span class=\"css-1q7icm e11il4ni0\"> <!-- -->computer</span><span class=\"css-ww67bw e11il4ni1\"></span></h2><div data-wknd-infeed-div=\"true\"></div><div class=\"css-1avshm7 e16867sm0\"><section class=\"entry-headword\" id=\"top-definitions-section\"><div class=\"css-1gvu524 e1wg9v5m7\"><div class=\"css-jv03sw e1wg9v5m6\"><span data-first-headword=\"false\" class=\"css-1sprl0b e1wg9v5m5\">computer</span></div><div class=\"css-cpet15 ea1n8qa0\"><div></div><div data-slug=\"computer\" data-headword-buttons-container=\"true\" class=\"css-x8ezj7 e15jzgbm5\"></div></div></div></section><hr class=\"headword-separator css-qxeaj1 etjs7ll0\"/><section class=\"css-16s0ij6 e1w1pzze5\"><p class=\"one-click-content css-0 e1w1pzze4\">An electronic device that stores and manipulates information. Unlike a <a href=\"/browse/calculator\" class=\"luna-xref\" data-linkid=\"nn1ov4\">calculator</a>, it is able to store a <a href=\"/browse/program\" class=\"luna-xref\" data-linkid=\"nn1ov4\">program</a> and retrieve information from its memory. Most computers today are digital, which means they perform operations with quantities represented electronically as digits.</p></section></div><div class=\"css-k6l28 ejtq9h60\">The New Dictionary of Cultural Literacy, Third Edition \n",
      "Copyright © 2005 by Houghton Mifflin Harcourt Publishing Company. Published by Houghton Mifflin Harcourt Publishing Company. All rights reserved.</div><aside class=\"css-l13l49 e13sij4y1\"><div class=\"css-y1dsfg e13sij4y0\"><style data-emotion=\"css 4gncwa\">.css-4gncwa{cursor:pointer;height:300px;-webkit-text-decoration:none;text-decoration:none;width:300px;}@media only screen and (max-width: 768px){.css-4gncwa{padding:20px 0px;}}.css-4gncwa:hover{-webkit-text-decoration:none;text-decoration:none;}</style><a href=\"https://www.dictionary.com/e/word-of-the-day/\" class=\"wotd-container css-4gncwa e1reors19\" data-testid=\"wotd\"><style data-emotion=\"css q7lslr\">.css-q7lslr{-webkit-align-items:center;-webkit-box-align:center;-ms-flex-align:center;align-items:center;background-color:transparent;border:12px solid #FFFFFF;border-radius:50%;box-sizing:border-box;color:black;display:-webkit-box;display:-webkit-flex;display:-ms-flexbox;display:flex;-webkit-box-flex-flow:column nowrap;-webkit-flex-flow:column nowrap;-ms-flex-flow:column nowrap;flex-flow:column nowrap;height:288px;-webkit-hyphens:auto;-moz-hyphens:auto;-ms-hyphens:auto;hyphens:auto;-webkit-box-pack:center;-ms-flex-pack:center;-webkit-justify-content:center;justify-content:center;text-align:center;width:288px;word-break:break-word;}</style><div class=\"wotd-content-block css-q7lslr e1reors18\"><style data-emotion=\"css 22m7p2\">.css-22m7p2{color:#4A4A4A;font-family:arial;font-size:14px;margin:0;-webkit-order:1;-ms-flex-order:1;order:1;}</style><p class=\"css-22m7p2 e1reors17\">WORD OF THE DAY</p><style data-emotion=\"css 6dg87m\">.css-6dg87m{color:#4A4A4A;font-family:arial;font-size:2em;font-weight:900;line-height:36px;margin:2px 0;-webkit-order:2;-ms-flex-order:2;order:2;}</style><span class=\"wotd-word css-6dg87m e1reors16\">solemnize</span><style data-emotion=\"css 16dkso5\">.css-16dkso5{color:#4A4A4A;font-family:arial;line-height:1;margin:0 0 12px 0;-webkit-order:3;-ms-flex-order:3;order:3;text-align:center;}</style><span class=\"wotd-details css-16dkso5 e1reors15\"><style data-emotion=\"css m8vdf3\">.css-m8vdf3{display:inline;margin:0;}.css-m8vdf3 .italic{font-style:italic;}.css-m8vdf3 .bold{font-weight:bold;}</style><span class=\"css-m8vdf3 e1reors14\"><em><span class=\"luna-pos\">verb</span></em></span><style data-emotion=\"css 1ubub3z\">.css-1ubub3z{display:inline;margin:0;display:inline;}.css-1ubub3z .italic{font-style:italic;}.css-1ubub3z .bold{font-weight:bold;}</style><span class=\"css-1ubub3z e1reors13\"> | </span><style data-emotion=\"css q7gca3\">.css-q7gca3{display:inline;margin:0;font-size:16px;}.css-q7gca3 .italic{font-style:italic;}.css-q7gca3 .bold{font-weight:bold;}</style><span class=\"css-q7gca3 e1reors12\">[<span class=\"bold\">sol</span>-<span class=\"italic\">uh</span>m-nahyz ]</span><span class=\"audio-wrapper\"><style data-emotion=\"css 1j91ihr\">.css-1j91ihr{background-color:transparent;border:none;color:#979797;font-family:'dictionary-fonticon';font-size:19px;margin-left:5px;}.css-1j91ihr::before{content:'\\e803';position:relative;top:3px;}</style><button class=\"wotd-audio-btn  css-1j91ihr e1reors11\" data-ci-target=\"audio\"></button><audio class=\"wotd-audio\" preload=\"none\"><source src=\"https://static.sfdict.com/audio/S06/S0699400.mp3\"/></audio></span></span><style data-emotion=\"css vx5y5j\">.css-vx5y5j{color:#00248B;font-family:arial;font-size:12px;-webkit-order:4;-ms-flex-order:4;order:4;-webkit-text-decoration:none;text-decoration:none;}.css-vx5y5j:hover{-webkit-text-decoration:underline;text-decoration:underline;}</style><span class=\"css-vx5y5j e1reors10\">SEE DEFINITION</span></div></a></div></aside></section><aside id=\"DCOM_RIGHT_RAIL\" class=\"css-pkahog e1su27ci2\"><aside id=\"dcom-serp-a-top-300x250Spacer\" data-lazy=\"false\" height=\"750\" class=\"css-nmn7zk e1su27ci1\"><div class=\"css-1bs4f8n e1su27ci0\"><aside class=\"css-ulg3l6 eljh6ml0\"><aside class=\"no-collapse css-zvgwji eanayw60\" id=\"dcom-serp-a-top-300x250\"></aside></aside></div></aside><aside id=\"dcom-serp-bot-300x250Spacer\" data-lazy=\"false\" height=\"400\" class=\"css-14i7uwb e1su27ci1\"><div class=\"css-8nd6z0 e1su27ci0\"><aside class=\"css-ulg3l6 eljh6ml0\"><aside class=\"no-collapse css-zvgwji eanayw60\" id=\"dcom-serp-bot-300x250\"></aside></aside></div></aside><aside id=\"dcom-serp-bot-300x250_cSpacer\" data-lazy=\"false\" height=\"400\" class=\"css-14i7uwb e1su27ci1\"><div class=\"css-8nd6z0 e1su27ci0\"><aside class=\"css-ulg3l6 eljh6ml0\"><aside class=\"no-collapse css-zvgwji eanayw60\" id=\"dcom-serp-bot-300x250_c\"></aside></aside></div></aside><aside id=\"dcom-serp-bot-300x250_dSpacer\" data-lazy=\"false\" height=\"400\" class=\"css-14i7uwb e1su27ci1\"><div class=\"css-8nd6z0 e1su27ci0\"><aside class=\"css-ulg3l6 eljh6ml0\"><aside class=\"no-collapse css-zvgwji eanayw60\" id=\"dcom-serp-bot-300x250_d\"></aside></aside></div></aside><aside id=\"dcom-serp-bot-300x250_eSpacer\" data-lazy=\"false\" height=\"400\" class=\"css-14i7uwb e1su27ci1\"><div class=\"css-8nd6z0 e1su27ci0\"><aside class=\"css-ulg3l6 eljh6ml0\"><aside class=\"no-collapse css-zvgwji eanayw60\" id=\"dcom-serp-bot-300x250_e\"></aside></aside></div></aside></aside></section><div data-word-highlight=\"true\" class=\"css-19q83sv emylpum0\"></div></main></div><a target=\"_blank\" href=\"https://form.typeform.com/to/iAihJYng?typeform-source=dictionary.typeform.com\" data-feedback-link=\"true\" class=\"css-1qe5ma3 e1h6dcp50\">FEEDBACK</a><style data-emotion=\"css 5qqb1s\">.css-5qqb1s{background-color:#1A1A1A;}</style><footer class=\"page-footer css-5qqb1s esk3ouk5\"><style data-emotion=\"css 19mytfr\">.css-19mytfr{color:#FFFFFF;font-family:'Arial';font-size:14px;font-weight:100;line-height:40px;margin:0 auto;padding-bottom:48px;width:70%;}@media only screen and (max-width: 769px){.css-19mytfr{line-height:30px;padding-bottom:4px;text-align:center;width:100%;}}</style><div class=\"css-19mytfr esk3ouk4\"><style data-emotion=\"css o1gj79\">.css-o1gj79{line-height:normal;padding-bottom:22px;}</style><div class=\"css-o1gj79 esk3ouk0\"><style data-emotion=\"css 1xo70gq\">.css-1xo70gq{display:-webkit-box;display:-webkit-flex;display:-ms-flexbox;display:flex;-webkit-box-flex-flow:row wrap;-webkit-flex-flow:row wrap;-ms-flex-flow:row wrap;flex-flow:row wrap;list-style:none;margin:0;padding-left:0px;padding-top:20px;position:relative;text-align:left;-webkit-text-decoration:none;text-decoration:none;}@media only screen and (max-width: 769px){.css-1xo70gq{padding-left:18px;}}</style><ul class=\"footer-az-list css-1xo70gq emmj7sa3\"><style data-emotion=\"css 13k1rvs\">.css-13k1rvs{color:#FFFFFF;padding-right:16px;}@media only screen and (min-width: 769px){.css-13k1rvs{float:left;}}</style><li class=\"css-13k1rvs emmj7sa2\">Browse the <!-- -->Dictionary<!-- -->:</li><style data-emotion=\"css 892bsh\">.css-892bsh{float:left;padding-right:6px;}@media only screen and (max-width: 769px){.css-892bsh{-webkit-column-fill:balance;column-fill:balance;float:right;margin-bottom:8px;padding-right:18px;}}</style><li class=\"css-892bsh emmj7sa1\"><style data-emotion=\"css 9qonyd\">.css-9qonyd{color:#FFFFFF;-webkit-text-decoration:none;text-decoration:none;}.css-9qonyd:hover{cursor:pointer;-webkit-text-decoration:underline;text-decoration:underline;}</style><a href=\"/list/0/1\" id=\"azFooter0\" data-linkid=\"74qg7q\" class=\"css-9qonyd emmj7sa0\">#</a></li><li class=\"css-892bsh emmj7sa1\"><a href=\"/list/a\" id=\"azFooterA\" data-linkid=\"74qg7q\" class=\"css-9qonyd emmj7sa0\">A</a></li><li class=\"css-892bsh emmj7sa1\"><a href=\"/list/b\" id=\"azFooterB\" data-linkid=\"74qg7q\" class=\"css-9qonyd emmj7sa0\">B</a></li><li class=\"css-892bsh emmj7sa1\"><a href=\"/list/c\" id=\"azFooterC\" data-linkid=\"74qg7q\" class=\"css-9qonyd emmj7sa0\">C</a></li><li class=\"css-892bsh emmj7sa1\"><a href=\"/list/d\" id=\"azFooterD\" data-linkid=\"74qg7q\" class=\"css-9qonyd emmj7sa0\">D</a></li><li class=\"css-892bsh emmj7sa1\"><a href=\"/list/e\" id=\"azFooterE\" data-linkid=\"74qg7q\" class=\"css-9qonyd emmj7sa0\">E</a></li><li class=\"css-892bsh emmj7sa1\"><a href=\"/list/f\" id=\"azFooterF\" data-linkid=\"74qg7q\" class=\"css-9qonyd emmj7sa0\">F</a></li><li class=\"css-892bsh emmj7sa1\"><a href=\"/list/g\" id=\"azFooterG\" data-linkid=\"74qg7q\" class=\"css-9qonyd emmj7sa0\">G</a></li><li class=\"css-892bsh emmj7sa1\"><a href=\"/list/h\" id=\"azFooterH\" data-linkid=\"74qg7q\" class=\"css-9qonyd emmj7sa0\">H</a></li><li class=\"css-892bsh emmj7sa1\"><a href=\"/list/i\" id=\"azFooterI\" data-linkid=\"74qg7q\" class=\"css-9qonyd emmj7sa0\">I</a></li><li class=\"css-892bsh emmj7sa1\"><a href=\"/list/j\" id=\"azFooterJ\" data-linkid=\"74qg7q\" class=\"css-9qonyd emmj7sa0\">J</a></li><li class=\"css-892bsh emmj7sa1\"><a href=\"/list/k\" id=\"azFooterK\" data-linkid=\"74qg7q\" class=\"css-9qonyd emmj7sa0\">K</a></li><li class=\"css-892bsh emmj7sa1\"><a href=\"/list/l\" id=\"azFooterL\" data-linkid=\"74qg7q\" class=\"css-9qonyd emmj7sa0\">L</a></li><li class=\"css-892bsh emmj7sa1\"><a href=\"/list/m\" id=\"azFooterM\" data-linkid=\"74qg7q\" class=\"css-9qonyd emmj7sa0\">M</a></li><li class=\"css-892bsh emmj7sa1\"><a href=\"/list/n\" id=\"azFooterN\" data-linkid=\"74qg7q\" class=\"css-9qonyd emmj7sa0\">N</a></li><li class=\"css-892bsh emmj7sa1\"><a href=\"/list/o\" id=\"azFooterO\" data-linkid=\"74qg7q\" class=\"css-9qonyd emmj7sa0\">O</a></li><li class=\"css-892bsh emmj7sa1\"><a href=\"/list/p\" id=\"azFooterP\" data-linkid=\"74qg7q\" class=\"css-9qonyd emmj7sa0\">P</a></li><li class=\"css-892bsh emmj7sa1\"><a href=\"/list/q\" id=\"azFooterQ\" data-linkid=\"74qg7q\" class=\"css-9qonyd emmj7sa0\">Q</a></li><li class=\"css-892bsh emmj7sa1\"><a href=\"/list/r\" id=\"azFooterR\" data-linkid=\"74qg7q\" class=\"css-9qonyd emmj7sa0\">R</a></li><li class=\"css-892bsh emmj7sa1\"><a href=\"/list/s\" id=\"azFooterS\" data-linkid=\"74qg7q\" class=\"css-9qonyd emmj7sa0\">S</a></li><li class=\"css-892bsh emmj7sa1\"><a href=\"/list/t\" id=\"azFooterT\" data-linkid=\"74qg7q\" class=\"css-9qonyd emmj7sa0\">T</a></li><li class=\"css-892bsh emmj7sa1\"><a href=\"/list/u\" id=\"azFooterU\" data-linkid=\"74qg7q\" class=\"css-9qonyd emmj7sa0\">U</a></li><li class=\"css-892bsh emmj7sa1\"><a href=\"/list/v\" id=\"azFooterV\" data-linkid=\"74qg7q\" class=\"css-9qonyd emmj7sa0\">V</a></li><li class=\"css-892bsh emmj7sa1\"><a href=\"/list/w\" id=\"azFooterW\" data-linkid=\"74qg7q\" class=\"css-9qonyd emmj7sa0\">W</a></li><li class=\"css-892bsh emmj7sa1\"><a href=\"/list/x\" id=\"azFooterX\" data-linkid=\"74qg7q\" class=\"css-9qonyd emmj7sa0\">X</a></li><li class=\"css-892bsh emmj7sa1\"><a href=\"/list/y\" id=\"azFooterY\" data-linkid=\"74qg7q\" class=\"css-9qonyd emmj7sa0\">Y</a></li><li class=\"css-892bsh emmj7sa1\"><a href=\"/list/z\" id=\"azFooterZ\" data-linkid=\"74qg7q\" class=\"css-9qonyd emmj7sa0\">Z</a></li></ul><ul class=\"footer-category-list css-1xo70gq emmj7sa3\"><li class=\"css-13k1rvs emmj7sa2\">Browse by Category:</li><style data-emotion=\"css 1mjcnrd\">.css-1mjcnrd{float:left;padding-right:16px;}@media only screen and (max-width: 769px){.css-1mjcnrd{-webkit-column-fill:balance;column-fill:balance;float:right;margin-bottom:8px;padding-right:18px;}}</style><li class=\"css-1mjcnrd emmj7sa1\"><a href=\"https://www.dictionary.com/e/slang/\" id=\"atwFooterSlang\" data-linkid=\"fkl9dd\" class=\"css-9qonyd emmj7sa0\">Slang</a></li><li class=\"css-1mjcnrd emmj7sa1\"><a href=\"https://www.dictionary.com/e/emoji/\" id=\"atwFooterEmoji\" data-linkid=\"fkl9dd\" class=\"css-9qonyd emmj7sa0\">Emoji</a></li><li class=\"css-1mjcnrd emmj7sa1\"><a href=\"https://www.dictionary.com/e/acronyms/\" id=\"atwFooterAcronyms\" data-linkid=\"fkl9dd\" class=\"css-9qonyd emmj7sa0\">Acronyms</a></li><li class=\"css-1mjcnrd emmj7sa1\"><a href=\"https://www.dictionary.com/e/pop-culture/\" id=\"atwFooterPopCulture\" data-linkid=\"fkl9dd\" class=\"css-9qonyd emmj7sa0\">Pop Culture</a></li></ul></div><style data-emotion=\"css 1dly1pg\">.css-1dly1pg{display:inline;margin:0;padding:0px;}@media only screen and (min-width: 769px){.css-1dly1pg{float:right;}}</style><ul class=\"footer-about-list css-1dly1pg esk3ouk3\"><style data-emotion=\"css x7cpwd\">.css-x7cpwd{display:inline;position:relative;}</style><li class=\"css-x7cpwd esk3ouk2\"><style data-emotion=\"css 1tz9b4\">.css-1tz9b4{color:#FFFFFF;padding-left:35px;-webkit-text-decoration:none;text-decoration:none;}.css-1tz9b4:hover{cursor:pointer;-webkit-text-decoration:underline;text-decoration:underline;}@media only screen and (max-width: 769px){.css-1tz9b4{display:inline-block;padding:5px;text-align:center;}}</style><a href=\"https://www.dictionary.com/e/about/\" data-linkid=\"gy27eg\" id=\"about-click\" class=\"css-1tz9b4 esk3ouk1\">About</a></li><li class=\"css-x7cpwd esk3ouk2\"><a href=\"https://www.myrocketcareer.com/DictionaryJobs/\" data-linkid=\"gy27eg\" id=\"careers-click\" target=\"_blank\" class=\"css-1tz9b4 esk3ouk1\">Careers</a></li><li class=\"css-x7cpwd esk3ouk2\"><a href=\"https://www.dictionary.com/e/contact/\" data-linkid=\"gy27eg\" id=\"contactUs-click\" class=\"css-1tz9b4 esk3ouk1\">Contact Us</a></li><li class=\"css-x7cpwd esk3ouk2\"><a href=\"https://www.dictionary.com/e/terms/\" data-linkid=\"gy27eg\" id=\"termAndPrivacy-click\" class=\"css-1tz9b4 esk3ouk1\">Cookies, Terms, &amp; Privacy</a></li></ul><div>© 2023 Dictionary.com, LLC</div></div></footer></div></div>\n",
      "        </div>\n",
      "        <!-- Ad integration with callback begins here, expects page type to get appropriate configs -->\n",
      "        <!-- OneTrust Cookies Consent Notice (Production CDN, www.dictionary.com, en-US) start -->\n",
      "      <script type=\"text/javascript\">function OptanonWrapper(){ determineConsent(); }</script>\n",
      "      <!-- OneTrust Cookies Consent Notice (Production CDN, www.dictionary.com, en-US) end --><script type=\"text/javascript\">\n",
      "        /**---------- Dynamic ----------*/\n",
      "        var site = 'dcom';\n",
      "        var page = 'dcom-serp';\n",
      "        var pageTargeting = {\"tx1\":\"results\",\"tx2\":\"serp_0_n\",\"ptype\":\"content\",\"ld\":\"0\",\"spe\":\"n\",\"kw\":\"\",\"evince\":\"ad\"};\n",
      "        var slotConfigs = [{\"placement\":\"dcom-serp-lb-728x90\",\"code\":\"/23219321/iac.dict.dictry.dw/dic/serp_0_n\",\"ad_uuid\":\"728x90_top\",\"sizes\":[[728,90],[970,90],[970,250]],\"targeting\":{\"pos\":\"top\",\"pos2\":\"1\"},\"lazy\":false,\"sticky\":false,\"refreshable\":true,\"only_refresh_viewable\":false,\"maximum_refreshes\":50},{\"placement\":\"dcom-serp-bottom-lb-728x90\",\"code\":\"/23219321/iac.dict.dictry.dw/dic/serp_0_n\",\"ad_uuid\":\"728x90_bot\",\"sizes\":[[728,90]],\"targeting\":{\"pos\":\"bot\",\"pos2\":\"20\"},\"lazy\":false,\"sticky\":false,\"refreshable\":true,\"only_refresh_viewable\":false,\"maximum_refreshes\":50},{\"placement\":\"gpt_unit_/23219321/iac.dict.dictry.dw/dic/serp_0\",\"code\":\"/23219321/iac.dict.dictry.dw/dic/serp\",\"ad_uuid\":\"dcom-serp-interstitial\",\"targeting\":{\"pos\":\"out\",\"pos2\":\"0\"},\"sizes\":[[320,480],[300,250],[336,280]],\"refreshable\":false,\"interstitial\":true},{\"placement\":\"dcom-serp-a-top-300x250\",\"code\":\"/23219321/iac.dict.dictry.dw/dic/serp_0_n\",\"ad_uuid\":\"dcom-serp-a-top-300x250\",\"sizes\":[[300,250],[300,600]],\"targeting\":{\"pos\":\"top\",\"pos2\":\"10\"},\"lazy\":false,\"sticky\":false,\"refreshable\":true,\"only_refresh_viewable\":false,\"maximum_refreshes\":50},{\"placement\":\"dcom-serp-bot-300x250\",\"code\":\"/23219321/iac.dict.dictry.dw/dic/serp_0_n\",\"ad_uuid\":\"dcom-serp-bot-300x250\",\"sizes\":[[300,250]],\"targeting\":{\"pos\":\"bot\",\"pos2\":\"40\"},\"lazy\":false,\"sticky\":true,\"refreshable\":false},{\"placement\":\"dcom-serp-bot-300x250_c\",\"code\":\"/23219321/iac.dict.dictry.dw/dic/serp_0_n\",\"ad_uuid\":\"dcom-serp-bot-300x250_c\",\"sizes\":[[300,250]],\"targeting\":{\"pos\":\"bot\",\"pos2\":\"50\"},\"lazy\":false,\"sticky\":true,\"refreshable\":false},{\"placement\":\"dcom-serp-bot-300x250_d\",\"code\":\"/23219321/iac.dict.dictry.dw/dic/serp_0_n\",\"ad_uuid\":\"dcom-serp-bot-300x250_d\",\"sizes\":[[300,250]],\"targeting\":{\"pos\":\"bot\",\"pos2\":\"60\"},\"lazy\":false,\"sticky\":true,\"refreshable\":false},{\"placement\":\"dcom-serp-bot-300x250_e\",\"code\":\"/23219321/iac.dict.dictry.dw/dic/serp_0_n\",\"ad_uuid\":\"dcom-serp-bot-300x250_e\",\"sizes\":[[300,250]],\"targeting\":{\"pos\":\"bot\",\"pos2\":\"70\"},\"lazy\":false,\"sticky\":true,\"refreshable\":false}];\n",
      "        var lazySlotConfigs = [];\n",
      "        var oneTrustUrl = \"https://cdn.cookielaw.org/scripttemplates/otSDKStub.js\";\n",
      "        var oneTrustDataDomainScriptId = \"9d2f702e-426c-4de5-ac78-0c73a7f21691\";\n",
      "        var categoryId = '386';\n",
      "        var adRefreshPeriodInSeconds = 60;\n",
      "        var adRefreshMaximumRefreshes = 50;\n",
      "        var adRefreshViewableOnly = false;\n",
      "        var loadAsynchronously = true;\n",
      "        var useBlockThrough = true;\n",
      "        var testAdParam = {};\n",
      "        var euPubmaticProfileId = 1482;\n",
      "        var nonEuPubmaticProfileId = 1481;\n",
      "        var useCachedPwt = true;\n",
      "        var pubmaticPwtvId = undefined;\n",
      "        /**---------- Static ----------*/\n",
      "    </script><script type=\"text/javascript\" src=\"/user-data-context/v1\"></script><script type=\"text/javascript\" src=\"/adscripts/14.0.0/adscripts.js\"></script>\n",
      "    \n",
      "        <!-- Pubmatic wrapper and GPT Tag ends here -->\n",
      "        <script> window.loadAds && window.loadAds(); window.loadCarambolaAd && window.loadCarambolaAd(); </script>\n",
      "        <!-- Google Analytics GTM iframe starts here -->\n",
      "        \n",
      "      <script type='text/javascript'>\n",
      "        window.dataLayer = window.dataLayer || [];\n",
      "        dataLayer.push({\n",
      "          event: 'pageview',\n",
      "          device: 'Desktop',\n",
      "          pageName: 'dic',\n",
      "          LDid: '0',\n",
      "          sessionId: null,\n",
      "          browserId: null,\n",
      "        });\n",
      "      </script>\n",
      "      <script>\n",
      "      (function(w, d, s, l, i) {\n",
      "        w[l] = w[l] || [];\n",
      "        w[l].push({ 'gtm.start': new Date().getTime(), event: 'gtm.js' });\n",
      "        var f = d.getElementsByTagName(s)[0],\n",
      "          j = d.createElement(s),\n",
      "          dl = l != 'dataLayer' ? '&l=' + l : '';\n",
      "        j.async = true;\n",
      "        j.src = 'https://www.googletagmanager.com/gtm.js?id=' + i + dl;\n",
      "        f.parentNode.insertBefore(j, f);\n",
      "      })(window, document, 'script', 'dataLayer', 'GTM-TXC5GP');\n",
      "      </script>\n",
      "\n",
      "        \n",
      "      <noscript>\n",
      "        <iframe\n",
      "          src=\"https://www.googletagmanager.com/ns.html?id=GTM-TXC5GP\"\n",
      "          height=\"0\"\n",
      "          width=\"0\"\n",
      "          style=\"display:none;visibility:hidden\"\n",
      "        ></iframe>\n",
      "      </noscript>\n",
      "    \n",
      "        <!-- Google Analytics GTM iframe ends here -->\n",
      "        \n",
      "          \n",
      "          <script defer src=\"https://www.dictionary.com/assets/client-13cbeaed.js\"></script>\n",
      "          <script defer src=\"https://www.dictionary.com/assets/standalone-analytics-eff281d2.js\"></script>\n",
      "          \n",
      "        <script>window.ANALYTICS = {\"siteName\":\"dict\",\"trackURL\":\"https:\\u002F\\u002Ftrack.dictionary.com\\u002Fmain.gif\",\"sendTrackEventWithXHR\":true,\"thesaurusSpanIdUrl\":\"https:\\u002F\\u002Fspanids.thesaurus.com\\u002F\",\"newPageName\":\"serp\",\"pageName\":\"dic\",\"ab\":\"0\",\"platform\":\"Desktop\",\"pageDurationIntervalInSeconds\":30};</script>\n",
      "        <script>window.ENV_VARS = {\"dev\":false,\"test\":false,\"prod\":true,\"PROTOCOL\":\"https\",\"TRACKING_URL\":\"https:\\u002F\\u002Ftrack.dictionary.com\\u002Fmain.gif\",\"UPGRADE_INSECURE_REQUESTS\":true,\"THESAURUS_SPANID_URL\":\"https:\\u002F\\u002Fspanids.thesaurus.com\\u002F\",\"TEST_AD_TYPE_TOGGLE\":false,\"SHOW_WOTY_MARKETING\":\"true\",\"API_MARKETING_BANNER_ENDPOINT\":\"https:\\u002F\\u002Fwww.dictionary.com\\u002Fe\\u002Fwp-json\\u002Fdictionary\\u002Fv1\\u002Fmarketing-message?123\",\"ENABLE_AUTO_SUGGEST\":\"true\",\"CATEGORY_LIST_API_ENDPOINT\":\"https:\\u002F\\u002Fwww.dictionary.com\\u002Fe\\u002Fwp-json\\u002Fdictionary\\u002Fv1\\u002Funiversal-menu\",\"QUIZ_LIST_API_ENDPOINT\":\"https:\\u002F\\u002Fwww.dictionary.com\\u002Fe\\u002Fwp-json\\u002Fdictionary\\u002Fv1\\u002Fquiz-list\",\"QUIZ_QUESTIONS_API_ENDPOINT\":\"https:\\u002F\\u002Fwww.dictionary.com\\u002Fe\\u002Fwp-json\\u002Fdictionary\\u002Fv1\\u002Fquiz\",\"API_LISTAZ_ENDPOINT\":\"https:\\u002F\\u002Fapi-portal.dictionary.com\\u002Fdcom\\u002Flist\",\"AD_SCROLL_SPEED_LIMIT\":\"10\",\"AD_REFRESH_PERIOD_IN_SECONDS\":60,\"AD_REFRESH_MAXIMUM_REFRESHES\":50,\"ANALYTICS_PAGE_DURATION_INTERVAL_IN_SECONDS\":30,\"ADOBE_ANALYTICS_ENDPOINT\":\"https:\\u002F\\u002Fassets.adobedtm.com\\u002Fd14cd3d8edd3\\u002F14b6230c7d29\\u002Flaunch-c9de4f1040cd.min.js\",\"AD_REFRESH_VIEWABLE_ONLY\":false,\"ENABLE_BLOCKTHROUGH\":true,\"SEND_TRACK_EVENT_WITH_XHR\":true,\"GLOBAL_SEARCH_ENDPOINT\":\"https:\\u002F\\u002Fthor-graphql.dictionary.com\\u002Fv2\\u002Fsearch\",\"GLOBAL_SEARCH_THROTTLE_DURATION\":\"500\",\"INTERSTITIAL_AD_SLOT_ACTIVE\":\"true\",\"GLOBAL_SEARCH_ACTIVE\":true,\"DCOM_URL\":\"www.dictionary.com\",\"TCOM_URL\":\"www.thesaurus.com\",\"ALLOW_DISABLED_ADS\":\"false\",\"DCOM_CONTENT_API_ENDPOINT\":\"https:\\u002F\\u002Fapi-portal.dictionary.com\\u002Fdcom\\u002FpageData\",\"SPELL_SUGGESTIONS_API_ENDPOINT\":\"https:\\u002F\\u002Fapi-portal.dictionary.com\\u002FspellSuggestions\",\"WOTD_API_ENDPOINT\":\"https:\\u002F\\u002Fapi-portal.dictionary.com\\u002Feditorial\\u002Fwotd\",\"EXAMPLE_SENTENCES_API_ENDPOINT\":\"https:\\u002F\\u002Fapi-portal.dictionary.com\\u002FnlpExampleSentencesBySource\",\"NEARBY_WORDS_API_ENDPOINT\":\"https:\\u002F\\u002Fapi-portal.dictionary.com\\u002Fdcom\\u002FnearbyWords\",\"RELATED_WORDS_API_ENDPOINT\":\"https:\\u002F\\u002Fapi-portal.dictionary.com\\u002Fdcom\\u002Fsynonyms\",\"DEFINITION_VIDEO_METADATA_URL\":\"https:\\u002F\\u002Fwww.dictionary.com\\u002Fassets\\u002Fdcom_serp_video_metadata.json\",\"BRIGHTCOVE_PLAYER_ID\":\"phXoaZJfk\",\"PUBLIC_ASSETS_URL\":\"https:\\u002F\\u002Fwww.dictionary.com\\u002Fassets\",\"ONETRUST_URL\":\"https:\\u002F\\u002Fcdn.cookielaw.org\\u002Fscripttemplates\\u002FotSDKStub.js\",\"CLICK_PREDICTION_API_ENDPOINT\":undefined,\"EDITORS_NOTES_ENDPOINT\":\"https:\\u002F\\u002Fapi-portal.dictionary.com\\u002Feditorial\\u002Feditors-notes\",\"SERVER_LOGGING_LEVEL\":\"error\",\"API_REQUEST_LOGGING_LEVEL\":\"info\",\"ONETRUST_FEATURE_ENABLED\":true,\"LDID\":\"0\",\"COGNITO_CLIENT_ID\":\"6edav43thsgqq20hv3d6psoit\",\"COGNITO_USER_POOL_ID\":\"us-east-1_QfW87R0II\",\"AUTH_COOKIE_DOMAIN\":\"dictionary.com\",\"AUTH_COOKIE_USE_SECURE\":\"1\",\"GRAPHQL_URI\":\"https:\\u002F\\u002Fthor-graphql.dictionary.com\",\"SHOW_WOTY_2022\":\"true\",\"UNDER_MAINTENANCE\":false};</script>\n",
      "        <script>window.INITIAL_STATE = {\"ads\":{\"ldID\":\"0\"},\"categoryListData\":{\"isFetching\":false,\"data\":{\"menu\":[{\"id\":150105,\"name\":\"Meanings\",\"url\":\"#\",\"linkId\":\"\",\"analytics\":\"aa-track\",\"location\":\"header\",\"linkModule\":\"navigation\",\"linkName\":\"meanings\",\"linkType\":\"cta\",\"type\":\"menu\",\"linkModulePosition\":\"2\",\"subMenu\":[{\"id\":175294,\"name\":\"Emoji\",\"url\":\"https:\\u002F\\u002Fwww.dictionary.com\\u002Fe\\u002Femoji\\u002F\",\"linkId\":\"ara0xx\",\"analytics\":\"aa-track\",\"location\":\"header\",\"linkModule\":\"sub-navigation\",\"linkName\":\"meanings:emoji\",\"linkType\":\"cta\",\"type\":\"pages-menu\",\"linkModulePosition\":\"1\",\"subMenu\":[]},{\"id\":175295,\"name\":\"Slang\",\"url\":\"https:\\u002F\\u002Fwww.dictionary.com\\u002Fe\\u002Fslang\\u002F\",\"linkId\":\"w8wacm\",\"analytics\":\"aa-track\",\"location\":\"header\",\"linkModule\":\"sub-navigation\",\"linkName\":\"meanings:slang\",\"linkType\":\"cta\",\"type\":\"pages-menu\",\"linkModulePosition\":\"2\",\"subMenu\":[]},{\"id\":175296,\"name\":\"Acronyms\",\"url\":\"https:\\u002F\\u002Fwww.dictionary.com\\u002Fe\\u002Facronyms\\u002F\",\"linkId\":\"m9bwhr\",\"analytics\":\"aa-track\",\"location\":\"header\",\"linkModule\":\"sub-navigation\",\"linkName\":\"meanings:acronyms\",\"linkType\":\"cta\",\"type\":\"pages-menu\",\"linkModulePosition\":\"3\",\"subMenu\":[]},{\"id\":175297,\"name\":\"Pop Culture\",\"url\":\"https:\\u002F\\u002Fwww.dictionary.com\\u002Fe\\u002Fpop-culture\\u002F\",\"linkId\":\"218cn7\",\"analytics\":\"aa-track\",\"location\":\"header\",\"linkModule\":\"sub-navigation\",\"linkName\":\"meanings:pop-culture\",\"linkType\":\"cta\",\"type\":\"pages-menu\",\"linkModulePosition\":\"4\",\"subMenu\":[]},{\"id\":175298,\"name\":\"Memes\",\"url\":\"https:\\u002F\\u002Fwww.dictionary.com\\u002Fe\\u002Fmemes\\u002F\",\"linkId\":\"84a6xv\",\"analytics\":\"aa-track\",\"location\":\"header\",\"linkModule\":\"sub-navigation\",\"linkName\":\"meanings:memes\",\"linkType\":\"cta\",\"type\":\"pages-menu\",\"linkModulePosition\":\"5\",\"subMenu\":[]},{\"id\":175299,\"name\":\"Gender and Sexuality\",\"url\":\"https:\\u002F\\u002Fwww.dictionary.com\\u002Fe\\u002Fgender-sexuality\\u002F\",\"linkId\":\"2cdl7l\",\"analytics\":\"aa-track\",\"location\":\"header\",\"linkModule\":\"sub-navigation\",\"linkName\":\"meanings:gender-sexuality\",\"linkType\":\"cta\",\"type\":\"pages-menu\",\"linkModulePosition\":\"6\",\"subMenu\":[]},{\"id\":175301,\"name\":\"Mixed-up Meanings\",\"url\":\"https:\\u002F\\u002Fwww.dictionary.com\\u002Fe\\u002Fc\\u002Fmixed-up-meanings\\u002F\",\"linkId\":\"dm0esa\",\"analytics\":\"aa-track\",\"location\":\"header\",\"linkModule\":\"sub-navigation\",\"linkName\":\"meanings:mixed-up-meanings\",\"linkType\":\"cta\",\"type\":\"pages-menu\",\"linkModulePosition\":\"7\",\"subMenu\":[]}]},{\"id\":136071,\"name\":\"Games\",\"url\":\"#\",\"linkId\":\"gd3ubd\",\"analytics\":\"aa-track\",\"location\":\"header\",\"linkModule\":\"navigation\",\"linkName\":\"games\",\"linkType\":\"cta\",\"type\":\"menu\",\"linkModulePosition\":\"3\",\"subMenu\":[{\"id\":209040,\"name\":\"Daily Crossword Puzzle\",\"url\":\"https:\\u002F\\u002Fwww.dictionary.com\\u002Fe\\u002Fcrossword\\u002F\",\"linkId\":\"vq0mwv\",\"analytics\":\"aa-track\",\"location\":\"header\",\"linkModule\":\"sub-navigation\",\"linkName\":\"games:daily-crossword-puzzle\",\"linkType\":\"cta\",\"type\":\"pages-menu\",\"linkModulePosition\":\"1\",\"subMenu\":[]},{\"id\":124826,\"name\":\"Crossword Solver\",\"url\":\"https:\\u002F\\u002Fwww.dictionary.com\\u002Fe\\u002Fcrosswordsolver\\u002F\",\"linkId\":\"1iv7y6\",\"analytics\":\"aa-track\",\"location\":\"header\",\"linkModule\":\"sub-navigation\",\"linkName\":\"games:crossword-solver\",\"linkType\":\"cta\",\"type\":\"pages-menu\",\"linkModulePosition\":\"2\",\"subMenu\":[]},{\"id\":136073,\"name\":\"Scrabble Word Finder\",\"url\":\"https:\\u002F\\u002Fwww.dictionary.com\\u002Fe\\u002Fword-finder\\u002F\",\"linkId\":\"6pswpn\",\"analytics\":\"aa-track\",\"location\":\"header\",\"linkModule\":\"sub-navigation\",\"linkName\":\"games:word-finder\",\"linkType\":\"cta\",\"type\":\"pages-menu\",\"linkModulePosition\":\"3\",\"subMenu\":[]},{\"id\":190601,\"name\":\"Word Puzzle\",\"url\":\"https:\\u002F\\u002Fwww.dictionary.com\\u002Fgames\\u002Fword-puzzle\",\"linkId\":\"lfht4t\",\"analytics\":\"aa-track\",\"location\":\"header\",\"linkModule\":\"sub-navigation\",\"linkName\":\"games:word-puzzle\",\"linkType\":\"cta\",\"type\":\"pages-menu\",\"linkModulePosition\":\"4\",\"subMenu\":[]},{\"id\":214232,\"name\":\"Hurdle\",\"url\":\"https:\\u002F\\u002Fwww.dictionary.com\\u002Fgames\\u002Fhurdle\",\"linkId\":\"53i9ev\",\"analytics\":\"aa-track\",\"location\":\"header\",\"linkModule\":\"sub-navigation\",\"linkName\":\"games:hurdle\",\"linkType\":\"cta\",\"type\":\"pages-menu\",\"linkModulePosition\":\"5\",\"subMenu\":[]},{\"id\":214233,\"name\":\"Outspell\",\"url\":\"https:\\u002F\\u002Fwww.dictionary.com\\u002Fgames\\u002Foutspell\",\"linkId\":\"nksp5i\",\"analytics\":\"aa-track\",\"location\":\"header\",\"linkModule\":\"sub-navigation\",\"linkName\":\"games:outspell\",\"linkType\":\"cta\",\"type\":\"pages-menu\",\"linkModulePosition\":\"6\",\"subMenu\":[]},{\"id\":214234,\"name\":\"Word Wipe\",\"url\":\"https:\\u002F\\u002Fwww.dictionary.com\\u002Fgames\\u002Fword-wipe\",\"linkId\":\"4t71dm\",\"analytics\":\"aa-track\",\"location\":\"header\",\"linkModule\":\"sub-navigation\",\"linkName\":\"games:word-wipe\",\"linkType\":\"cta\",\"type\":\"pages-menu\",\"linkModulePosition\":\"7\",\"subMenu\":[]},{\"id\":209553,\"name\":\"See More Games &amp; Solvers\",\"url\":\"https:\\u002F\\u002Fwww.dictionary.com\\u002Fe\\u002Fgames\\u002F\",\"linkId\":\"gd3ubd\",\"analytics\":\"aa-track\",\"location\":\"header\",\"linkModule\":\"sub-navigation\",\"linkName\":\"games:see-more\",\"linkType\":\"cta\",\"type\":\"pages-menu\",\"linkModulePosition\":\"8\",\"subMenu\":[]}]},{\"id\":21033,\"name\":\"Learn\",\"url\":\"#\",\"linkId\":\"89gi58\",\"analytics\":\"aa-track\",\"location\":\"header\",\"linkModule\":\"navigation\",\"linkName\":\"learn\",\"linkType\":\"cta\",\"type\":\"menu\",\"linkModulePosition\":\"4\",\"subMenu\":[{\"id\":188107,\"name\":\"Word Lists\",\"url\":\"https:\\u002F\\u002Fwww.dictionary.com\\u002Flearn\\u002Fword-lists\",\"linkId\":\"s7qclf\",\"analytics\":\"aa-track\",\"location\":\"header\",\"linkModule\":\"sub-navigation\",\"linkName\":\"learn:word-lists\",\"linkType\":\"cta\",\"type\":\"pages-menu\",\"linkModulePosition\":\"1\",\"subMenu\":[]},{\"id\":175631,\"name\":\"New Words\",\"url\":\"https:\\u002F\\u002Fwww.dictionary.com\\u002Fe\\u002Fc\\u002Fnew-words\\u002F\",\"linkId\":\"t7m09d\",\"analytics\":\"aa-track\",\"location\":\"header\",\"linkModule\":\"sub-navigation\",\"linkName\":\"learn:new-words\",\"linkType\":\"cta\",\"type\":\"pages-menu\",\"linkModulePosition\":\"2\",\"subMenu\":[]},{\"id\":175303,\"name\":\"Trending Words\",\"url\":\"https:\\u002F\\u002Fwww.dictionary.com\\u002Fe\\u002Fc\\u002Fword-trends\\u002F\",\"linkId\":\"b5puvn\",\"analytics\":\"aa-track\",\"location\":\"header\",\"linkModule\":\"sub-navigation\",\"linkName\":\"learn:trending-words\",\"linkType\":\"cta\",\"type\":\"pages-menu\",\"linkModulePosition\":\"3\",\"subMenu\":[]},{\"id\":154869,\"name\":\"All About English\",\"url\":\"https:\\u002F\\u002Fwww.dictionary.com\\u002Fe\\u002F\",\"linkId\":\"mi0ukb\",\"analytics\":\"aa-track\",\"location\":\"header\",\"linkModule\":\"sub-navigation\",\"linkName\":\"learn:all-about-english\",\"linkType\":\"cta\",\"type\":\"pages-menu\",\"linkModulePosition\":\"4\",\"subMenu\":[]},{\"id\":175309,\"name\":\"Science and Technology\",\"url\":\"https:\\u002F\\u002Fwww.dictionary.com\\u002Fe\\u002Fc\\u002Fscience\\u002F\",\"linkId\":\"mwulwu\",\"analytics\":\"aa-track\",\"location\":\"header\",\"linkModule\":\"sub-navigation\",\"linkName\":\"learn:science-and-technology\",\"linkType\":\"cta\",\"type\":\"pages-menu\",\"linkModulePosition\":\"5\",\"subMenu\":[]},{\"id\":175308,\"name\":\"Literature and Arts\",\"url\":\"https:\\u002F\\u002Fwww.dictionary.com\\u002Fe\\u002Fc\\u002Farts-entertainment\\u002F\",\"linkId\":\"kahjot\",\"analytics\":\"aa-track\",\"location\":\"header\",\"linkModule\":\"sub-navigation\",\"linkName\":\"learn:literature-arts\",\"linkType\":\"cta\",\"type\":\"pages-menu\",\"linkModulePosition\":\"6\",\"subMenu\":[]}]},{\"id\":154868,\"name\":\"Writing\",\"url\":\"#\",\"linkId\":\"\",\"analytics\":\"aa-track\",\"location\":\"header\",\"linkModule\":\"navigation\",\"linkName\":\"writing\",\"linkType\":\"cta\",\"type\":\"menu\",\"linkModulePosition\":\"5\",\"subMenu\":[{\"id\":154870,\"name\":\"Grammar Coach\",\"url\":\"https:\\u002F\\u002Fwww.grammarcoach.com\",\"linkId\":\"vi1f6p\",\"analytics\":\"aa-track\",\"location\":\"header\",\"linkModule\":\"sub-navigation\",\"linkName\":\"writing:grammar-coach\",\"linkType\":\"cta\",\"type\":\"pages-menu\",\"linkModulePosition\":\"1\",\"subMenu\":[]},{\"id\":154871,\"name\":\"Writing Prompts\",\"url\":\"https:\\u002F\\u002Fwww.thesaurus.com\\u002Fwritingprompts\",\"linkId\":\"iae4fl\",\"analytics\":\"aa-track\",\"location\":\"header\",\"linkModule\":\"sub-navigation\",\"linkName\":\"writing:writing-prompts\",\"linkType\":\"cta\",\"type\":\"pages-menu\",\"linkModulePosition\":\"2\",\"subMenu\":[]},{\"id\":175315,\"name\":\"Grammar 101\",\"url\":\"https:\\u002F\\u002Fwww.thesaurus.com\\u002Fe\\u002Fgrammar\\u002F\",\"linkId\":\"6nbuwe\",\"analytics\":\"aa-track\",\"location\":\"header\",\"linkModule\":\"sub-navigation\",\"linkName\":\"writing:grammar-101\",\"linkType\":\"cta\",\"type\":\"pages-menu\",\"linkModulePosition\":\"3\",\"subMenu\":[]},{\"id\":175312,\"name\":\"Writing Tips\",\"url\":\"https:\\u002F\\u002Fwww.thesaurus.com\\u002Fe\\u002Fwriting\\u002F\",\"linkId\":\"nd549u\",\"analytics\":\"aa-track\",\"location\":\"header\",\"linkModule\":\"sub-navigation\",\"linkName\":\"writing:writing-tips\",\"linkType\":\"cta\",\"type\":\"pages-menu\",\"linkModulePosition\":\"4\",\"subMenu\":[]},{\"id\":175313,\"name\":\"Ways to Say It Better\",\"url\":\"https:\\u002F\\u002Fwww.thesaurus.com\\u002Fe\\u002Fways-to-say\\u002F\",\"linkId\":\"f1xg6n\",\"analytics\":\"aa-track\",\"location\":\"header\",\"linkModule\":\"sub-navigation\",\"linkName\":\"writing:ways-to-say-it-better\",\"linkType\":\"cta\",\"type\":\"pages-menu\",\"linkModulePosition\":\"5\",\"subMenu\":[]}]},{\"id\":154877,\"name\":\"Word of the Day\",\"url\":\"#\",\"linkId\":\"\",\"analytics\":\"aa-track\",\"location\":\"header\",\"linkModule\":\"navigation\",\"linkName\":\"word-of-the-day\",\"linkType\":\"cta\",\"type\":\"menu\",\"linkModulePosition\":\"6\",\"subMenu\":[{\"id\":154878,\"name\":\"Word of the Day\",\"url\":\"https:\\u002F\\u002Fwww.dictionary.com\\u002Fe\\u002Fword-of-the-day\\u002F\",\"linkId\":\"igc4oe\",\"analytics\":\"aa-track\",\"location\":\"header\",\"linkModule\":\"sub-navigation\",\"linkName\":\"word-of-the-day:word-of-the-day\",\"linkType\":\"cta\",\"type\":\"pages-menu\",\"linkModulePosition\":\"1\",\"subMenu\":[]},{\"id\":159834,\"name\":\"Synonym of the Day\",\"url\":\"https:\\u002F\\u002Fwww.thesaurus.com\\u002Fe\\u002Fsynonym-of-the-day\\u002F\",\"linkId\":\"asi7yf\",\"analytics\":\"aa-track\",\"location\":\"header\",\"linkModule\":\"sub-navigation\",\"linkName\":\"word-of-the-day:synonym-of-the-day\",\"linkType\":\"cta\",\"type\":\"pages-menu\",\"linkModulePosition\":\"2\",\"subMenu\":[]},{\"id\":174017,\"name\":\"Word of the Year\",\"url\":\"https:\\u002F\\u002Fwww.dictionary.com\\u002Fe\\u002Fword-of-the-year\\u002F\",\"linkId\":\"4wpdfh\",\"analytics\":\"aa-track\",\"location\":\"header\",\"linkModule\":\"sub-navigation\",\"linkName\":\"word-of-the-day:word-of-the-year\",\"linkType\":\"cta\",\"type\":\"pages-menu\",\"linkModulePosition\":\"3\",\"subMenu\":[]}]}]}},\"searchData\":{\"searchTerm\":\"computer\",\"pageName\":\"browse\",\"dcomContentApiData\":{\"slug\":\"computer\",\"headword\":\"computer\"},\"queryParams\":{}},\"detectedDevice\":{\"isMobile\":false,\"isTablet\":false}};</script>\n",
      "      </body>\n",
      "    </html>\n",
      "  \n"
     ]
    }
   ],
   "source": [
    "szukaneSłowo = 'computer'\n",
    "strona_3 = requests.get('https://www.dictionary.com/browse/' + szukaneSłowo)\n",
    "print(strona_3.url)\n",
    "print(strona_3.text)"
   ]
  },
  {
   "cell_type": "code",
   "execution_count": 10,
   "id": "f462881f",
   "metadata": {},
   "outputs": [
    {
     "name": "stdout",
     "output_type": "stream",
     "text": [
      "The definition of Computer is a programmable electronic device designed to accept data, perform prescribed mathematical and logical operations at high speed, and display the results of these operations. Mainframes, desktop and laptop computers, tablets, and smartphones are some of the different types of computers. See additional meanings and similar words.\n"
     ]
    }
   ],
   "source": [
    "soup = BeautifulSoup(strona_3.text,'html.parser')\n",
    "desc = soup.find_all(\"meta\")\n",
    "for tag in soup.find_all(\"meta\"):\n",
    "    if tag.get(\"name\") == \"description\":\n",
    "        print(tag.get(\"content\"))"
   ]
  },
  {
   "cell_type": "markdown",
   "id": "b660d5fe",
   "metadata": {},
   "source": [
    "<hr>"
   ]
  },
  {
   "cell_type": "markdown",
   "id": "ce86bb18",
   "metadata": {},
   "source": [
    "## Wyrażenia regularne"
   ]
  },
  {
   "cell_type": "markdown",
   "id": "1bd9cd19",
   "metadata": {},
   "source": [
    "W informatyce w uproszczeniu wyrażenia regularne to po prostu wzorzec, który opisuje określony tekst do wyszukania."
   ]
  },
  {
   "cell_type": "markdown",
   "id": "a26f6da2",
   "metadata": {},
   "source": [
    "### Uproszczona matematyczna teoria"
   ]
  },
  {
   "cell_type": "markdown",
   "id": "12101158",
   "metadata": {},
   "source": [
    "Zobaczymy jak wygląda odmiana słowa woda przez przypadki:"
   ]
  },
  {
   "cell_type": "markdown",
   "id": "59cdd6f2",
   "metadata": {},
   "source": [
    "<table class=\"wikitable odmiana\"><tbody><tr><th class=\"forma\" style=\"font-weight:normal\"><a href=\"/wiki/przypadek#pl\" title=\"przypadek\">przypadek</a></th><th style=\"font-weight:normal\"><a href=\"/wiki/liczba_pojedyncza#pl\" title=\"liczba pojedyncza\">liczba pojedyncza</a></th><th style=\"font-weight:normal\"><a href=\"/wiki/liczba_mnoga#pl\" title=\"liczba mnoga\">liczba mnoga</a></th></tr><tr class=\"forma\"><td class=\"forma\"><a href=\"/wiki/mianownik#pl\" title=\"mianownik\">mianownik</a></td><td class=\"mianownik\">woda</td><td class=\"mianownik\">wody</td></tr><tr class=\"forma\"><td class=\"forma\"><a href=\"/wiki/dope%C5%82niacz#pl\" title=\"dopełniacz\">dopełniacz</a></td><td>wody</td><td>wód</td></tr><tr class=\"forma\"><td class=\"forma\"><a href=\"/wiki/celownik#pl\" title=\"celownik\">celownik</a></td><td>wodzie</td><td>wodom</td></tr><tr class=\"forma\"><td class=\"forma\"><a href=\"/wiki/biernik#pl\" title=\"biernik\">biernik</a></td><td>wodę</td><td>wody</td></tr><tr class=\"forma\"><td class=\"forma\"><a href=\"/wiki/narz%C4%99dnik#pl\" title=\"narzędnik\">narzędnik</a></td><td>wodą</td><td>wodami</td></tr><tr class=\"forma\"><td class=\"forma\"><a href=\"/wiki/miejscownik#pl\" title=\"miejscownik\">miejscownik</a></td><td>wodzie</td><td>wodach</td></tr><tr class=\"forma\"><td class=\"forma\"><a href=\"/wiki/wo%C5%82acz#pl\" title=\"wołacz\">wołacz</a></td><td>wodo</td><td>wody</td></tr></tbody></table>"
   ]
  },
  {
   "cell_type": "markdown",
   "id": "e641f207",
   "metadata": {},
   "source": [
    "Widzimy, że liczbą pojedyńczą reprezntuje zbiór:<br><br>`{woda, wody, wodzie, wodę, wodą, wodzie, wodo}`<br><br>\n",
    "Początek za każdym razem jest taki sam. Ten zbiór za pomocą wyrażenia regularnego można by to zapisać tak:\n",
    "<br><br>`woda+wody+wodzie+wodę+wodą+wodo`</br><br>\n",
    "Znak `+` oznacza alternatywę, czyli możemy wybrać tylko jeden z wyrazów. A jeszcze sprytniej w następujący sposób:\n",
    "<br><br>`wod(a+y+dzie+ę+ą+o)`<br><br>\n",
    "czyli początek to <b>wod</b> a nasępnie wybieramy jeden z wyraów z nawiasu.<br><br>\n",
    "Nawias i plus mają tutaj formę funkcyjną. Wybrane elementy, które również pełnią formę funkcyjną:\n",
    "* x<sup>N</sup> - liczba u góry oznacza, że dane litera(wyrażenie) występuje N razy czyli qqq = q<sup>3</sup>\n",
    "* x<sup>*</sup> - gwiazdka u góry oznacza, że dane litera(wyrażenie) może wystąpić 0  albo więcej razy na przykład \n",
    "* x<sup>+</sup> - plus u góry oznacza, że dane wyrażenie może wystąpić 1  albo więcej razy na przykład a<sup>+</sup> = {a,aa,aaa,aaaa,...} = {a,a<sup>2</sup>,a<sup>3</sup>,a<sup>4</sup>,...}"
   ]
  },
  {
   "cell_type": "markdown",
   "id": "7260a5ce",
   "metadata": {},
   "source": [
    "#### Ćwiczenie 1\n",
    "Jaki zbiór reprezentuje zapis (ab)<sup>+</sup>"
   ]
  },
  {
   "cell_type": "code",
   "execution_count": null,
   "id": "289b5a45",
   "metadata": {},
   "outputs": [],
   "source": [
    "#ab, abab, ababab... - to jest ciąg znaków, który powstaje z ciągu znaków ab, poprzez dodanie do niego kolejnego ciągu znaków ab"
   ]
  },
  {
   "cell_type": "markdown",
   "id": "566b0581",
   "metadata": {},
   "source": [
    "#### Ćwiczenie 2\n",
    "Zapisz wyrażenie regularne, które reprezentuje kod pocztowy."
   ]
  },
  {
   "cell_type": "code",
   "execution_count": null,
   "id": "c3ba216d",
   "metadata": {},
   "outputs": [],
   "source": [
    "#ciąg znaków, który powstaje z ciągu znaków ab, poprzez dodanie do niego kolejnego ciągu znaków ab\n"
   ]
  },
  {
   "cell_type": "markdown",
   "id": "adcf827d",
   "metadata": {},
   "source": [
    "## Zastosowanie wyrażeń regularanych"
   ]
  },
  {
   "cell_type": "markdown",
   "id": "352acae7",
   "metadata": {},
   "source": [
    "### Teoria informatyczna"
   ]
  },
  {
   "cell_type": "markdown",
   "id": "2c29c1a3",
   "metadata": {},
   "source": [
    "Kwantyfikatory:\n",
    "* `*`\tzero albo więcej wystąpień\t`he.*o`\n",
    "* `+`\tjedno albo więcej wystąpień\t`he.+o`\n",
    "* `?`\tzero albo jedno wystąpienie\t`he.?o`\n",
    "* `{}`\tokreślenie liczby wystąpień\t`he.{2}o`\t\n",
    "<br>"
   ]
  },
  {
   "cell_type": "markdown",
   "id": "68270a02",
   "metadata": {},
   "source": [
    "Meta znaki:\n",
    "* `[]`\tzbiór znaków\t`[a-m]`\n",
    "* `\\`\tznak funkcyjny (wyjaśniony niżej)\t`\\d`\t\n",
    "* `.`\tkażdy znak\t`he..o`\n",
    "* `^`\tpoczątek\t`^hello`\t\n",
    "* `$`\tkoniec\t`planet$`\n",
    "* `|`\talternatywa\t`tak|nie`\n",
    "* `()`\tgrupa (do przechwycenia)"
   ]
  },
  {
   "cell_type": "markdown",
   "id": "27ed2000",
   "metadata": {},
   "source": [
    "Znaki specjalne:\n",
    "* `\\d`\treprezentuje każdą cyfre (0-9)\t\t\n",
    "* `\\D`\treprezentuje nie cyfra\n",
    "* `\\s`\treprezentuje znak biały (czyli spacja, tabulacja, nowa linia)\n",
    "* `\\S`\treprezentuje nie biały znak\t\n",
    "* `\\w`\treprezentuje cyfry i litery \t\n",
    "* `\\W`\tprzeciwieństwo powyższego"
   ]
  },
  {
   "cell_type": "markdown",
   "id": "8d1164f0",
   "metadata": {},
   "source": [
    "Importowanie bibloteki do wyrażeń regularnych"
   ]
  },
  {
   "cell_type": "code",
   "execution_count": 37,
   "id": "6789b0a5",
   "metadata": {},
   "outputs": [],
   "source": [
    "import re"
   ]
  },
  {
   "cell_type": "markdown",
   "id": "0dde005a",
   "metadata": {},
   "source": [
    "Do wyszukiwania potrzebujemy:\n",
    "* patternu (wyrażenia regularnego)\n",
    "* tekstu"
   ]
  },
  {
   "cell_type": "code",
   "execution_count": 12,
   "id": "006abbbc",
   "metadata": {},
   "outputs": [
    {
     "name": "stdout",
     "output_type": "stream",
     "text": [
      "['ai', 'ai']\n"
     ]
    }
   ],
   "source": [
    "txt = \"The rain in Spain\"\n",
    "znajdźka = re.findall(\"ai\", txt)\n",
    "print(znajdźka)"
   ]
  },
  {
   "cell_type": "markdown",
   "id": "becec107",
   "metadata": {},
   "source": [
    "Czy \"Portugal\" jest w tekscie?"
   ]
  },
  {
   "cell_type": "code",
   "execution_count": 13,
   "id": "5eeb08e9",
   "metadata": {},
   "outputs": [
    {
     "name": "stdout",
     "output_type": "stream",
     "text": [
      "[]\n"
     ]
    }
   ],
   "source": [
    "txt = \"The rain in Spain\"\n",
    "znajdźka = re.findall(\"Portugal\", txt)\n",
    "print(znajdźka)"
   ]
  },
  {
   "cell_type": "markdown",
   "id": "179174c4",
   "metadata": {},
   "source": [
    "`[]` oznacza pustą listę czyli nic nie znaleziono"
   ]
  },
  {
   "cell_type": "code",
   "execution_count": 40,
   "id": "969c7ab3",
   "metadata": {},
   "outputs": [
    {
     "name": "stdout",
     "output_type": "stream",
     "text": [
      "Pierwsze wystąpienie białego znaku jest na pozycji: 3\n"
     ]
    }
   ],
   "source": [
    "txt = \"The rain in Spain\"\n",
    "znajdźka = re.search(\"\\s\", txt)\n",
    "\n",
    "print(\"Pierwsze wystąpienie białego znaku jest na pozycji:\", znajdźka.start())"
   ]
  },
  {
   "cell_type": "markdown",
   "id": "48f642ba",
   "metadata": {},
   "source": [
    "Szukanie wyrazu na S"
   ]
  },
  {
   "cell_type": "code",
   "execution_count": 39,
   "id": "f3926555",
   "metadata": {},
   "outputs": [
    {
     "name": "stdout",
     "output_type": "stream",
     "text": [
      "Spain\n"
     ]
    }
   ],
   "source": [
    "txt = \"The rain in Spain\"\n",
    "znajdźka = re.search(r\"S\\w+\", txt)\n",
    "print(znajdźka.group())"
   ]
  },
  {
   "cell_type": "markdown",
   "id": "5772c183",
   "metadata": {},
   "source": [
    "Wyszukanie wyrazów rozpoczynających się od dużej litery"
   ]
  },
  {
   "cell_type": "code",
   "execution_count": 16,
   "id": "664eeaf7",
   "metadata": {},
   "outputs": [
    {
     "name": "stdout",
     "output_type": "stream",
     "text": [
      "['The', 'Spain']\n"
     ]
    }
   ],
   "source": [
    "txt = \"The rain in Spain\"\n",
    "znajdźka = re.findall(r\"[A-Z]\\w+\", txt)\n",
    "print(znajdźka)"
   ]
  },
  {
   "cell_type": "markdown",
   "id": "6719483c",
   "metadata": {},
   "source": [
    "Można zaobserować na żywo jak wzorzec znajduje elementy w tekscie pod [tym linkiem](https://regex101.com/)"
   ]
  },
  {
   "cell_type": "markdown",
   "id": "0ac653c3",
   "metadata": {},
   "source": [
    "Oddzielenie elementów emaila"
   ]
  },
  {
   "cell_type": "code",
   "execution_count": 17,
   "id": "48c90c72",
   "metadata": {},
   "outputs": [
    {
     "name": "stdout",
     "output_type": "stream",
     "text": [
      "('tomasz.sluzalec', 'uj', 'edu.pl')\n"
     ]
    }
   ],
   "source": [
    "email = 'tomasz.sluzalec@uj.edu.pl'\n",
    "email_pattern = \"([a-zA-Z0-9\\\\_\\\\-\\\\.]+)@([a-zA-Z]+).(.+)\"\n",
    "znajdźka = re.search(email_pattern, email)\n",
    "print(znajdźka.groups())"
   ]
  },
  {
   "cell_type": "code",
   "execution_count": 18,
   "id": "8074a119",
   "metadata": {},
   "outputs": [
    {
     "name": "stdout",
     "output_type": "stream",
     "text": [
      "('tomasz.sluzalec', 'uj', 'edu.pl')\n",
      "('t.sluzalec', 'epi', 'uj.edu.pl')\n",
      "('kontakt', 'wp', 'pl')\n"
     ]
    }
   ],
   "source": [
    "emails = ['tomasz.sluzalec@uj.edu.pl','t.sluzalec@epi.uj.edu.pl','kontakt@wp.pl']\n",
    "for email in emails:\n",
    "    znajdźka = re.search(email_pattern, email)\n",
    "    print(znajdźka.groups())"
   ]
  },
  {
   "cell_type": "markdown",
   "id": "736ad354",
   "metadata": {},
   "source": [
    "Parsowanie adresu"
   ]
  },
  {
   "cell_type": "code",
   "execution_count": 19,
   "id": "12d169a2",
   "metadata": {},
   "outputs": [
    {
     "name": "stdout",
     "output_type": "stream",
     "text": [
      "('prof. St. Lojasiewicza', '4', '30-348', 'Krakow')\n"
     ]
    }
   ],
   "source": [
    "adres = 'prof. St. Lojasiewicza 4, 30-348 Krakow'\n",
    "adres_pattern = '([a-zA-Z\\s\\.]+)\\s+(\\d+),\\s(\\d\\d\\-\\d\\d\\d)\\s(\\w+)'\n",
    "znajdźka = re.search(adres_pattern, adres)\n",
    "print(znajdźka.groups())"
   ]
  },
  {
   "cell_type": "markdown",
   "id": "3c37b33c",
   "metadata": {},
   "source": [
    "Porządane elementy można nazwać"
   ]
  },
  {
   "cell_type": "code",
   "execution_count": 20,
   "id": "5122b8c8",
   "metadata": {},
   "outputs": [],
   "source": [
    "adres = 'prof. St. Lojasiewicza 4, 30-348 Krakow'\n",
    "adres_pattern = '(?P<ulica>[a-zA-Z\\s\\.]+)\\s+(?P<numer>\\d+),\\s(?P<kod>\\d\\d\\-\\d\\d\\d)\\s(?P<miasto>\\w+)'"
   ]
  },
  {
   "cell_type": "code",
   "execution_count": 21,
   "id": "48c42fbd",
   "metadata": {},
   "outputs": [
    {
     "name": "stdout",
     "output_type": "stream",
     "text": [
      "('prof. St. Lojasiewicza', '4', '30-348', 'Krakow')\n"
     ]
    }
   ],
   "source": [
    "znajdźka = re.search(adres_pattern, adres)\n",
    "print(znajdźka.groups())"
   ]
  },
  {
   "cell_type": "markdown",
   "id": "11f99968",
   "metadata": {},
   "source": [
    "A następnie zapisać jako słownik"
   ]
  },
  {
   "cell_type": "code",
   "execution_count": 22,
   "id": "eae41391",
   "metadata": {},
   "outputs": [
    {
     "data": {
      "text/plain": [
       "{'ulica': 'prof. St. Lojasiewicza',\n",
       " 'numer': '4',\n",
       " 'kod': '30-348',\n",
       " 'miasto': 'Krakow'}"
      ]
     },
     "execution_count": 22,
     "metadata": {},
     "output_type": "execute_result"
    }
   ],
   "source": [
    "prog = re.compile(adres_pattern)\n",
    "znajdźka = re.match(prog,adres)\n",
    "znajdźka.groupdict()"
   ]
  },
  {
   "cell_type": "markdown",
   "id": "2698313d",
   "metadata": {},
   "source": [
    "Wróćmy na chwilę do wycinka z definicją słowa, zauważmy, że opis jest między znakami `>` oraz `<`"
   ]
  },
  {
   "cell_type": "code",
   "execution_count": 23,
   "id": "a162238e",
   "metadata": {},
   "outputs": [
    {
     "data": {
      "text/plain": [
       "<p style=\"margin: .5em 0; font: medium/1.4 sans-serif; max-width: 34em; \">charakteryzujący się wysoką temperaturą, dużą wilgotnością oraz bezwietrznością, typowy dla takiego stanu; duszny</p>"
      ]
     },
     "execution_count": 23,
     "metadata": {},
     "output_type": "execute_result"
    }
   ],
   "source": [
    "wycinki[3]"
   ]
  },
  {
   "cell_type": "markdown",
   "id": "f49fced4",
   "metadata": {},
   "source": [
    "Spróbujmy wyłuskać ten element."
   ]
  },
  {
   "cell_type": "code",
   "execution_count": 24,
   "id": "6ea49334",
   "metadata": {},
   "outputs": [
    {
     "name": "stdout",
     "output_type": "stream",
     "text": [
      "('charakteryzujący się wysoką temperaturą, dużą wilgotnością oraz bezwietrznością, typowy dla takiego stanu; duszny',)\n"
     ]
    }
   ],
   "source": [
    "wycinek = str(wycinki[3])\n",
    "wycinek_pattern = '>(.+)<'\n",
    "znajdźka = re.search(wycinek_pattern, wycinek)\n",
    "print(znajdźka.groups())"
   ]
  },
  {
   "cell_type": "code",
   "execution_count": 25,
   "id": "6500b37c",
   "metadata": {},
   "outputs": [
    {
     "data": {
      "text/plain": [
       "['2022', '06', '31', '10', '37', '00']"
      ]
     },
     "execution_count": 25,
     "metadata": {},
     "output_type": "execute_result"
    }
   ],
   "source": [
    "data_czas ='2022-06-31 10:37:00'\n",
    "re.split('[- :]', data_czas)"
   ]
  },
  {
   "cell_type": "markdown",
   "id": "329e498f",
   "metadata": {},
   "source": [
    "#### Ćwiczenie\n",
    "Napisz pattern, który znajdzie wszystkie liczby w przepisie."
   ]
  },
  {
   "cell_type": "code",
   "execution_count": 26,
   "id": "20f5f031",
   "metadata": {},
   "outputs": [
    {
     "name": "stdout",
     "output_type": "stream",
     "text": [
      "3 jajka , 20dag masła roślinnego i 1szkl. cukru, miksujemy na gładką masę, potem dodajemy 3szkl. mąki , 2 łyżeczki proszku i zapach rumowy\n"
     ]
    }
   ],
   "source": [
    "przepis = '3 jajka , 20dag masła roślinnego i 1szkl. cukru, miksujemy na gładką masę, potem dodajemy 3szkl. mąki , 2 łyżeczki proszku i zapach rumowy'\n",
    "print(przepis)"
   ]
  },
  {
   "cell_type": "code",
   "execution_count": 53,
   "id": "2ef060d8",
   "metadata": {},
   "outputs": [],
   "source": [
    "# tutaj uzupełnij\n",
    "przepis_pattern = '[0-9]+'\n",
    "przepis_pattern = '\\d+'"
   ]
  },
  {
   "cell_type": "code",
   "execution_count": 54,
   "id": "42a8d5bc",
   "metadata": {},
   "outputs": [
    {
     "name": "stdout",
     "output_type": "stream",
     "text": [
      "['3', '20', '1', '3', '2']\n"
     ]
    }
   ],
   "source": [
    "# Sprawdz czy działa\n",
    "znajdźka = re.findall(przepis_pattern, przepis)\n",
    "print(znajdźka)"
   ]
  },
  {
   "cell_type": "markdown",
   "id": "a61b1ac2",
   "metadata": {},
   "source": [
    "#### Ćwiczenie\n",
    "Znajdź wszystkie 3,4,5 literowe słowa w opowieści ze świnkami."
   ]
  },
  {
   "cell_type": "code",
   "execution_count": 59,
   "id": "3157a264",
   "metadata": {},
   "outputs": [
    {
     "name": "stdout",
     "output_type": "stream",
     "text": [
      "   Once upon a time there were three little pigs, who left their mummy\n",
      "and daddy to see the world.\n",
      "   All summer long, they roamed through the woods and over the plains,playing\n",
      "games and having fun. None were happier than the three little pigs, and they\n",
      "easily made friends with everyone. Wherever they went, they were given a warm \n",
      "welcome, but as summer drew to a close, they realized that folk were drifting\n",
      "back to their usual jobs, and preparing for winter. Autumn came and it began\n",
      "to rain. The three little pigs started to feel they needed a real home. Sadly\n",
      "they knew that the fun was over now and they must set to work like the others,\n",
      "or theyd be left in the cold and rain, with no roof over their heads. They\n",
      "talked about what to do, but each decided for himself. The laziest little pig\n",
      "said hed build a straw hut.\n",
      "   \"It wlll only take a day, he said. The others disagreed.\n",
      "   \"Its too fragile,\" they said disapprovingly, but he refused to listen. Not\n",
      "quite so lazy, the second little pig went in search of planks of seasoned\n",
      "wood.\n",
      "   \"Clunk! Clunk! Clunk!\" It took him two days to nail them together. But the\n",
      "third little pig did not like the wooden house.\n",
      "   \"Thats not the way to build a house!\" he said. \"It takes time, patience \n",
      "and hard work to buiid a house that is strong enough to stand up to wind, \n",
      "rain, and snow, and most of all, protect us from the wolf!\"\n",
      "   The days went by, and the wisest little pigs house took shape, brick by\n",
      "brick. From time to time, his brothers visited him, saying with a chuckle:\n",
      "   \"Why are you working so hard? Why dont you come and play?\" But the\n",
      "stubborn bricklayer pig just said \"no\".\n",
      "   \"I shall finish my house first. It must be solid and sturdy. And then Ill\n",
      "come and play!\" he said. \"I shall not be foolish like you! For he who laughs\n",
      "last, laughs longest!\"\n",
      "   It was the wisest little pig that found the tracks of a big wolf in the\n",
      "neighbourhood.\n",
      "   The little pigs rushed home in alarm. Along came the wolf, scowling \n",
      "fiercely at the laziest pigs straw hut.\n",
      "   \"Come out!\" ordered the wolf, his mouth watering. I want to speak to you!\"\n",
      "   \"Id rather stay where I am!\" replied the little pig in a tiny voice.\n",
      "   \"Ill make you come out!\" growled the wolf angrily, and puffing out his\n",
      "chest, he took a very deep breath. Then he blew wlth all his might, right onto\n",
      "the house. And all the straw the silly pig had heaped against some thin poles,\n",
      "fell down in the great blast. Excited by his own cleverness, the wolf did not\n",
      "notice that the little pig had slithered out from underneath the heap of\n",
      "straw, and was dashing towards his brothers wooden house. When he realized \n",
      "that the little pig was escaping, the wolf grew wild with rage.\n",
      "   \"Come back!\" he roared, trying to catch the pig as he ran into the wooden \n",
      "house. The other little pig greeted his brother, shaking like a leaf.\n",
      "   \"I hope this house wont fall down! Lets lean against the door so he cant\n",
      "break in!\"\n",
      "   Outside, the wolf could hear the little pigs words. Starving as he was, at\n",
      "the idea of a two-course meal, he rained blows on the door.\n",
      "   \"Open up! Open up! I only want to speak to you!\"\n",
      "   Inside, the two brothers wept in fear and did their best to hold the door\n",
      "fast against the blows. Then the furious wolf braced himself a new effort: he\n",
      "drew in a really enormous breath, and went ... WHOOOOO! The wooden house\n",
      "collapsed like a pack of cards.\n",
      "   Luckily, the wisest little pig had been watching the scene from the window\n",
      "of his own brick house, and he rapidly opened the door to his fleeing \n",
      "brothers. And not a moment too soon, for the wolf was already hammering \n",
      "furiously on the door. This time, the wolf had grave doubts. This house had a\n",
      "much more solid air than the others. He blew once, he blew again and then for\n",
      "a third time. But all was in vain. For the house did not budge an lnch. The\n",
      "three little pigs watched him and their fear began to fade. Quite exhausted by\n",
      "his efforts, the wolf decided to try one of his tricks. He scrambled up a\n",
      "nearby ladder, on to the roof to have a look at the chimney. However, the\n",
      "wisest little pig had seen thls ploy, and he quickly said:\n",
      "   \"Quick! Light the fire!\" With his long legs thrust down the chimney, the\n",
      "wolf was not sure if he should slide down the black hole. It wouldntbe easy\n",
      "to get in, but the sound of the little pigs voices below only made him feel\n",
      "hungrier.\n",
      "   \"Im dying of hunger! Im goin to try and get down.\" And he let himself \n",
      "drop. But landing was rather hot, too hot! The wolf landed in the fire, stunned\n",
      "by his fall.\n",
      "   The flames licked his hairy coat and his tail became a flaring torch.\n",
      "   \"Never again! Never again will I go down a chimneyl\" he squealed, as he\n",
      "tried to put out the flames in his tail. Then he ran away as fast as he could.\n",
      "   The three happy little pigs, dancing round and round the yard, began to \n",
      "sing:\n",
      "   \"Tra-la-la! Tra-la-la! The wicked black wolf will never come back...!\"\n",
      "   From that terrible day on, the wisest little pigs brothers set to work\n",
      "with a will. In less than no time, up went the two new brick houses. The wolf\n",
      "did return once to roam in the neighbourhood, but when he caught sight of\n",
      "three chimneys, he remembered the terrible pain of a burnt tail, and he left\n",
      "for good.\n",
      "   Now safe and happy, the wisest little pig called to his brothers:\n",
      "   \"No more work! Come on, lets go and play!\"\n",
      "\n"
     ]
    }
   ],
   "source": [
    "bajka = open('3_little_pigs.txt').read().replace(\"'\",\"\")\n",
    "print(bajka)"
   ]
  },
  {
   "cell_type": "code",
   "execution_count": 101,
   "id": "02cac04c",
   "metadata": {},
   "outputs": [],
   "source": [
    "bajka_pattern = r'\\b\\w{3,5}\\b'"
   ]
  },
  {
   "cell_type": "code",
   "execution_count": 102,
   "id": "17d85853",
   "metadata": {},
   "outputs": [
    {
     "name": "stdout",
     "output_type": "stream",
     "text": [
      "['Once', 'upon', 'time', 'there', 'were', 'three', 'pigs', 'who', 'left', 'their', 'mummy', 'and', 'daddy', 'see', 'the', 'world', 'All', 'long', 'they', 'the', 'woods', 'and', 'over', 'the', 'games', 'and', 'fun', 'None', 'were', 'than', 'the', 'three', 'pigs', 'and', 'they', 'made', 'with', 'they', 'went', 'they', 'were', 'given', 'warm', 'but', 'drew', 'close', 'they', 'that', 'folk', 'were', 'back', 'their', 'usual', 'jobs', 'and', 'for', 'came', 'and', 'began', 'rain', 'The', 'three', 'pigs', 'feel', 'they', 'real', 'home', 'Sadly', 'they', 'knew', 'that', 'the', 'fun', 'was', 'over', 'now', 'and', 'they', 'must', 'set', 'work', 'like', 'the', 'theyd', 'left', 'the', 'cold', 'and', 'rain', 'with', 'roof', 'over', 'their', 'heads', 'They', 'about', 'what', 'but', 'each', 'for', 'The', 'pig', 'said', 'hed', 'build', 'straw', 'hut', 'wlll', 'only', 'take', 'day', 'said', 'The', 'Its', 'too', 'they', 'said', 'but', 'Not', 'quite', 'lazy', 'the', 'pig', 'went', 'wood', 'Clunk', 'Clunk', 'Clunk', 'took', 'him', 'two', 'days', 'nail', 'them', 'But', 'the', 'third', 'pig', 'did', 'not', 'like', 'the', 'house', 'Thats', 'not', 'the', 'way', 'build', 'house', 'said', 'takes', 'time', 'and', 'hard', 'work', 'buiid', 'house', 'that', 'stand', 'wind', 'rain', 'and', 'snow', 'and', 'most', 'all', 'from', 'the', 'wolf', 'The', 'days', 'went', 'and', 'the', 'pigs', 'house', 'took', 'shape', 'brick', 'brick', 'From', 'time', 'time', 'his', 'him', 'with', 'Why', 'are', 'you', 'hard', 'Why', 'dont', 'you', 'come', 'and', 'play', 'But', 'the', 'pig', 'just', 'said', 'shall', 'house', 'first', 'must', 'solid', 'and', 'And', 'then', 'Ill', 'come', 'and', 'play', 'said', 'shall', 'not', 'like', 'you', 'For', 'who', 'last', 'was', 'the', 'pig', 'that', 'found', 'the', 'big', 'wolf', 'the', 'The', 'pigs', 'home', 'alarm', 'Along', 'came', 'the', 'wolf', 'the', 'pigs', 'straw', 'hut', 'Come', 'out', 'the', 'wolf', 'his', 'mouth', 'want', 'speak', 'you', 'stay', 'where', 'the', 'pig', 'tiny', 'voice', 'Ill', 'make', 'you', 'come', 'out', 'the', 'wolf', 'and', 'out', 'his', 'chest', 'took', 'very', 'deep', 'Then', 'blew', 'wlth', 'all', 'his', 'might', 'right', 'onto', 'the', 'house', 'And', 'all', 'the', 'straw', 'the', 'silly', 'pig', 'had', 'some', 'thin', 'poles', 'fell', 'down', 'the', 'great', 'blast', 'his', 'own', 'the', 'wolf', 'did', 'not', 'that', 'the', 'pig', 'had', 'out', 'from', 'the', 'heap', 'straw', 'and', 'was', 'his', 'house', 'When', 'that', 'the', 'pig', 'was', 'the', 'wolf', 'grew', 'wild', 'with', 'rage', 'Come', 'back', 'catch', 'the', 'pig', 'ran', 'into', 'the', 'house', 'The', 'other', 'pig', 'his', 'like', 'leaf', 'hope', 'this', 'house', 'wont', 'fall', 'down', 'Lets', 'lean', 'the', 'door', 'cant', 'break', 'the', 'wolf', 'could', 'hear', 'the', 'pigs', 'words', 'was', 'the', 'idea', 'two', 'meal', 'blows', 'the', 'door', 'Open', 'Open', 'only', 'want', 'speak', 'you', 'the', 'two', 'wept', 'fear', 'and', 'did', 'their', 'best', 'hold', 'the', 'door', 'fast', 'the', 'blows', 'Then', 'the', 'wolf', 'new', 'drew', 'and', 'went', 'The', 'house', 'like', 'pack', 'cards', 'the', 'pig', 'had', 'been', 'the', 'scene', 'from', 'the', 'his', 'own', 'brick', 'house', 'and', 'the', 'door', 'his', 'And', 'not', 'too', 'soon', 'for', 'the', 'wolf', 'was', 'the', 'door', 'This', 'time', 'the', 'wolf', 'had', 'grave', 'This', 'house', 'had', 'much', 'more', 'solid', 'air', 'than', 'the', 'blew', 'once', 'blew', 'again', 'and', 'then', 'for', 'third', 'time', 'But', 'all', 'was', 'vain', 'For', 'the', 'house', 'did', 'not', 'budge', 'lnch', 'The', 'three', 'pigs', 'him', 'and', 'their', 'fear', 'began', 'fade', 'Quite', 'his', 'the', 'wolf', 'try', 'one', 'his', 'the', 'roof', 'have', 'look', 'the', 'the', 'pig', 'had', 'seen', 'thls', 'ploy', 'and', 'said', 'Quick', 'Light', 'the', 'fire', 'With', 'his', 'long', 'legs', 'down', 'the', 'the', 'wolf', 'was', 'not', 'sure', 'slide', 'down', 'the', 'black', 'hole', 'easy', 'get', 'but', 'the', 'sound', 'the', 'pigs', 'below', 'only', 'made', 'him', 'feel', 'dying', 'goin', 'try', 'and', 'get', 'down', 'And', 'let', 'drop', 'But', 'was', 'hot', 'too', 'hot', 'The', 'wolf', 'the', 'fire', 'his', 'fall', 'The', 'his', 'hairy', 'coat', 'and', 'his', 'tail', 'torch', 'Never', 'again', 'Never', 'again', 'will', 'down', 'tried', 'put', 'out', 'the', 'his', 'tail', 'Then', 'ran', 'away', 'fast', 'could', 'The', 'three', 'happy', 'pigs', 'round', 'and', 'round', 'the', 'yard', 'began', 'sing', 'Tra', 'Tra', 'The', 'black', 'wolf', 'will', 'never', 'come', 'back', 'From', 'that', 'day', 'the', 'pigs', 'set', 'work', 'with', 'will', 'less', 'than', 'time', 'went', 'the', 'two', 'new', 'brick', 'The', 'wolf', 'did', 'once', 'roam', 'the', 'but', 'when', 'sight', 'three', 'the', 'pain', 'burnt', 'tail', 'and', 'left', 'for', 'good', 'Now', 'safe', 'and', 'happy', 'the', 'pig', 'his', 'more', 'work', 'Come', 'lets', 'and', 'play']\n"
     ]
    }
   ],
   "source": [
    "znajdźka = re.findall(bajka_pattern, bajka)\n",
    "print(znajdźka)"
   ]
  },
  {
   "cell_type": "markdown",
   "id": "525e6c3a",
   "metadata": {},
   "source": [
    "#### Ćwiczenie\n",
    "Wypisz wszystkie zdania kończące się wykrzyknikiem z opowieści o 3 świnkach."
   ]
  },
  {
   "cell_type": "code",
   "execution_count": 103,
   "id": "c0c55926",
   "metadata": {},
   "outputs": [],
   "source": [
    "bajka = open('3_little_pigs.txt').read()\n",
    "bajka = bajka.replace(\"'\",\"\")"
   ]
  },
  {
   "cell_type": "code",
   "execution_count": 162,
   "id": "2e473d6d",
   "metadata": {},
   "outputs": [],
   "source": [
    "bajka_pattern = r'[A-Z][a-z\\s]+!'"
   ]
  },
  {
   "cell_type": "code",
   "execution_count": 163,
   "id": "6f9934d2",
   "metadata": {},
   "outputs": [
    {
     "name": "stdout",
     "output_type": "stream",
     "text": [
      "['Clunk!', 'Clunk!', 'Clunk!', 'Thats not the way to build a house!', 'Ill\\ncome and play!', 'I shall not be foolish like you!', 'Come out!', 'I want to speak to you!', 'I am!', 'Ill make you come out!', 'Come back!', 'I hope this house wont fall down!', 'Lets lean against the door so he cant\\nbreak in!', 'Open up!', 'Open up!', 'I only want to speak to you!', 'Quick!', 'Light the fire!', 'Im dying of hunger!', 'Never again!', 'No more work!']\n"
     ]
    }
   ],
   "source": [
    "znajdźka = re.findall(bajka_pattern, bajka)\n",
    "print(znajdźka)"
   ]
  },
  {
   "cell_type": "markdown",
   "id": "06cdd3f3",
   "metadata": {},
   "source": [
    "#### Ćwiczenie\n",
    "Wyłuskaj loginy i hasła do systemu."
   ]
  },
  {
   "cell_type": "code",
   "execution_count": 167,
   "id": "3fa801e6",
   "metadata": {},
   "outputs": [
    {
     "ename": "FileNotFoundError",
     "evalue": "[Errno 2] No such file or directory: 'hasla.txt'",
     "output_type": "error",
     "traceback": [
      "\u001b[1;31m---------------------------------------------------------------------------\u001b[0m",
      "\u001b[1;31mFileNotFoundError\u001b[0m                         Traceback (most recent call last)",
      "Cell \u001b[1;32mIn[167], line 1\u001b[0m\n\u001b[1;32m----> 1\u001b[0m hasla \u001b[39m=\u001b[39m \u001b[39mopen\u001b[39;49m(\u001b[39m'\u001b[39;49m\u001b[39mhasla.txt\u001b[39;49m\u001b[39m'\u001b[39;49m)\u001b[39m.\u001b[39mread()\n\u001b[0;32m      2\u001b[0m \u001b[39mprint\u001b[39m(hasla)\n",
      "File \u001b[1;32m~\\AppData\\Roaming\\Python\\Python311\\site-packages\\IPython\\core\\interactiveshell.py:282\u001b[0m, in \u001b[0;36m_modified_open\u001b[1;34m(file, *args, **kwargs)\u001b[0m\n\u001b[0;32m    275\u001b[0m \u001b[39mif\u001b[39;00m file \u001b[39min\u001b[39;00m {\u001b[39m0\u001b[39m, \u001b[39m1\u001b[39m, \u001b[39m2\u001b[39m}:\n\u001b[0;32m    276\u001b[0m     \u001b[39mraise\u001b[39;00m \u001b[39mValueError\u001b[39;00m(\n\u001b[0;32m    277\u001b[0m         \u001b[39mf\u001b[39m\u001b[39m\"\u001b[39m\u001b[39mIPython won\u001b[39m\u001b[39m'\u001b[39m\u001b[39mt let you open fd=\u001b[39m\u001b[39m{\u001b[39;00mfile\u001b[39m}\u001b[39;00m\u001b[39m by default \u001b[39m\u001b[39m\"\u001b[39m\n\u001b[0;32m    278\u001b[0m         \u001b[39m\"\u001b[39m\u001b[39mas it is likely to crash IPython. If you know what you are doing, \u001b[39m\u001b[39m\"\u001b[39m\n\u001b[0;32m    279\u001b[0m         \u001b[39m\"\u001b[39m\u001b[39myou can use builtins\u001b[39m\u001b[39m'\u001b[39m\u001b[39m open.\u001b[39m\u001b[39m\"\u001b[39m\n\u001b[0;32m    280\u001b[0m     )\n\u001b[1;32m--> 282\u001b[0m \u001b[39mreturn\u001b[39;00m io_open(file, \u001b[39m*\u001b[39;49margs, \u001b[39m*\u001b[39;49m\u001b[39m*\u001b[39;49mkwargs)\n",
      "\u001b[1;31mFileNotFoundError\u001b[0m: [Errno 2] No such file or directory: 'hasla.txt'"
     ]
    }
   ],
   "source": [
    "hasla = open('hasla.txt').read()\n",
    "print(hasla)"
   ]
  },
  {
   "cell_type": "code",
   "execution_count": 168,
   "id": "ded90cd1",
   "metadata": {},
   "outputs": [
    {
     "ename": "NameError",
     "evalue": "name 'hasla' is not defined",
     "output_type": "error",
     "traceback": [
      "\u001b[1;31m---------------------------------------------------------------------------\u001b[0m",
      "\u001b[1;31mNameError\u001b[0m                                 Traceback (most recent call last)",
      "Cell \u001b[1;32mIn[168], line 3\u001b[0m\n\u001b[0;32m      1\u001b[0m \u001b[39m# tutaj napisz wyrażenie regularne\u001b[39;00m\n\u001b[0;32m      2\u001b[0m pattern \u001b[39m=\u001b[39m \u001b[39mr\u001b[39m\u001b[39m'\u001b[39m\u001b[39m, ([ \u001b[39m\u001b[39m\\\u001b[39m\u001b[39mw])+, login: (\u001b[39m\u001b[39m\\\u001b[39m\u001b[39mw+), haslo: (\u001b[39m\u001b[39m\\\u001b[39m\u001b[39mw+)\u001b[39m\u001b[39m'\u001b[39m\n\u001b[1;32m----> 3\u001b[0m znajdźka \u001b[39m=\u001b[39m re\u001b[39m.\u001b[39mfindall(pattern, hasla)\n\u001b[0;32m      4\u001b[0m znajdźka\n",
      "\u001b[1;31mNameError\u001b[0m: name 'hasla' is not defined"
     ]
    }
   ],
   "source": [
    "# tutaj napisz wyrażenie regularne\n",
    "pattern = r', ([ \\w])+, login: (\\w+), haslo: (\\w+)'\n",
    "znajdźka = re.findall(pattern, hasla)\n",
    "znajdźka"
   ]
  },
  {
   "cell_type": "markdown",
   "id": "d32ee1f2",
   "metadata": {},
   "source": [
    "Uruchom poniższe aby zrobić tabelkę html z hasłami:"
   ]
  },
  {
   "cell_type": "code",
   "execution_count": null,
   "id": "358aa5e3",
   "metadata": {},
   "outputs": [
    {
     "name": "stdout",
     "output_type": "stream",
     "text": [
      "<table><tr style=\"background-color: #ededed;\"><th>Student</th><th>Login</th><th>Hasło</th></tr><tr><td>Michael Scoot</td><td>mscoot</td><td><pre>dsjb0fac2j95g6ru</pre></td></tr><tr  style=\"background-color: #ededed;\"><td>Saul Goodman</td><td>mgoodman</td><td><pre>k5ubinsbf88edno1</pre></td></tr><tr><td>Kim Wexler</td><td>kw</td><td><pre>l2rdr6p0cky3q9de</pre></td></tr><tr  style=\"background-color: #ededed;\"><td>Lalo Salamanka</td><td>lalos</td><td><pre>s4thqibpmjh3dkwj</pre></td></tr><tr><td>Gustawo Fring</td><td>gustaw</td><td><pre>54gjl9vj9rf3i4vi</pre></td></tr></table>\n"
     ]
    }
   ],
   "source": [
    "table_css = \" style='border-collapse: collapse;border: none;' \"\n",
    "tr_css = \" style='background-color: #ededed;' \"\n",
    "th_css = None\n",
    "td_css = \" style='border: 2px solid #ccf;background-color: #f4f4ff;' \"\n",
    "nowe_hasla = str()\n",
    "nowe_hasla+='<table><tr style=\"background-color: #ededed;\"><th>Student</th><th>Login</th><th>Hasło</th></tr>'\n",
    "i=0\n",
    "for name,login,passwd in znajdźka:\n",
    "    if i%2==0 :\n",
    "        nowe_hasla+= '<tr><td>'+str(name)+'</td><td>'+str(login)+'</td><td><pre>'+str(passwd)+'</pre></td></tr>'\n",
    "    else :\n",
    "        nowe_hasla += '<tr  style=\"background-color: #ededed;\"><td>'+str(name)+'</td><td>'+str(login)+'</td><td><pre>'+str(passwd)+'</pre></td></tr>'\n",
    "    i=i+1\n",
    "nowe_hasla +='</table>'\n",
    "print(nowe_hasla)"
   ]
  },
  {
   "cell_type": "code",
   "execution_count": null,
   "id": "1071925d",
   "metadata": {},
   "outputs": [],
   "source": [
    "with open('nowe_hasla.html') as plik:\n",
    "    plik.write(nowe_hasla)"
   ]
  }
 ],
 "metadata": {
  "kernelspec": {
   "display_name": "Python 3",
   "language": "python",
   "name": "python3"
  },
  "language_info": {
   "codemirror_mode": {
    "name": "ipython",
    "version": 3
   },
   "file_extension": ".py",
   "mimetype": "text/x-python",
   "name": "python",
   "nbconvert_exporter": "python",
   "pygments_lexer": "ipython3",
   "version": "3.11.2"
  }
 },
 "nbformat": 4,
 "nbformat_minor": 5
}
